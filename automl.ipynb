{
  "cells": [
    {
      "cell_type": "markdown",
      "metadata": {},
      "source": [
        "# Automated ML\n",
        "\n",
        "Importing Dependencies:"
      ]
    },
    {
      "cell_type": "code",
      "execution_count": 1,
      "metadata": {
        "gather": {
          "logged": 1646164970490
        },
        "jupyter": {
          "outputs_hidden": false,
          "source_hidden": false
        },
        "nteract": {
          "transient": {
            "deleting": false
          }
        }
      },
      "outputs": [
        {
          "name": "stdout",
          "output_type": "stream",
          "text": [
            "SDK version: 1.38.0\n"
          ]
        }
      ],
      "source": [
        "import logging\n",
        "import os\n",
        "import csv\n",
        "import joblib\n",
        "import requests\n",
        "import json\n",
        "\n",
        "from matplotlib import pyplot as plt\n",
        "import numpy as np\n",
        "import pandas as pd\n",
        "from sklearn import datasets\n",
        "import pkg_resources\n",
        "\n",
        "import azureml.core\n",
        "from azureml.core.model import InferenceConfig\n",
        "from azureml.core.experiment import Experiment\n",
        "from azureml.core.workspace import Workspace\n",
        "from azureml.train.automl import AutoMLConfig\n",
        "from azureml.core.dataset import Dataset\n",
        "from azureml.core.compute import AmlCompute\n",
        "from azureml.core.compute import ComputeTarget\n",
        "from azureml.core.compute_target import ComputeTargetException\n",
        "from azureml.widgets import RunDetails\n",
        "from azureml.core import Model, Environment\n",
        "from azureml.core.webservice import AciWebservice\n",
        "\n",
        "from azureml.pipeline.steps import AutoMLStep\n",
        "\n",
        "# Check core SDK version number\n",
        "print(\"SDK version:\", azureml.core.VERSION)"
      ]
    },
    {
      "cell_type": "markdown",
      "metadata": {},
      "source": [
        "## Dataset\n",
        "\n",
        "### Overview\n",
        "The dataset chosen is the heart disease UCI data from Kaggle. The data contains some features and attributes from individuals and a classification of if they have heart disease or not. The purpose of using this dataset is to create a model that can predict if individuals are likely to have heart disease, based on the same measured features and data.\n"
      ]
    },
    {
      "cell_type": "code",
      "execution_count": 2,
      "metadata": {
        "gather": {
          "logged": 1646165322702
        },
        "jupyter": {
          "outputs_hidden": false,
          "source_hidden": false
        },
        "nteract": {
          "transient": {
            "deleting": false
          }
        }
      },
      "outputs": [
        {
          "name": "stdout",
          "output_type": "stream",
          "text": [
            "quick-starts-ws-187769\n",
            "aml-quickstarts-187769\n",
            "southcentralus\n",
            "81cefad3-d2c9-4f77-a466-99a7f541c7bb\n"
          ]
        }
      ],
      "source": [
        "ws = Workspace.from_config()\n",
        "print(ws.name, ws.resource_group, ws.location, ws.subscription_id, sep = '\\n')\n",
        "\n",
        "experiment_name = 'automl-exp'\n",
        "\n",
        "experiment=Experiment(ws, experiment_name)"
      ]
    },
    {
      "cell_type": "code",
      "execution_count": 3,
      "metadata": {
        "gather": {
          "logged": 1646165331264
        }
      },
      "outputs": [
        {
          "data": {
            "text/html": [
              "<div>\n",
              "<style scoped>\n",
              "    .dataframe tbody tr th:only-of-type {\n",
              "        vertical-align: middle;\n",
              "    }\n",
              "\n",
              "    .dataframe tbody tr th {\n",
              "        vertical-align: top;\n",
              "    }\n",
              "\n",
              "    .dataframe thead th {\n",
              "        text-align: right;\n",
              "    }\n",
              "</style>\n",
              "<table border=\"1\" class=\"dataframe\">\n",
              "  <thead>\n",
              "    <tr style=\"text-align: right;\">\n",
              "      <th></th>\n",
              "      <th>age</th>\n",
              "      <th>sex</th>\n",
              "      <th>cp</th>\n",
              "      <th>trestbps</th>\n",
              "      <th>chol</th>\n",
              "      <th>fbs</th>\n",
              "      <th>restecg</th>\n",
              "      <th>thalach</th>\n",
              "      <th>exang</th>\n",
              "      <th>oldpeak</th>\n",
              "      <th>slope</th>\n",
              "      <th>ca</th>\n",
              "      <th>thal</th>\n",
              "      <th>target</th>\n",
              "    </tr>\n",
              "  </thead>\n",
              "  <tbody>\n",
              "    <tr>\n",
              "      <th>count</th>\n",
              "      <td>303.000000</td>\n",
              "      <td>303.000000</td>\n",
              "      <td>303.000000</td>\n",
              "      <td>303.000000</td>\n",
              "      <td>303.000000</td>\n",
              "      <td>303.000000</td>\n",
              "      <td>303.000000</td>\n",
              "      <td>303.000000</td>\n",
              "      <td>303.000000</td>\n",
              "      <td>303.000000</td>\n",
              "      <td>303.000000</td>\n",
              "      <td>303.000000</td>\n",
              "      <td>303.000000</td>\n",
              "      <td>303.000000</td>\n",
              "    </tr>\n",
              "    <tr>\n",
              "      <th>mean</th>\n",
              "      <td>54.366337</td>\n",
              "      <td>0.683168</td>\n",
              "      <td>0.966997</td>\n",
              "      <td>131.623762</td>\n",
              "      <td>246.264026</td>\n",
              "      <td>0.148515</td>\n",
              "      <td>0.528053</td>\n",
              "      <td>149.646865</td>\n",
              "      <td>0.326733</td>\n",
              "      <td>1.039604</td>\n",
              "      <td>1.399340</td>\n",
              "      <td>0.729373</td>\n",
              "      <td>2.313531</td>\n",
              "      <td>0.544554</td>\n",
              "    </tr>\n",
              "    <tr>\n",
              "      <th>std</th>\n",
              "      <td>9.082101</td>\n",
              "      <td>0.466011</td>\n",
              "      <td>1.032052</td>\n",
              "      <td>17.538143</td>\n",
              "      <td>51.830751</td>\n",
              "      <td>0.356198</td>\n",
              "      <td>0.525860</td>\n",
              "      <td>22.905161</td>\n",
              "      <td>0.469794</td>\n",
              "      <td>1.161075</td>\n",
              "      <td>0.616226</td>\n",
              "      <td>1.022606</td>\n",
              "      <td>0.612277</td>\n",
              "      <td>0.498835</td>\n",
              "    </tr>\n",
              "    <tr>\n",
              "      <th>min</th>\n",
              "      <td>29.000000</td>\n",
              "      <td>0.000000</td>\n",
              "      <td>0.000000</td>\n",
              "      <td>94.000000</td>\n",
              "      <td>126.000000</td>\n",
              "      <td>0.000000</td>\n",
              "      <td>0.000000</td>\n",
              "      <td>71.000000</td>\n",
              "      <td>0.000000</td>\n",
              "      <td>0.000000</td>\n",
              "      <td>0.000000</td>\n",
              "      <td>0.000000</td>\n",
              "      <td>0.000000</td>\n",
              "      <td>0.000000</td>\n",
              "    </tr>\n",
              "    <tr>\n",
              "      <th>25%</th>\n",
              "      <td>47.500000</td>\n",
              "      <td>0.000000</td>\n",
              "      <td>0.000000</td>\n",
              "      <td>120.000000</td>\n",
              "      <td>211.000000</td>\n",
              "      <td>0.000000</td>\n",
              "      <td>0.000000</td>\n",
              "      <td>133.500000</td>\n",
              "      <td>0.000000</td>\n",
              "      <td>0.000000</td>\n",
              "      <td>1.000000</td>\n",
              "      <td>0.000000</td>\n",
              "      <td>2.000000</td>\n",
              "      <td>0.000000</td>\n",
              "    </tr>\n",
              "    <tr>\n",
              "      <th>50%</th>\n",
              "      <td>55.000000</td>\n",
              "      <td>1.000000</td>\n",
              "      <td>1.000000</td>\n",
              "      <td>130.000000</td>\n",
              "      <td>240.000000</td>\n",
              "      <td>0.000000</td>\n",
              "      <td>1.000000</td>\n",
              "      <td>153.000000</td>\n",
              "      <td>0.000000</td>\n",
              "      <td>0.800000</td>\n",
              "      <td>1.000000</td>\n",
              "      <td>0.000000</td>\n",
              "      <td>2.000000</td>\n",
              "      <td>1.000000</td>\n",
              "    </tr>\n",
              "    <tr>\n",
              "      <th>75%</th>\n",
              "      <td>61.000000</td>\n",
              "      <td>1.000000</td>\n",
              "      <td>2.000000</td>\n",
              "      <td>140.000000</td>\n",
              "      <td>274.500000</td>\n",
              "      <td>0.000000</td>\n",
              "      <td>1.000000</td>\n",
              "      <td>166.000000</td>\n",
              "      <td>1.000000</td>\n",
              "      <td>1.600000</td>\n",
              "      <td>2.000000</td>\n",
              "      <td>1.000000</td>\n",
              "      <td>3.000000</td>\n",
              "      <td>1.000000</td>\n",
              "    </tr>\n",
              "    <tr>\n",
              "      <th>max</th>\n",
              "      <td>77.000000</td>\n",
              "      <td>1.000000</td>\n",
              "      <td>3.000000</td>\n",
              "      <td>200.000000</td>\n",
              "      <td>564.000000</td>\n",
              "      <td>1.000000</td>\n",
              "      <td>2.000000</td>\n",
              "      <td>202.000000</td>\n",
              "      <td>1.000000</td>\n",
              "      <td>6.200000</td>\n",
              "      <td>2.000000</td>\n",
              "      <td>4.000000</td>\n",
              "      <td>3.000000</td>\n",
              "      <td>1.000000</td>\n",
              "    </tr>\n",
              "  </tbody>\n",
              "</table>\n",
              "</div>"
            ],
            "text/plain": [
              "              age         sex          cp    trestbps        chol         fbs  \\\n",
              "count  303.000000  303.000000  303.000000  303.000000  303.000000  303.000000   \n",
              "mean    54.366337    0.683168    0.966997  131.623762  246.264026    0.148515   \n",
              "std      9.082101    0.466011    1.032052   17.538143   51.830751    0.356198   \n",
              "min     29.000000    0.000000    0.000000   94.000000  126.000000    0.000000   \n",
              "25%     47.500000    0.000000    0.000000  120.000000  211.000000    0.000000   \n",
              "50%     55.000000    1.000000    1.000000  130.000000  240.000000    0.000000   \n",
              "75%     61.000000    1.000000    2.000000  140.000000  274.500000    0.000000   \n",
              "max     77.000000    1.000000    3.000000  200.000000  564.000000    1.000000   \n",
              "\n",
              "          restecg     thalach       exang     oldpeak       slope          ca  \\\n",
              "count  303.000000  303.000000  303.000000  303.000000  303.000000  303.000000   \n",
              "mean     0.528053  149.646865    0.326733    1.039604    1.399340    0.729373   \n",
              "std      0.525860   22.905161    0.469794    1.161075    0.616226    1.022606   \n",
              "min      0.000000   71.000000    0.000000    0.000000    0.000000    0.000000   \n",
              "25%      0.000000  133.500000    0.000000    0.000000    1.000000    0.000000   \n",
              "50%      1.000000  153.000000    0.000000    0.800000    1.000000    0.000000   \n",
              "75%      1.000000  166.000000    1.000000    1.600000    2.000000    1.000000   \n",
              "max      2.000000  202.000000    1.000000    6.200000    2.000000    4.000000   \n",
              "\n",
              "             thal      target  \n",
              "count  303.000000  303.000000  \n",
              "mean     2.313531    0.544554  \n",
              "std      0.612277    0.498835  \n",
              "min      0.000000    0.000000  \n",
              "25%      2.000000    0.000000  \n",
              "50%      2.000000    1.000000  \n",
              "75%      3.000000    1.000000  \n",
              "max      3.000000    1.000000  "
            ]
          },
          "execution_count": 3,
          "metadata": {},
          "output_type": "execute_result"
        }
      ],
      "source": [
        "found = False\n",
        "key = \"heartdisease\"\n",
        "description_text = \"\"\n",
        "\n",
        "if key in ws.datasets.keys(): \n",
        "        found = True\n",
        "        dataset = ws.datasets[key] \n",
        "\n",
        "df = dataset.to_pandas_dataframe()        \n",
        "df.describe()"
      ]
    },
    {
      "cell_type": "markdown",
      "metadata": {},
      "source": [
        "## AutoML Configuration\n",
        "\n",
        "This is a binary classification problem with 13 features, so a classification has been chosen. I chose accuracy as the primary metric because I will be comparing this to a logisitic regression with Hyperdrive and accuracy is a suitable metric for comparison. The timeout setting is set to 1 hour as it is unlikely that this size of dataset with this many features will need more than 1 hour to find a good model. "
      ]
    },
    {
      "cell_type": "code",
      "execution_count": 6,
      "metadata": {
        "gather": {
          "logged": 1646046306799
        }
      },
      "outputs": [
        {
          "name": "stdout",
          "output_type": "stream",
          "text": [
            "New cluster created.\n",
            "InProgress.\n",
            "SucceededProvisioning operation finished, operation \"Succeeded\"\n",
            "Succeeded......................................................................................................................\n",
            "AmlCompute wait for completion finished\n",
            "\n",
            "Wait timeout has been reached\n",
            "Current provisioning state of AmlCompute is \"Succeeded\" and current node count is \"0\"\n"
          ]
        }
      ],
      "source": [
        "amlcompute_cluster_name = \"automl-cluster\"\n",
        "try:\n",
        "    compute_target = ComputeTarget(workspace=ws, name=amlcompute_cluster_name)\n",
        "    print('Existing cluster found, this cluster will be used.')\n",
        "except ComputeTargetException:\n",
        "    compute_config = AmlCompute.provisioning_configuration(vm_size='STANDARD_DS12_V2',\n",
        "                                                           vm_priority = 'lowpriority',\n",
        "                                                           max_nodes=5)\n",
        "    compute_target = ComputeTarget.create(ws, amlcompute_cluster_name, compute_config)\n",
        "    print('Cluster created successfully.')\n",
        "\n",
        "compute_target.wait_for_completion()\n"
      ]
    },
    {
      "cell_type": "code",
      "execution_count": 7,
      "metadata": {
        "gather": {
          "logged": 1646046457875
        },
        "jupyter": {
          "outputs_hidden": false,
          "source_hidden": false
        },
        "nteract": {
          "transient": {
            "deleting": false
          }
        }
      },
      "outputs": [],
      "source": [
        "# TODO: Put your automl settings here\n",
        "automl_settings = {\n",
        "    \"experiment_timeout_minutes\": 60,\n",
        "    \"max_concurrent_iterations\": 5,\n",
        "    \"primary_metric\" : 'accuracy'\n",
        "    }\n",
        "\n",
        "# TODO: Put your automl config here\n",
        "automl_config = AutoMLConfig(compute_target=compute_target,\n",
        "                             task = \"classification\",\n",
        "                             training_data=dataset,\n",
        "                             label_column_name=\"target\",   \n",
        "                             enable_early_stopping= True,\n",
        "                             featurization= 'auto',\n",
        "                             debug_log = \"automl_errors.log\",\n",
        "                             **automl_settings\n",
        "                             )"
      ]
    },
    {
      "cell_type": "code",
      "execution_count": 8,
      "metadata": {
        "gather": {
          "logged": 1646046467981
        },
        "jupyter": {
          "outputs_hidden": false,
          "source_hidden": false
        },
        "nteract": {
          "transient": {
            "deleting": false
          }
        }
      },
      "outputs": [
        {
          "name": "stdout",
          "output_type": "stream",
          "text": [
            "Submitting remote run.\n"
          ]
        },
        {
          "data": {
            "text/html": [
              "<table style=\"width:100%\"><tr><th>Experiment</th><th>Id</th><th>Type</th><th>Status</th><th>Details Page</th><th>Docs Page</th></tr><tr><td>automl-exp</td><td>AutoML_e5ea044e-9331-43d9-a18a-e984edae10f1</td><td>automl</td><td>NotStarted</td><td><a href=\"https://ml.azure.com/runs/AutoML_e5ea044e-9331-43d9-a18a-e984edae10f1?wsid=/subscriptions/9a7511b8-150f-4a58-8528-3e7d50216c31/resourcegroups/aml-quickstarts-187667/workspaces/quick-starts-ws-187667&amp;tid=660b3398-b80e-49d2-bc5b-ac1dc93b5254\" target=\"_blank\" rel=\"noopener\">Link to Azure Machine Learning studio</a></td><td><a href=\"https://docs.microsoft.com/en-us/python/api/overview/azure/ml/intro?view=azure-ml-py\" target=\"_blank\" rel=\"noopener\">Link to Documentation</a></td></tr></table>"
            ],
            "text/plain": [
              "<IPython.core.display.HTML object>"
            ]
          },
          "metadata": {},
          "output_type": "display_data"
        }
      ],
      "source": [
        "# TODO: Submit your experiment\n",
        "remote_run = experiment.submit(automl_config)"
      ]
    },
    {
      "cell_type": "markdown",
      "metadata": {},
      "source": [
        "## Run Details"
      ]
    },
    {
      "cell_type": "code",
      "execution_count": 15,
      "metadata": {
        "gather": {
          "logged": 1646176226874
        }
      },
      "outputs": [
        {
          "data": {
            "application/vnd.jupyter.widget-view+json": {
              "model_id": "0f8c755e78d94bdfb94bcfc329e2b6af",
              "version_major": 2,
              "version_minor": 0
            },
            "text/plain": [
              "_AutoMLWidget(widget_settings={'childWidgetDisplay': 'popup', 'send_telemetry': False, 'log_level': 'INFO', 's…"
            ]
          },
          "metadata": {},
          "output_type": "display_data"
        },
        {
          "data": {
            "application/aml.mini.widget.v1": "{\"status\": \"Completed\", \"workbench_run_details_uri\": \"https://ml.azure.com/runs/AutoML_6587d7c3-54cd-4456-a9f7-6ebe214306a1?wsid=/subscriptions/81cefad3-d2c9-4f77-a466-99a7f541c7bb/resourcegroups/aml-quickstarts-187769/workspaces/quick-starts-ws-187769&tid=660b3398-b80e-49d2-bc5b-ac1dc93b5254\", \"run_id\": \"AutoML_6587d7c3-54cd-4456-a9f7-6ebe214306a1\", \"run_properties\": {\"run_id\": \"AutoML_6587d7c3-54cd-4456-a9f7-6ebe214306a1\", \"created_utc\": \"2022-03-01T20:19:30.016473Z\", \"properties\": {\"num_iterations\": \"1000\", \"training_type\": \"TrainFull\", \"acquisition_function\": \"EI\", \"primary_metric\": \"accuracy\", \"train_split\": \"0\", \"acquisition_parameter\": \"0\", \"num_cross_validation\": null, \"target\": \"automl-cluster\", \"AMLSettingsJsonString\": \"{\\\"path\\\":null,\\\"name\\\":\\\"automl-exp\\\",\\\"subscription_id\\\":\\\"81cefad3-d2c9-4f77-a466-99a7f541c7bb\\\",\\\"resource_group\\\":\\\"aml-quickstarts-187769\\\",\\\"workspace_name\\\":\\\"quick-starts-ws-187769\\\",\\\"region\\\":\\\"southcentralus\\\",\\\"compute_target\\\":\\\"automl-cluster\\\",\\\"spark_service\\\":null,\\\"azure_service\\\":\\\"remote\\\",\\\"many_models\\\":false,\\\"pipeline_fetch_max_batch_size\\\":1,\\\"enable_batch_run\\\":true,\\\"enable_run_restructure\\\":false,\\\"start_auxiliary_runs_before_parent_complete\\\":false,\\\"enable_code_generation\\\":false,\\\"iterations\\\":1000,\\\"primary_metric\\\":\\\"accuracy\\\",\\\"task_type\\\":\\\"classification\\\",\\\"positive_label\\\":null,\\\"data_script\\\":null,\\\"test_size\\\":0.0,\\\"test_include_predictions_only\\\":false,\\\"validation_size\\\":0.0,\\\"n_cross_validations\\\":null,\\\"y_min\\\":null,\\\"y_max\\\":null,\\\"num_classes\\\":null,\\\"featurization\\\":\\\"auto\\\",\\\"_ignore_package_version_incompatibilities\\\":false,\\\"is_timeseries\\\":false,\\\"max_cores_per_iteration\\\":1,\\\"max_concurrent_iterations\\\":5,\\\"iteration_timeout_minutes\\\":null,\\\"mem_in_mb\\\":null,\\\"enforce_time_on_windows\\\":false,\\\"experiment_timeout_minutes\\\":60,\\\"experiment_exit_score\\\":null,\\\"whitelist_models\\\":null,\\\"blacklist_algos\\\":[\\\"TensorFlowLinearClassifier\\\",\\\"TensorFlowDNN\\\"],\\\"supported_models\\\":[\\\"SGD\\\",\\\"TensorFlowDNN\\\",\\\"KNN\\\",\\\"TensorFlowLinearClassifier\\\",\\\"AveragedPerceptronClassifier\\\",\\\"LogisticRegression\\\",\\\"DecisionTree\\\",\\\"RandomForest\\\",\\\"LightGBM\\\",\\\"GradientBoosting\\\",\\\"XGBoostClassifier\\\",\\\"LinearSVM\\\",\\\"ExtremeRandomTrees\\\",\\\"BernoulliNaiveBayes\\\",\\\"SVM\\\",\\\"MultinomialNaiveBayes\\\",\\\"TabnetClassifier\\\"],\\\"private_models\\\":[],\\\"auto_blacklist\\\":true,\\\"blacklist_samples_reached\\\":false,\\\"exclude_nan_labels\\\":true,\\\"verbosity\\\":20,\\\"_debug_log\\\":\\\"azureml_automl.log\\\",\\\"show_warnings\\\":false,\\\"model_explainability\\\":true,\\\"service_url\\\":null,\\\"sdk_url\\\":null,\\\"sdk_packages\\\":null,\\\"enable_onnx_compatible_models\\\":false,\\\"enable_split_onnx_featurizer_estimator_models\\\":false,\\\"vm_type\\\":\\\"STANDARD_DS12_V2\\\",\\\"telemetry_verbosity\\\":20,\\\"send_telemetry\\\":true,\\\"enable_dnn\\\":false,\\\"scenario\\\":\\\"SDK-1.13.0\\\",\\\"environment_label\\\":null,\\\"save_mlflow\\\":false,\\\"enable_categorical_indicators\\\":false,\\\"force_text_dnn\\\":false,\\\"enable_feature_sweeping\\\":true,\\\"enable_early_stopping\\\":true,\\\"early_stopping_n_iters\\\":10,\\\"arguments\\\":null,\\\"dataset_id\\\":null,\\\"hyperdrive_config\\\":null,\\\"validation_dataset_id\\\":null,\\\"run_source\\\":null,\\\"metrics\\\":null,\\\"enable_metric_confidence\\\":false,\\\"enable_ensembling\\\":true,\\\"enable_stack_ensembling\\\":true,\\\"ensemble_iterations\\\":15,\\\"enable_tf\\\":false,\\\"enable_subsampling\\\":null,\\\"subsample_seed\\\":null,\\\"enable_nimbusml\\\":false,\\\"enable_streaming\\\":false,\\\"force_streaming\\\":false,\\\"track_child_runs\\\":true,\\\"allowed_private_models\\\":[],\\\"label_column_name\\\":\\\"target\\\",\\\"weight_column_name\\\":null,\\\"cv_split_column_names\\\":null,\\\"enable_local_managed\\\":false,\\\"_local_managed_run_id\\\":null,\\\"cost_mode\\\":1,\\\"lag_length\\\":0,\\\"metric_operation\\\":\\\"maximize\\\",\\\"preprocess\\\":true}\", \"DataPrepJsonString\": \"{\\\\\\\"training_data\\\\\\\": {\\\\\\\"datasetId\\\\\\\": \\\\\\\"f826a4c8-6229-4817-b7b3-8834af7890a0\\\\\\\"}, \\\\\\\"datasets\\\\\\\": 0}\", \"EnableSubsampling\": null, \"runTemplate\": \"AutoML\", \"azureml.runsource\": \"automl\", \"display_task_type\": \"classification\", \"dependencies_versions\": \"{\\\"azureml-widgets\\\": \\\"1.38.0\\\", \\\"azureml-train\\\": \\\"1.38.0\\\", \\\"azureml-train-restclients-hyperdrive\\\": \\\"1.38.0\\\", \\\"azureml-train-core\\\": \\\"1.38.0\\\", \\\"azureml-train-automl\\\": \\\"1.38.0\\\", \\\"azureml-train-automl-runtime\\\": \\\"1.38.0\\\", \\\"azureml-train-automl-client\\\": \\\"1.38.0\\\", \\\"azureml-tensorboard\\\": \\\"1.38.0\\\", \\\"azureml-telemetry\\\": \\\"1.38.0\\\", \\\"azureml-sdk\\\": \\\"1.38.0\\\", \\\"azureml-responsibleai\\\": \\\"1.38.0\\\", \\\"azureml-pipeline\\\": \\\"1.38.0\\\", \\\"azureml-pipeline-steps\\\": \\\"1.38.0\\\", \\\"azureml-pipeline-core\\\": \\\"1.38.0\\\", \\\"azureml-opendatasets\\\": \\\"1.38.0\\\", \\\"azureml-mlflow\\\": \\\"1.38.0\\\", \\\"azureml-interpret\\\": \\\"1.38.0\\\", \\\"azureml-inference-server-http\\\": \\\"0.4.2\\\", \\\"azureml-explain-model\\\": \\\"1.38.0\\\", \\\"azureml-defaults\\\": \\\"1.38.0\\\", \\\"azureml-dataset-runtime\\\": \\\"1.38.0\\\", \\\"azureml-dataprep\\\": \\\"2.26.0\\\", \\\"azureml-dataprep-rslex\\\": \\\"2.2.0\\\", \\\"azureml-dataprep-native\\\": \\\"38.0.0\\\", \\\"azureml-datadrift\\\": \\\"1.38.0\\\", \\\"azureml-core\\\": \\\"1.38.0\\\", \\\"azureml-contrib-services\\\": \\\"1.38.0\\\", \\\"azureml-contrib-server\\\": \\\"1.38.0\\\", \\\"azureml-contrib-reinforcementlearning\\\": \\\"1.38.0\\\", \\\"azureml-contrib-pipeline-steps\\\": \\\"1.38.0\\\", \\\"azureml-contrib-notebook\\\": \\\"1.38.0\\\", \\\"azureml-contrib-fairness\\\": \\\"1.38.0\\\", \\\"azureml-contrib-dataset\\\": \\\"1.38.0\\\", \\\"azureml-contrib-automl-pipeline-steps\\\": \\\"1.38.0\\\", \\\"azureml-cli-common\\\": \\\"1.38.0\\\", \\\"azureml-automl-runtime\\\": \\\"1.38.0\\\", \\\"azureml-automl-dnn-nlp\\\": \\\"1.38.0\\\", \\\"azureml-automl-core\\\": \\\"1.38.0\\\", \\\"azureml-accel-models\\\": \\\"1.38.0\\\"}\", \"_aml_system_scenario_identification\": \"Remote.Parent\", \"ClientType\": \"SDK\", \"environment_cpu_name\": \"AzureML-AutoML\", \"environment_cpu_label\": \"py36\", \"environment_gpu_name\": \"AzureML-AutoML-GPU\", \"environment_gpu_label\": \"py36\", \"root_attribution\": \"automl\", \"attribution\": \"AutoML\", \"Orchestrator\": \"AutoML\", \"CancelUri\": \"https://southcentralus.api.azureml.ms/jasmine/v1.0/subscriptions/81cefad3-d2c9-4f77-a466-99a7f541c7bb/resourceGroups/aml-quickstarts-187769/providers/Microsoft.MachineLearningServices/workspaces/quick-starts-ws-187769/experimentids/4f2085f3-bad8-45ab-a94e-c0c53b0bcf39/cancel/AutoML_6587d7c3-54cd-4456-a9f7-6ebe214306a1\", \"ClientSdkVersion\": \"1.38.0\", \"snapshotId\": \"00000000-0000-0000-0000-000000000000\", \"SetupRunId\": \"AutoML_6587d7c3-54cd-4456-a9f7-6ebe214306a1_setup\", \"SetupRunContainerId\": \"dcid.AutoML_6587d7c3-54cd-4456-a9f7-6ebe214306a1_setup\", \"FeaturizationRunJsonPath\": \"featurizer_container.json\", \"FeaturizationRunId\": \"AutoML_6587d7c3-54cd-4456-a9f7-6ebe214306a1_featurize\", \"ProblemInfoJsonString\": \"{\\\"dataset_num_categorical\\\": 0, \\\"is_sparse\\\": true, \\\"subsampling\\\": false, \\\"has_extra_col\\\": true, \\\"dataset_classes\\\": 2, \\\"dataset_features\\\": 27, \\\"dataset_samples\\\": 303, \\\"single_frequency_class_detected\\\": false}\", \"ModelExplainRunId\": \"AutoML_6587d7c3-54cd-4456-a9f7-6ebe214306a1_ModelExplain\"}, \"tags\": {\"model_explain_run\": \"best_run\", \"_aml_system_azureml.automlComponent\": \"AutoML\", \"pipeline_id\": \"\", \"score\": \"\", \"predicted_cost\": \"\", \"fit_time\": \"\", \"training_percent\": \"\", \"iteration\": \"\", \"run_preprocessor\": \"\", \"run_algorithm\": \"\", \"dynamic_whitelisting_iterations\": \"<25>;<30>;<35>;<40>;<45>;<50>;\", \"_aml_system_azureml.automl_early_exit_message\": \"No scores improved over last 20 iterations, so experiment stopped early. This early stopping behavior can be disabled by setting enable_early_stopping = False in AutoMLConfig for notebook/python SDK runs.\", \"automl_best_child_run_id\": \"AutoML_6587d7c3-54cd-4456-a9f7-6ebe214306a1_52\", \"model_explain_best_run_child_id\": \"AutoML_6587d7c3-54cd-4456-a9f7-6ebe214306a1_52\"}, \"end_time_utc\": \"2022-03-01T20:43:36.676871Z\", \"status\": \"Completed\", \"log_files\": {}, \"log_groups\": [], \"run_duration\": \"0:24:06\", \"run_number\": \"1646165970\", \"run_queued_details\": {\"status\": \"Completed\", \"details\": null}}, \"child_runs\": [{\"run_id\": \"AutoML_6587d7c3-54cd-4456-a9f7-6ebe214306a1_setup\", \"run_number\": 1646165983, \"metric\": null, \"status\": \"Completed\", \"run_type\": \"azureml.scriptrun\", \"training_percent\": null, \"start_time\": \"2022-03-01T20:25:48.803192Z\", \"end_time\": \"2022-03-01T20:26:28.955622Z\", \"created_time\": \"2022-03-01T20:19:43.283286Z\", \"created_time_dt\": \"2022-03-01T20:19:43.283286Z\", \"duration\": \"0:06:45\", \"iteration\": null, \"goal\": null, \"run_name\": \"Completed\", \"run_properties\": null}, {\"run_id\": \"AutoML_6587d7c3-54cd-4456-a9f7-6ebe214306a1_featurize\", \"run_number\": 1646166389, \"metric\": null, \"status\": \"Completed\", \"run_type\": \"automl.featurization\", \"training_percent\": null, \"start_time\": \"2022-03-01T20:26:29.796561Z\", \"end_time\": \"2022-03-01T20:27:06.8586Z\", \"created_time\": \"2022-03-01T20:26:29.387109Z\", \"created_time_dt\": \"2022-03-01T20:26:29.387109Z\", \"duration\": \"0:00:37\", \"iteration\": null, \"goal\": null, \"run_name\": \"Completed\", \"run_properties\": null}, {\"run_id\": \"AutoML_6587d7c3-54cd-4456-a9f7-6ebe214306a1_0\", \"run_number\": 1646166428, \"metric\": null, \"status\": \"Completed\", \"run_type\": null, \"training_percent\": \"100\", \"start_time\": \"2022-03-01T20:27:24.473648Z\", \"end_time\": \"2022-03-01T20:27:33.162034Z\", \"created_time\": \"2022-03-01T20:27:08.592898Z\", \"created_time_dt\": \"2022-03-01T20:27:08.592898Z\", \"duration\": \"0:00:24\", \"iteration\": \"0\", \"goal\": \"accuracy_max\", \"run_name\": \"MaxAbsScaler, LightGBM\", \"run_properties\": \"copy=True\", \"primary_metric\": 0.81150538, \"best_metric\": 0.81150538}, {\"run_id\": \"AutoML_6587d7c3-54cd-4456-a9f7-6ebe214306a1_1\", \"run_number\": 1646166429, \"metric\": null, \"status\": \"Completed\", \"run_type\": null, \"training_percent\": \"100\", \"start_time\": \"2022-03-01T20:27:33.377625Z\", \"end_time\": \"2022-03-01T20:27:41.840742Z\", \"created_time\": \"2022-03-01T20:27:09.235287Z\", \"created_time_dt\": \"2022-03-01T20:27:09.235287Z\", \"duration\": \"0:00:32\", \"iteration\": \"1\", \"goal\": \"accuracy_max\", \"run_name\": \"MaxAbsScaler, XGBoostClassifier\", \"run_properties\": \"copy=True\", \"primary_metric\": 0.81795699, \"best_metric\": 0.81795699}, {\"run_id\": \"AutoML_6587d7c3-54cd-4456-a9f7-6ebe214306a1_2\", \"run_number\": 1646166430, \"metric\": null, \"status\": \"Completed\", \"run_type\": null, \"training_percent\": \"100\", \"start_time\": \"2022-03-01T20:27:42.044059Z\", \"end_time\": \"2022-03-01T20:27:52.062624Z\", \"created_time\": \"2022-03-01T20:27:10.047281Z\", \"created_time_dt\": \"2022-03-01T20:27:10.047281Z\", \"duration\": \"0:00:42\", \"iteration\": \"2\", \"goal\": \"accuracy_max\", \"run_name\": \"MaxAbsScaler, ExtremeRandomTrees\", \"run_properties\": \"copy=True\", \"primary_metric\": 0.84107527, \"best_metric\": 0.84107527}, {\"run_id\": \"AutoML_6587d7c3-54cd-4456-a9f7-6ebe214306a1_3\", \"run_number\": 1646166432, \"metric\": null, \"status\": \"Completed\", \"run_type\": null, \"training_percent\": \"100\", \"start_time\": \"2022-03-01T20:27:52.263089Z\", \"end_time\": \"2022-03-01T20:28:00.370475Z\", \"created_time\": \"2022-03-01T20:27:10.676016Z\", \"created_time_dt\": \"2022-03-01T20:27:10.676016Z\", \"duration\": \"0:00:49\", \"iteration\": \"3\", \"goal\": \"accuracy_max\", \"run_name\": \"SparseNormalizer, XGBoostClassifier\", \"run_properties\": \"copy=True, norm='l2'\", \"primary_metric\": 0.81817204, \"best_metric\": 0.84107527}, {\"run_id\": \"AutoML_6587d7c3-54cd-4456-a9f7-6ebe214306a1_4\", \"run_number\": 1646166433, \"metric\": null, \"status\": \"Completed\", \"run_type\": null, \"training_percent\": \"100\", \"start_time\": \"2022-03-01T20:28:16.209021Z\", \"end_time\": \"2022-03-01T20:28:24.353803Z\", \"created_time\": \"2022-03-01T20:27:13.050575Z\", \"created_time_dt\": \"2022-03-01T20:27:13.050575Z\", \"duration\": \"0:01:11\", \"iteration\": \"4\", \"goal\": \"accuracy_max\", \"run_name\": \"MaxAbsScaler, LightGBM\", \"run_properties\": \"copy=True\", \"primary_metric\": 0.83129032, \"best_metric\": 0.84107527}, {\"run_id\": \"AutoML_6587d7c3-54cd-4456-a9f7-6ebe214306a1_6\", \"run_number\": 1646166434, \"metric\": null, \"status\": \"Completed\", \"run_type\": null, \"training_percent\": \"100\", \"start_time\": \"2022-03-01T20:28:33.211922Z\", \"end_time\": \"2022-03-01T20:28:41.446601Z\", \"created_time\": \"2022-03-01T20:27:14.101642Z\", \"created_time_dt\": \"2022-03-01T20:27:14.101642Z\", \"duration\": \"0:01:27\", \"iteration\": \"6\", \"goal\": \"accuracy_max\", \"run_name\": \"StandardScalerWrapper, XGBoostClassifier\", \"run_properties\": \"\\n    copy=True,\\n    with_mean=False,\\n    with_std=False\\n\", \"primary_metric\": 0.82462366, \"best_metric\": 0.84107527}, {\"run_id\": \"AutoML_6587d7c3-54cd-4456-a9f7-6ebe214306a1_worker_1\", \"run_number\": 1646166435, \"metric\": null, \"status\": \"Completed\", \"run_type\": \"azureml.scriptrun\", \"training_percent\": null, \"start_time\": \"2022-03-01T20:28:51.30094Z\", \"end_time\": \"2022-03-01T20:28:54.876336Z\", \"created_time\": \"2022-03-01T20:27:15.136701Z\", \"created_time_dt\": \"2022-03-01T20:27:15.136701Z\", \"duration\": \"0:01:39\", \"iteration\": null, \"goal\": null, \"run_name\": \"Completed\", \"run_properties\": null}, {\"run_id\": \"AutoML_6587d7c3-54cd-4456-a9f7-6ebe214306a1_10\", \"run_number\": 1646166436, \"metric\": null, \"status\": \"Completed\", \"run_type\": null, \"training_percent\": \"100\", \"start_time\": \"2022-03-01T20:29:23.981389Z\", \"end_time\": \"2022-03-01T20:29:32.397354Z\", \"created_time\": \"2022-03-01T20:27:16.492832Z\", \"created_time_dt\": \"2022-03-01T20:27:16.492832Z\", \"duration\": \"0:02:15\", \"iteration\": \"10\", \"goal\": \"accuracy_max\", \"run_name\": \"SparseNormalizer, LightGBM\", \"run_properties\": \"copy=True, norm='l1'\", \"primary_metric\": 0.82462366, \"best_metric\": 0.84107527}, {\"run_id\": \"AutoML_6587d7c3-54cd-4456-a9f7-6ebe214306a1_worker_2\", \"run_number\": 1646166437, \"metric\": null, \"status\": \"Completed\", \"run_type\": \"azureml.scriptrun\", \"training_percent\": null, \"start_time\": \"2022-03-01T20:29:20.552559Z\", \"end_time\": \"2022-03-01T20:29:45.586179Z\", \"created_time\": \"2022-03-01T20:27:17.356349Z\", \"created_time_dt\": \"2022-03-01T20:27:17.356349Z\", \"duration\": \"0:02:28\", \"iteration\": null, \"goal\": null, \"run_name\": \"Completed\", \"run_properties\": null}, {\"run_id\": \"AutoML_6587d7c3-54cd-4456-a9f7-6ebe214306a1_13\", \"run_number\": 1646166438, \"metric\": null, \"status\": \"Completed\", \"run_type\": null, \"training_percent\": \"100\", \"start_time\": \"2022-03-01T20:30:07.008973Z\", \"end_time\": \"2022-03-01T20:30:15.19551Z\", \"created_time\": \"2022-03-01T20:27:18.03511Z\", \"created_time_dt\": \"2022-03-01T20:27:18.03511Z\", \"duration\": \"0:02:57\", \"iteration\": \"13\", \"goal\": \"accuracy_max\", \"run_name\": \"MaxAbsScaler, SGD\", \"run_properties\": \"copy=True\", \"primary_metric\": 0.83763441, \"best_metric\": 0.84107527}, {\"run_id\": \"AutoML_6587d7c3-54cd-4456-a9f7-6ebe214306a1_15\", \"run_number\": 1646166439, \"metric\": null, \"status\": \"Completed\", \"run_type\": null, \"training_percent\": \"100\", \"start_time\": \"2022-03-01T20:30:23.869848Z\", \"end_time\": \"2022-03-01T20:30:34.016158Z\", \"created_time\": \"2022-03-01T20:27:19.206827Z\", \"created_time_dt\": \"2022-03-01T20:27:19.206827Z\", \"duration\": \"0:03:14\", \"iteration\": \"15\", \"goal\": \"accuracy_max\", \"run_name\": \"SparseNormalizer, RandomForest\", \"run_properties\": \"copy=True, norm='l2'\", \"primary_metric\": 0.82451613, \"best_metric\": 0.84107527}, {\"run_id\": \"AutoML_6587d7c3-54cd-4456-a9f7-6ebe214306a1_17\", \"run_number\": 1646166440, \"metric\": null, \"status\": \"Completed\", \"run_type\": null, \"training_percent\": \"100\", \"start_time\": \"2022-03-01T20:31:19.668167Z\", \"end_time\": \"2022-03-01T20:31:28.409724Z\", \"created_time\": \"2022-03-01T20:27:20.314005Z\", \"created_time_dt\": \"2022-03-01T20:27:20.314005Z\", \"duration\": \"0:04:08\", \"iteration\": \"17\", \"goal\": \"accuracy_max\", \"run_name\": \"StandardScalerWrapper, RandomForest\", \"run_properties\": \"\\n    copy=True,\\n    with_mean=False,\\n    with_std=False\\n\", \"primary_metric\": 0.82795699, \"best_metric\": 0.84107527}, {\"run_id\": \"AutoML_6587d7c3-54cd-4456-a9f7-6ebe214306a1_worker_4\", \"run_number\": 1646166441, \"metric\": null, \"status\": \"Completed\", \"run_type\": \"azureml.scriptrun\", \"training_percent\": null, \"start_time\": \"2022-03-01T20:30:35.5479Z\", \"end_time\": \"2022-03-01T20:31:52.256464Z\", \"created_time\": \"2022-03-01T20:27:21.745162Z\", \"created_time_dt\": \"2022-03-01T20:27:21.745162Z\", \"duration\": \"0:04:30\", \"iteration\": null, \"goal\": null, \"run_name\": \"Completed\", \"run_properties\": null}, {\"run_id\": \"AutoML_6587d7c3-54cd-4456-a9f7-6ebe214306a1_22\", \"run_number\": 1646166637, \"metric\": null, \"status\": \"Completed\", \"run_type\": \"azureml.scriptrun\", \"training_percent\": \"100\", \"start_time\": \"2022-03-01T20:31:03.228583Z\", \"end_time\": \"2022-03-01T20:31:06.767685Z\", \"created_time\": \"2022-03-01T20:30:37.630561Z\", \"created_time_dt\": \"2022-03-01T20:30:37.630561Z\", \"duration\": \"0:00:29\", \"iteration\": \"22\", \"goal\": \"accuracy_max\", \"run_name\": \"SparseNormalizer, XGBoostClassifier\", \"run_properties\": \"copy=True, norm='l1'\", \"primary_metric\": 0.82129032, \"best_metric\": 0.84107527}, {\"run_id\": \"AutoML_6587d7c3-54cd-4456-a9f7-6ebe214306a1_23\", \"run_number\": 1646166691, \"metric\": null, \"status\": \"Completed\", \"run_type\": \"azureml.scriptrun\", \"training_percent\": \"100\", \"start_time\": \"2022-03-01T20:32:09.012372Z\", \"end_time\": \"2022-03-01T20:32:12.587463Z\", \"created_time\": \"2022-03-01T20:31:31.617742Z\", \"created_time_dt\": \"2022-03-01T20:31:31.617742Z\", \"duration\": \"0:00:40\", \"iteration\": \"23\", \"goal\": \"accuracy_max\", \"run_name\": \"StandardScalerWrapper, LogisticRegression\", \"run_properties\": \"\\n    copy=True,\\n    with_mean=False,\\n    with_std=True\\n\", \"primary_metric\": 0.82806452, \"best_metric\": 0.84107527}, {\"run_id\": \"AutoML_6587d7c3-54cd-4456-a9f7-6ebe214306a1_25\", \"run_number\": 1646166705, \"metric\": null, \"status\": \"Completed\", \"run_type\": \"azureml.scriptrun\", \"training_percent\": \"100\", \"start_time\": \"2022-03-01T20:33:02.362473Z\", \"end_time\": \"2022-03-01T20:33:05.928629Z\", \"created_time\": \"2022-03-01T20:31:45.539365Z\", \"created_time_dt\": \"2022-03-01T20:31:45.539365Z\", \"duration\": \"0:01:20\", \"iteration\": \"25\", \"goal\": \"accuracy_max\", \"run_name\": \"MaxAbsScaler, ExtremeRandomTrees\", \"run_properties\": \"copy=True\", \"primary_metric\": 0.74591398, \"best_metric\": 0.84107527}, {\"run_id\": \"AutoML_6587d7c3-54cd-4456-a9f7-6ebe214306a1_26\", \"run_number\": 1646166710, \"metric\": null, \"status\": \"Completed\", \"run_type\": \"azureml.scriptrun\", \"training_percent\": \"100\", \"start_time\": \"2022-03-01T20:33:01.666198Z\", \"end_time\": \"2022-03-01T20:33:05.286736Z\", \"created_time\": \"2022-03-01T20:31:50.01624Z\", \"created_time_dt\": \"2022-03-01T20:31:50.01624Z\", \"duration\": \"0:01:15\", \"iteration\": \"26\", \"goal\": \"accuracy_max\", \"run_name\": \"MaxAbsScaler, GradientBoosting\", \"run_properties\": \"copy=True\", \"primary_metric\": 0.83795699, \"best_metric\": 0.84107527}, {\"run_id\": \"AutoML_6587d7c3-54cd-4456-a9f7-6ebe214306a1_27\", \"run_number\": 1646166734, \"metric\": null, \"status\": \"Completed\", \"run_type\": \"azureml.scriptrun\", \"training_percent\": \"100\", \"start_time\": \"2022-03-01T20:33:57.622752Z\", \"end_time\": \"2022-03-01T20:34:01.196006Z\", \"created_time\": \"2022-03-01T20:32:14.526798Z\", \"created_time_dt\": \"2022-03-01T20:32:14.526798Z\", \"duration\": \"0:01:46\", \"iteration\": \"27\", \"goal\": \"accuracy_max\", \"run_name\": \"StandardScalerWrapper, LogisticRegression\", \"run_properties\": \"\\n    copy=True,\\n    with_mean=False,\\n    with_std=True\\n\", \"primary_metric\": 0.8411828, \"best_metric\": 0.8411828}, {\"run_id\": \"AutoML_6587d7c3-54cd-4456-a9f7-6ebe214306a1_29\", \"run_number\": 1646166783, \"metric\": null, \"status\": \"Completed\", \"run_type\": \"azureml.scriptrun\", \"training_percent\": \"100\", \"start_time\": \"2022-03-01T20:34:56.232065Z\", \"end_time\": \"2022-03-01T20:34:59.834429Z\", \"created_time\": \"2022-03-01T20:33:03.597594Z\", \"created_time_dt\": \"2022-03-01T20:33:03.597594Z\", \"duration\": \"0:01:56\", \"iteration\": \"29\", \"goal\": \"accuracy_max\", \"run_name\": \"StandardScalerWrapper, GradientBoosting\", \"run_properties\": \"\\n    copy=True,\\n    with_mean=False,\\n    with_std=True\\n\", \"primary_metric\": 0.81827957, \"best_metric\": 0.8411828}, {\"run_id\": \"AutoML_6587d7c3-54cd-4456-a9f7-6ebe214306a1_30\", \"run_number\": 1646166788, \"metric\": null, \"status\": \"Completed\", \"run_type\": \"azureml.scriptrun\", \"training_percent\": \"100\", \"start_time\": \"2022-03-01T20:35:01.096538Z\", \"end_time\": \"2022-03-01T20:35:04.641368Z\", \"created_time\": \"2022-03-01T20:33:08.245225Z\", \"created_time_dt\": \"2022-03-01T20:33:08.245225Z\", \"duration\": \"0:01:56\", \"iteration\": \"30\", \"goal\": \"accuracy_max\", \"run_name\": \"MaxAbsScaler, ExtremeRandomTrees\", \"run_properties\": \"copy=True\", \"primary_metric\": 0.75548387, \"best_metric\": 0.8411828}, {\"run_id\": \"AutoML_6587d7c3-54cd-4456-a9f7-6ebe214306a1_31\", \"run_number\": 1646166791, \"metric\": null, \"status\": \"Completed\", \"run_type\": \"azureml.scriptrun\", \"training_percent\": \"100\", \"start_time\": \"2022-03-01T20:35:00.93318Z\", \"end_time\": \"2022-03-01T20:35:04.479176Z\", \"created_time\": \"2022-03-01T20:33:11.042774Z\", \"created_time_dt\": \"2022-03-01T20:33:11.042774Z\", \"duration\": \"0:01:53\", \"iteration\": \"31\", \"goal\": \"accuracy_max\", \"run_name\": \"StandardScalerWrapper, LightGBM\", \"run_properties\": \"\\n    copy=True,\\n    with_mean=False,\\n    with_std=False\\n\", \"primary_metric\": 0.8216129, \"best_metric\": 0.8411828}, {\"run_id\": \"AutoML_6587d7c3-54cd-4456-a9f7-6ebe214306a1_32\", \"run_number\": 1646166843, \"metric\": null, \"status\": \"Completed\", \"run_type\": \"azureml.scriptrun\", \"training_percent\": \"100\", \"start_time\": \"2022-03-01T20:35:39.827549Z\", \"end_time\": \"2022-03-01T20:35:43.369711Z\", \"created_time\": \"2022-03-01T20:34:03.103233Z\", \"created_time_dt\": \"2022-03-01T20:34:03.103233Z\", \"duration\": \"0:01:40\", \"iteration\": \"32\", \"goal\": \"accuracy_max\", \"run_name\": \"StandardScalerWrapper, LogisticRegression\", \"run_properties\": \"\\n    copy=True,\\n    with_mean=False,\\n    with_std=True\\n\", \"primary_metric\": 0.82806452, \"best_metric\": 0.8411828}, {\"run_id\": \"AutoML_6587d7c3-54cd-4456-a9f7-6ebe214306a1_33\", \"run_number\": 1646166861, \"metric\": null, \"status\": \"Completed\", \"run_type\": \"azureml.scriptrun\", \"training_percent\": \"100\", \"start_time\": \"2022-03-01T20:36:12.220303Z\", \"end_time\": \"2022-03-01T20:36:15.75998Z\", \"created_time\": \"2022-03-01T20:34:21.85977Z\", \"created_time_dt\": \"2022-03-01T20:34:21.85977Z\", \"duration\": \"0:01:53\", \"iteration\": \"33\", \"goal\": \"accuracy_max\", \"run_name\": \"StandardScalerWrapper, LogisticRegression\", \"run_properties\": \"\\n    copy=True,\\n    with_mean=False,\\n    with_std=False\\n\", \"primary_metric\": 0.85774194, \"best_metric\": 0.85774194}, {\"run_id\": \"AutoML_6587d7c3-54cd-4456-a9f7-6ebe214306a1_34\", \"run_number\": 1646166901, \"metric\": null, \"status\": \"Completed\", \"run_type\": \"azureml.scriptrun\", \"training_percent\": \"100\", \"start_time\": \"2022-03-01T20:36:57.992176Z\", \"end_time\": \"2022-03-01T20:37:01.594385Z\", \"created_time\": \"2022-03-01T20:35:01.92779Z\", \"created_time_dt\": \"2022-03-01T20:35:01.92779Z\", \"duration\": \"0:01:59\", \"iteration\": \"34\", \"goal\": \"accuracy_max\", \"run_name\": \"StandardScalerWrapper, LightGBM\", \"run_properties\": \"\\n    copy=True,\\n    with_mean=False,\\n    with_std=False\\n\", \"primary_metric\": 0.83473118, \"best_metric\": 0.85774194}, {\"run_id\": \"AutoML_6587d7c3-54cd-4456-a9f7-6ebe214306a1_36\", \"run_number\": 1646166907, \"metric\": null, \"status\": \"Completed\", \"run_type\": \"azureml.scriptrun\", \"training_percent\": \"100\", \"start_time\": \"2022-03-01T20:37:00.140344Z\", \"end_time\": \"2022-03-01T20:37:03.704551Z\", \"created_time\": \"2022-03-01T20:35:07.611368Z\", \"created_time_dt\": \"2022-03-01T20:35:07.611368Z\", \"duration\": \"0:01:56\", \"iteration\": \"36\", \"goal\": \"accuracy_max\", \"run_name\": \"StandardScalerWrapper, LogisticRegression\", \"run_properties\": \"\\n    copy=True,\\n    with_mean=False,\\n    with_std=True\\n\", \"primary_metric\": 0.82795699, \"best_metric\": 0.85774194}, {\"run_id\": \"AutoML_6587d7c3-54cd-4456-a9f7-6ebe214306a1_37\", \"run_number\": 1646166946, \"metric\": null, \"status\": \"Completed\", \"run_type\": \"azureml.scriptrun\", \"training_percent\": \"100\", \"start_time\": \"2022-03-01T20:37:42.457733Z\", \"end_time\": \"2022-03-01T20:37:46.008096Z\", \"created_time\": \"2022-03-01T20:35:46.661222Z\", \"created_time_dt\": \"2022-03-01T20:35:46.661222Z\", \"duration\": \"0:01:59\", \"iteration\": \"37\", \"goal\": \"accuracy_max\", \"run_name\": \"MaxAbsScaler, LogisticRegression\", \"run_properties\": \"copy=True\", \"primary_metric\": 0.83473118, \"best_metric\": 0.85774194}, {\"run_id\": \"AutoML_6587d7c3-54cd-4456-a9f7-6ebe214306a1_38\", \"run_number\": 1646166977, \"metric\": null, \"status\": \"Completed\", \"run_type\": \"azureml.scriptrun\", \"training_percent\": \"100\", \"start_time\": \"2022-03-01T20:38:18.086263Z\", \"end_time\": \"2022-03-01T20:38:21.642025Z\", \"created_time\": \"2022-03-01T20:36:17.592153Z\", \"created_time_dt\": \"2022-03-01T20:36:17.592153Z\", \"duration\": \"0:02:04\", \"iteration\": \"38\", \"goal\": \"accuracy_max\", \"run_name\": \"SparseNormalizer, RandomForest\", \"run_properties\": \"copy=True, norm='l1'\", \"primary_metric\": 0.83451613, \"best_metric\": 0.85774194}, {\"run_id\": \"AutoML_6587d7c3-54cd-4456-a9f7-6ebe214306a1_39\", \"run_number\": 1646167023, \"metric\": null, \"status\": \"Completed\", \"run_type\": \"azureml.scriptrun\", \"training_percent\": \"100\", \"start_time\": \"2022-03-01T20:39:03.322854Z\", \"end_time\": \"2022-03-01T20:39:06.95126Z\", \"created_time\": \"2022-03-01T20:37:03.308073Z\", \"created_time_dt\": \"2022-03-01T20:37:03.308073Z\", \"duration\": \"0:02:03\", \"iteration\": \"39\", \"goal\": \"accuracy_max\", \"run_name\": \"MaxAbsScaler, LogisticRegression\", \"run_properties\": \"copy=True\", \"primary_metric\": 0.83129032, \"best_metric\": 0.85774194}, {\"run_id\": \"AutoML_6587d7c3-54cd-4456-a9f7-6ebe214306a1_40\", \"run_number\": 1646167027, \"metric\": null, \"status\": \"Completed\", \"run_type\": \"azureml.scriptrun\", \"training_percent\": \"100\", \"start_time\": \"2022-03-01T20:39:03.342172Z\", \"end_time\": \"2022-03-01T20:39:06.920524Z\", \"created_time\": \"2022-03-01T20:37:07.137974Z\", \"created_time_dt\": \"2022-03-01T20:37:07.137974Z\", \"duration\": \"0:01:59\", \"iteration\": \"40\", \"goal\": \"accuracy_max\", \"run_name\": \"TruncatedSVDWrapper, LogisticRegression\", \"run_properties\": \"n_components=0.3068421052631579, random_state=None\", \"primary_metric\": 0.83462366, \"best_metric\": 0.85774194}, {\"run_id\": \"AutoML_6587d7c3-54cd-4456-a9f7-6ebe214306a1_41\", \"run_number\": 1646167029, \"metric\": null, \"status\": \"Completed\", \"run_type\": \"azureml.scriptrun\", \"training_percent\": \"100\", \"start_time\": \"2022-03-01T20:39:03.107493Z\", \"end_time\": \"2022-03-01T20:39:06.670953Z\", \"created_time\": \"2022-03-01T20:37:09.917161Z\", \"created_time_dt\": \"2022-03-01T20:37:09.917161Z\", \"duration\": \"0:01:56\", \"iteration\": \"41\", \"goal\": \"accuracy_max\", \"run_name\": \"StandardScalerWrapper, XGBoostClassifier\", \"run_properties\": \"\\n    copy=True,\\n    with_mean=False,\\n    with_std=False\\n\", \"primary_metric\": 0.81806452, \"best_metric\": 0.85774194}, {\"run_id\": \"AutoML_6587d7c3-54cd-4456-a9f7-6ebe214306a1_42\", \"run_number\": 1646167067, \"metric\": null, \"status\": \"Completed\", \"run_type\": \"azureml.scriptrun\", \"training_percent\": \"100\", \"start_time\": \"2022-03-01T20:39:46.784687Z\", \"end_time\": \"2022-03-01T20:39:50.33348Z\", \"created_time\": \"2022-03-01T20:37:47.686728Z\", \"created_time_dt\": \"2022-03-01T20:37:47.686728Z\", \"duration\": \"0:02:02\", \"iteration\": \"42\", \"goal\": \"accuracy_max\", \"run_name\": \"SparseNormalizer, LightGBM\", \"run_properties\": \"copy=True, norm='l2'\", \"primary_metric\": 0.80150538, \"best_metric\": 0.85774194}, {\"run_id\": \"AutoML_6587d7c3-54cd-4456-a9f7-6ebe214306a1_43\", \"run_number\": 1646167103, \"metric\": null, \"status\": \"Completed\", \"run_type\": \"azureml.scriptrun\", \"training_percent\": \"100\", \"start_time\": \"2022-03-01T20:40:18.114816Z\", \"end_time\": \"2022-03-01T20:40:21.661098Z\", \"created_time\": \"2022-03-01T20:38:23.364719Z\", \"created_time_dt\": \"2022-03-01T20:38:23.364719Z\", \"duration\": \"0:01:58\", \"iteration\": \"43\", \"goal\": \"accuracy_max\", \"run_name\": \"SparseNormalizer, XGBoostClassifier\", \"run_properties\": \"copy=True, norm='l1'\", \"primary_metric\": 0.8116129, \"best_metric\": 0.85774194}, {\"run_id\": \"AutoML_6587d7c3-54cd-4456-a9f7-6ebe214306a1_44\", \"run_number\": 1646167148, \"metric\": null, \"status\": \"Completed\", \"run_type\": \"azureml.scriptrun\", \"training_percent\": \"100\", \"start_time\": \"2022-03-01T20:40:59.095059Z\", \"end_time\": \"2022-03-01T20:41:02.645374Z\", \"created_time\": \"2022-03-01T20:39:08.385917Z\", \"created_time_dt\": \"2022-03-01T20:39:08.385917Z\", \"duration\": \"0:01:54\", \"iteration\": \"44\", \"goal\": \"accuracy_max\", \"run_name\": \"MaxAbsScaler, LogisticRegression\", \"run_properties\": \"copy=True\", \"primary_metric\": 0.83473118, \"best_metric\": 0.85774194}, {\"run_id\": \"AutoML_6587d7c3-54cd-4456-a9f7-6ebe214306a1_46\", \"run_number\": 1646167152, \"metric\": null, \"status\": \"Completed\", \"run_type\": \"azureml.scriptrun\", \"training_percent\": \"100\", \"start_time\": \"2022-03-01T20:41:01.878857Z\", \"end_time\": \"2022-03-01T20:41:05.400159Z\", \"created_time\": \"2022-03-01T20:39:12.411477Z\", \"created_time_dt\": \"2022-03-01T20:39:12.411477Z\", \"duration\": \"0:01:52\", \"iteration\": \"46\", \"goal\": \"accuracy_max\", \"run_name\": \"MaxAbsScaler, LightGBM\", \"run_properties\": \"copy=True\", \"primary_metric\": 0.82473118, \"best_metric\": 0.85774194}, {\"run_id\": \"AutoML_6587d7c3-54cd-4456-a9f7-6ebe214306a1_47\", \"run_number\": 1646167192, \"metric\": null, \"status\": \"Completed\", \"run_type\": \"azureml.scriptrun\", \"training_percent\": \"100\", \"start_time\": \"2022-03-01T20:41:42.478018Z\", \"end_time\": \"2022-03-01T20:41:46.041815Z\", \"created_time\": \"2022-03-01T20:39:52.285896Z\", \"created_time_dt\": \"2022-03-01T20:39:52.285896Z\", \"duration\": \"0:01:53\", \"iteration\": \"47\", \"goal\": \"accuracy_max\", \"run_name\": \"MaxAbsScaler, LinearSVM\", \"run_properties\": \"copy=True\", \"primary_metric\": 0.80849462, \"best_metric\": 0.85774194}, {\"run_id\": \"AutoML_6587d7c3-54cd-4456-a9f7-6ebe214306a1_48\", \"run_number\": 1646167223, \"metric\": null, \"status\": \"Canceled\", \"run_type\": \"azureml.scriptrun\", \"training_percent\": \"100\", \"start_time\": \"2022-03-01T20:41:46.894892Z\", \"end_time\": \"2022-03-01T20:41:47.10243Z\", \"created_time\": \"2022-03-01T20:40:23.655985Z\", \"created_time_dt\": \"2022-03-01T20:40:23.655985Z\", \"duration\": \"0:01:23\", \"iteration\": \"48\", \"goal\": null, \"run_name\": \"Canceled\", \"run_properties\": null}, {\"run_id\": \"AutoML_6587d7c3-54cd-4456-a9f7-6ebe214306a1_49\", \"run_number\": 1646167264, \"metric\": null, \"status\": \"Canceled\", \"run_type\": \"azureml.scriptrun\", \"training_percent\": \"100\", \"start_time\": \"2022-03-01T20:41:46.9495Z\", \"end_time\": \"2022-03-01T20:41:47.223064Z\", \"created_time\": \"2022-03-01T20:41:04.562085Z\", \"created_time_dt\": \"2022-03-01T20:41:04.562085Z\", \"duration\": \"0:00:42\", \"iteration\": \"49\", \"goal\": null, \"run_name\": \"Canceled\", \"run_properties\": null}, {\"run_id\": \"AutoML_6587d7c3-54cd-4456-a9f7-6ebe214306a1_51\", \"run_number\": 1646167268, \"metric\": null, \"status\": \"Canceled\", \"run_type\": \"azureml.scriptrun\", \"training_percent\": \"100\", \"start_time\": \"2022-03-01T20:41:46.896484Z\", \"end_time\": \"2022-03-01T20:41:47.117536Z\", \"created_time\": \"2022-03-01T20:41:08.767149Z\", \"created_time_dt\": \"2022-03-01T20:41:08.767149Z\", \"duration\": \"0:00:38\", \"iteration\": \"51\", \"goal\": null, \"run_name\": \"Canceled\", \"run_properties\": null}, {\"run_id\": \"AutoML_6587d7c3-54cd-4456-a9f7-6ebe214306a1_52\", \"run_number\": 1646167308, \"metric\": null, \"status\": \"Completed\", \"run_type\": \"azureml.scriptrun\", \"training_percent\": \"100\", \"start_time\": \"2022-03-01T20:42:39.557818Z\", \"end_time\": \"2022-03-01T20:42:43.11564Z\", \"created_time\": \"2022-03-01T20:41:48.3124Z\", \"created_time_dt\": \"2022-03-01T20:41:48.3124Z\", \"duration\": \"0:00:54\", \"iteration\": \"52\", \"goal\": \"accuracy_max\", \"run_name\": \"VotingEnsemble\", \"run_properties\": \"\\n    estimators=[('33', Pipeline(\\n        memory=None,\\n        steps=[('standardscalerwrapper', StandardScalerWrapper(\\n            copy=True,\\n            with_mean=False,\\n            with_std=False\\n        \", \"primary_metric\": 0.86774194, \"best_metric\": 0.86774194}], \"children_metrics\": {\"categories\": [0], \"series\": {\"f1_score_macro\": [{\"categories\": [\"0\", \"1\", \"2\", \"3\", \"4\", \"6\", \"10\", \"13\", \"15\", \"17\", \"22\", \"23\", \"25\", \"26\", \"27\", \"29\", \"30\", \"31\", \"32\", \"33\", \"34\", \"36\", \"37\", \"38\", \"39\", \"40\", \"41\", \"42\", \"43\", \"44\", \"46\", \"47\", \"52\"], \"mode\": \"markers\", \"name\": \"f1_score_macro\", \"stepped\": false, \"type\": \"scatter\", \"data\": [0.8051086915482137, 0.8105255180161939, 0.8370263756053953, 0.8132819968148679, 0.8226910425972532, 0.817982937820618, 0.818234919355805, 0.8331336023012254, 0.8183584301541064, 0.8231232492517429, 0.8168940512276247, 0.8214077648662913, 0.7306915264050173, 0.8327691271802224, 0.8344947472132768, 0.8135544129276919, 0.748596865754423, 0.8166693325772438, 0.8212259613756643, 0.8520604912053662, 0.8287191203313542, 0.8213743849689695, 0.8280498547401585, 0.830997023999047, 0.8264489059566843, 0.831548915299998, 0.8104901149228096, 0.7932700598342217, 0.8043545652790545, 0.8280498547401585, 0.8206308206689084, 0.7981552523259847, 0.862107593643773]}, {\"categories\": [\"0\", \"1\", \"2\", \"3\", \"4\", \"6\", \"10\", \"13\", \"15\", \"17\", \"22\", \"23\", \"25\", \"26\", \"27\", \"29\", \"30\", \"31\", \"32\", \"33\", \"34\", \"36\", \"37\", \"38\", \"39\", \"40\", \"41\", \"42\", \"43\", \"44\", \"46\", \"47\", \"52\"], \"mode\": \"lines\", \"name\": \"f1_score_macro_max\", \"stepped\": true, \"type\": \"scatter\", \"data\": [0.8051086915482137, 0.8105255180161939, 0.8370263756053953, 0.8370263756053953, 0.8370263756053953, 0.8370263756053953, 0.8370263756053953, 0.8370263756053953, 0.8370263756053953, 0.8370263756053953, 0.8370263756053953, 0.8370263756053953, 0.8370263756053953, 0.8370263756053953, 0.8370263756053953, 0.8370263756053953, 0.8370263756053953, 0.8370263756053953, 0.8370263756053953, 0.8520604912053662, 0.8520604912053662, 0.8520604912053662, 0.8520604912053662, 0.8520604912053662, 0.8520604912053662, 0.8520604912053662, 0.8520604912053662, 0.8520604912053662, 0.8520604912053662, 0.8520604912053662, 0.8520604912053662, 0.8520604912053662, 0.862107593643773]}], \"recall_score_macro\": [{\"categories\": [\"0\", \"1\", \"2\", \"3\", \"4\", \"6\", \"10\", \"13\", \"15\", \"17\", \"22\", \"23\", \"25\", \"26\", \"27\", \"29\", \"30\", \"31\", \"32\", \"33\", \"34\", \"36\", \"37\", \"38\", \"39\", \"40\", \"41\", \"42\", \"43\", \"44\", \"46\", \"47\", \"52\"], \"mode\": \"markers\", \"name\": \"recall_score_macro\", \"stepped\": false, \"type\": \"scatter\", \"data\": [0.8071990726421842, 0.8115750673045564, 0.8392062065901076, 0.8149827013371904, 0.8232870715455857, 0.8184515415784765, 0.8186964211828762, 0.8342543060654517, 0.819503016548295, 0.8250925914470806, 0.8176277910256239, 0.8243226435157549, 0.7310440387356022, 0.8333490286373412, 0.8373599738324969, 0.815148553716665, 0.748813120359173, 0.8181981919868917, 0.8236014896696012, 0.8525514876850016, 0.8301416110549237, 0.8248160645683864, 0.8312937973619089, 0.8324136241725251, 0.8300511073034293, 0.8339936465323463, 0.8127693591238481, 0.7928356000724422, 0.8053949361611898, 0.8312937973619089, 0.8207957515910301, 0.8000115635138855, 0.8619703969491121]}, {\"categories\": [\"0\", \"1\", \"2\", \"3\", \"4\", \"6\", \"10\", \"13\", \"15\", \"17\", \"22\", \"23\", \"25\", \"26\", \"27\", \"29\", \"30\", \"31\", \"32\", \"33\", \"34\", \"36\", \"37\", \"38\", \"39\", \"40\", \"41\", \"42\", \"43\", \"44\", \"46\", \"47\", \"52\"], \"mode\": \"lines\", \"name\": \"recall_score_macro_max\", \"stepped\": true, \"type\": \"scatter\", \"data\": [0.8071990726421842, 0.8115750673045564, 0.8392062065901076, 0.8392062065901076, 0.8392062065901076, 0.8392062065901076, 0.8392062065901076, 0.8392062065901076, 0.8392062065901076, 0.8392062065901076, 0.8392062065901076, 0.8392062065901076, 0.8392062065901076, 0.8392062065901076, 0.8392062065901076, 0.8392062065901076, 0.8392062065901076, 0.8392062065901076, 0.8392062065901076, 0.8525514876850016, 0.8525514876850016, 0.8525514876850016, 0.8525514876850016, 0.8525514876850016, 0.8525514876850016, 0.8525514876850016, 0.8525514876850016, 0.8525514876850016, 0.8525514876850016, 0.8525514876850016, 0.8525514876850016, 0.8525514876850016, 0.8619703969491121]}], \"average_precision_score_macro\": [{\"categories\": [\"0\", \"1\", \"2\", \"3\", \"4\", \"6\", \"10\", \"13\", \"15\", \"17\", \"22\", \"23\", \"25\", \"26\", \"27\", \"29\", \"30\", \"31\", \"32\", \"33\", \"34\", \"36\", \"37\", \"38\", \"39\", \"40\", \"41\", \"42\", \"43\", \"44\", \"46\", \"47\", \"52\"], \"mode\": \"markers\", \"name\": \"average_precision_score_macro\", \"stepped\": false, \"type\": \"scatter\", \"data\": [0.8867812599152358, 0.8970532796237158, 0.9098622693034362, 0.893174026844887, 0.9053427004589576, 0.8870646920479672, 0.897859611565857, 0.9128265584971589, 0.9124335476784123, 0.9206786535866727, 0.8777829406276016, 0.8940028677193436, 0.8763163938389195, 0.9043001587094956, 0.9075793763411115, 0.8970689788615903, 0.8343909699937375, 0.9064443663193492, 0.9044437864277057, 0.9190948247130322, 0.9219827849421176, 0.9060208204825516, 0.9076646926944543, 0.9135644913291585, 0.9126128579684514, 0.9119831253287123, 0.9025264131280706, 0.9021202725223583, 0.8793844611604035, 0.9076646926944543, 0.9085775970843495, 0.919092499580685, 0.9150695557753725]}, {\"categories\": [\"0\", \"1\", \"2\", \"3\", \"4\", \"6\", \"10\", \"13\", \"15\", \"17\", \"22\", \"23\", \"25\", \"26\", \"27\", \"29\", \"30\", \"31\", \"32\", \"33\", \"34\", \"36\", \"37\", \"38\", \"39\", \"40\", \"41\", \"42\", \"43\", \"44\", \"46\", \"47\", \"52\"], \"mode\": \"lines\", \"name\": \"average_precision_score_macro_max\", \"stepped\": true, \"type\": \"scatter\", \"data\": [0.8867812599152358, 0.8970532796237158, 0.9098622693034362, 0.9098622693034362, 0.9098622693034362, 0.9098622693034362, 0.9098622693034362, 0.9128265584971589, 0.9128265584971589, 0.9206786535866727, 0.9206786535866727, 0.9206786535866727, 0.9206786535866727, 0.9206786535866727, 0.9206786535866727, 0.9206786535866727, 0.9206786535866727, 0.9206786535866727, 0.9206786535866727, 0.9206786535866727, 0.9219827849421176, 0.9219827849421176, 0.9219827849421176, 0.9219827849421176, 0.9219827849421176, 0.9219827849421176, 0.9219827849421176, 0.9219827849421176, 0.9219827849421176, 0.9219827849421176, 0.9219827849421176, 0.9219827849421176, 0.9219827849421176]}], \"AUC_macro\": [{\"categories\": [\"0\", \"1\", \"2\", \"3\", \"4\", \"6\", \"10\", \"13\", \"15\", \"17\", \"22\", \"23\", \"25\", \"26\", \"27\", \"29\", \"30\", \"31\", \"32\", \"33\", \"34\", \"36\", \"37\", \"38\", \"39\", \"40\", \"41\", \"42\", \"43\", \"44\", \"46\", \"47\", \"52\"], \"mode\": \"markers\", \"name\": \"AUC_macro\", \"stepped\": false, \"type\": \"scatter\", \"data\": [0.8828390759710418, 0.889146318736876, 0.9112177247273996, 0.8903471930546234, 0.9027958154390043, 0.8815164847908654, 0.895501467300616, 0.916237159204458, 0.9065104560472207, 0.9162348253598254, 0.8760746424699597, 0.8931365421071303, 0.8717078023169356, 0.9046709002784855, 0.9062648767927406, 0.896844077247715, 0.8474311683328711, 0.9034703930400525, 0.9022885188713363, 0.9190957888717177, 0.9181599809575814, 0.9039586442252852, 0.9060484205337147, 0.9112365780933892, 0.9115423542888713, 0.9113120039575147, 0.8985423431487674, 0.899236096863806, 0.882121950575511, 0.9060484205337147, 0.9083167454177516, 0.9183171079866126, 0.9183532952542242]}, {\"categories\": [\"0\", \"1\", \"2\", \"3\", \"4\", \"6\", \"10\", \"13\", \"15\", \"17\", \"22\", \"23\", \"25\", \"26\", \"27\", \"29\", \"30\", \"31\", \"32\", \"33\", \"34\", \"36\", \"37\", \"38\", \"39\", \"40\", \"41\", \"42\", \"43\", \"44\", \"46\", \"47\", \"52\"], \"mode\": \"lines\", \"name\": \"AUC_macro_max\", \"stepped\": true, \"type\": \"scatter\", \"data\": [0.8828390759710418, 0.889146318736876, 0.9112177247273996, 0.9112177247273996, 0.9112177247273996, 0.9112177247273996, 0.9112177247273996, 0.916237159204458, 0.916237159204458, 0.916237159204458, 0.916237159204458, 0.916237159204458, 0.916237159204458, 0.916237159204458, 0.916237159204458, 0.916237159204458, 0.916237159204458, 0.916237159204458, 0.916237159204458, 0.9190957888717177, 0.9190957888717177, 0.9190957888717177, 0.9190957888717177, 0.9190957888717177, 0.9190957888717177, 0.9190957888717177, 0.9190957888717177, 0.9190957888717177, 0.9190957888717177, 0.9190957888717177, 0.9190957888717177, 0.9190957888717177, 0.9190957888717177]}], \"log_loss\": [{\"categories\": [\"0\", \"1\", \"2\", \"3\", \"4\", \"6\", \"10\", \"13\", \"15\", \"17\", \"22\", \"23\", \"25\", \"26\", \"27\", \"29\", \"30\", \"31\", \"32\", \"33\", \"34\", \"36\", \"37\", \"38\", \"39\", \"40\", \"41\", \"42\", \"43\", \"44\", \"46\", \"47\", \"52\"], \"mode\": \"markers\", \"name\": \"log_loss\", \"stepped\": false, \"type\": \"scatter\", \"data\": [0.5268000663868162, 0.43981733701714043, 0.4325101515799692, 0.4869057349861941, 0.4107749941447329, 0.4845682393986981, 0.4162559016132595, 0.7816161571637184, 0.39599479013525346, 0.4025232589432538, 0.4868997083932308, 0.45493509727519604, 0.47862699152012167, 0.4020158223110565, 0.4018418576124403, 0.41338744358665014, 0.5251996837329004, 0.43878737896060593, 0.4265160416283644, 0.37014307765065124, 0.3775166743556987, 0.4139072818507377, 0.41024935721729416, 0.5026531959468136, 0.39056322396474796, 0.3797329294337662, 0.4129101020650923, 0.49807380320057615, 0.5105491354136646, 0.4114804998756282, 0.43683066423531314, 0.3990680118332315, 0.38277927788534105]}, {\"categories\": [\"0\", \"1\", \"2\", \"3\", \"4\", \"6\", \"10\", \"13\", \"15\", \"17\", \"22\", \"23\", \"25\", \"26\", \"27\", \"29\", \"30\", \"31\", \"32\", \"33\", \"34\", \"36\", \"37\", \"38\", \"39\", \"40\", \"41\", \"42\", \"43\", \"44\", \"46\", \"47\", \"52\"], \"mode\": \"lines\", \"name\": \"log_loss_min\", \"stepped\": true, \"type\": \"scatter\", \"data\": [0.5268000663868162, 0.43981733701714043, 0.4325101515799692, 0.4325101515799692, 0.4107749941447329, 0.4107749941447329, 0.4107749941447329, 0.4107749941447329, 0.39599479013525346, 0.39599479013525346, 0.39599479013525346, 0.39599479013525346, 0.39599479013525346, 0.39599479013525346, 0.39599479013525346, 0.39599479013525346, 0.39599479013525346, 0.39599479013525346, 0.39599479013525346, 0.37014307765065124, 0.37014307765065124, 0.37014307765065124, 0.37014307765065124, 0.37014307765065124, 0.37014307765065124, 0.37014307765065124, 0.37014307765065124, 0.37014307765065124, 0.37014307765065124, 0.37014307765065124, 0.37014307765065124, 0.37014307765065124, 0.37014307765065124]}], \"weighted_accuracy\": [{\"categories\": [\"0\", \"1\", \"2\", \"3\", \"4\", \"6\", \"10\", \"13\", \"15\", \"17\", \"22\", \"23\", \"25\", \"26\", \"27\", \"29\", \"30\", \"31\", \"32\", \"33\", \"34\", \"36\", \"37\", \"38\", \"39\", \"40\", \"41\", \"42\", \"43\", \"44\", \"46\", \"47\", \"52\"], \"mode\": \"markers\", \"name\": \"weighted_accuracy\", \"stepped\": false, \"type\": \"scatter\", \"data\": [0.815316867788248, 0.8236140706065846, 0.842614570443627, 0.8210648274587278, 0.8383145145085988, 0.8301798478385244, 0.8296834498356803, 0.8406512397027898, 0.8289446045711445, 0.8304121563760823, 0.8242872077987917, 0.8313733495678031, 0.758714346361271, 0.8420955868084435, 0.8445831584898296, 0.8210381252477866, 0.7614243691574409, 0.8245259145545477, 0.8320747446290545, 0.8623644718395618, 0.8388116036851772, 0.830764628109122, 0.837751600524251, 0.8363282139965538, 0.832321004774669, 0.835091701307034, 0.8226516118978647, 0.8090055107478991, 0.8167704758307787, 0.837751600524251, 0.8281141619330523, 0.8157427355021417, 0.872856598893866]}, {\"categories\": [\"0\", \"1\", \"2\", \"3\", \"4\", \"6\", \"10\", \"13\", \"15\", \"17\", \"22\", \"23\", \"25\", \"26\", \"27\", \"29\", \"30\", \"31\", \"32\", \"33\", \"34\", \"36\", \"37\", \"38\", \"39\", \"40\", \"41\", \"42\", \"43\", \"44\", \"46\", \"47\", \"52\"], \"mode\": \"lines\", \"name\": \"weighted_accuracy_max\", \"stepped\": true, \"type\": \"scatter\", \"data\": [0.815316867788248, 0.8236140706065846, 0.842614570443627, 0.842614570443627, 0.842614570443627, 0.842614570443627, 0.842614570443627, 0.842614570443627, 0.842614570443627, 0.842614570443627, 0.842614570443627, 0.842614570443627, 0.842614570443627, 0.842614570443627, 0.8445831584898296, 0.8445831584898296, 0.8445831584898296, 0.8445831584898296, 0.8445831584898296, 0.8623644718395618, 0.8623644718395618, 0.8623644718395618, 0.8623644718395618, 0.8623644718395618, 0.8623644718395618, 0.8623644718395618, 0.8623644718395618, 0.8623644718395618, 0.8623644718395618, 0.8623644718395618, 0.8623644718395618, 0.8623644718395618, 0.872856598893866]}], \"norm_macro_recall\": [{\"categories\": [\"0\", \"1\", \"2\", \"3\", \"4\", \"6\", \"10\", \"13\", \"15\", \"17\", \"22\", \"23\", \"25\", \"26\", \"27\", \"29\", \"30\", \"31\", \"32\", \"33\", \"34\", \"36\", \"37\", \"38\", \"39\", \"40\", \"41\", \"42\", \"43\", \"44\", \"46\", \"47\", \"52\"], \"mode\": \"markers\", \"name\": \"norm_macro_recall\", \"stepped\": false, \"type\": \"scatter\", \"data\": [0.6143981452843683, 0.623150134609113, 0.6784124131802152, 0.6299654026743811, 0.6465741430911709, 0.6369030831569532, 0.6373928423657527, 0.6685086121309032, 0.6390060330965903, 0.6501851828941612, 0.6352555820512478, 0.6486452870315099, 0.46208807747120434, 0.6666980572746827, 0.6747199476649941, 0.6302971074333302, 0.4976262407183459, 0.6363963839737835, 0.6472029793392022, 0.7051029753700032, 0.6602832221098474, 0.649632129136773, 0.6625875947238176, 0.6648272483450504, 0.6601022146068586, 0.6679872930646924, 0.6255387182476966, 0.5856712001448845, 0.61078987232238, 0.6625875947238176, 0.6415915031820605, 0.600023127027771, 0.7239407938982243]}, {\"categories\": [\"0\", \"1\", \"2\", \"3\", \"4\", \"6\", \"10\", \"13\", \"15\", \"17\", \"22\", \"23\", \"25\", \"26\", \"27\", \"29\", \"30\", \"31\", \"32\", \"33\", \"34\", \"36\", \"37\", \"38\", \"39\", \"40\", \"41\", \"42\", \"43\", \"44\", \"46\", \"47\", \"52\"], \"mode\": \"lines\", \"name\": \"norm_macro_recall_max\", \"stepped\": true, \"type\": \"scatter\", \"data\": [0.6143981452843683, 0.623150134609113, 0.6784124131802152, 0.6784124131802152, 0.6784124131802152, 0.6784124131802152, 0.6784124131802152, 0.6784124131802152, 0.6784124131802152, 0.6784124131802152, 0.6784124131802152, 0.6784124131802152, 0.6784124131802152, 0.6784124131802152, 0.6784124131802152, 0.6784124131802152, 0.6784124131802152, 0.6784124131802152, 0.6784124131802152, 0.7051029753700032, 0.7051029753700032, 0.7051029753700032, 0.7051029753700032, 0.7051029753700032, 0.7051029753700032, 0.7051029753700032, 0.7051029753700032, 0.7051029753700032, 0.7051029753700032, 0.7051029753700032, 0.7051029753700032, 0.7051029753700032, 0.7239407938982243]}], \"recall_score_weighted\": [{\"categories\": [\"0\", \"1\", \"2\", \"3\", \"4\", \"6\", \"10\", \"13\", \"15\", \"17\", \"22\", \"23\", \"25\", \"26\", \"27\", \"29\", \"30\", \"31\", \"32\", \"33\", \"34\", \"36\", \"37\", \"38\", \"39\", \"40\", \"41\", \"42\", \"43\", \"44\", \"46\", \"47\", \"52\"], \"mode\": \"markers\", \"name\": \"recall_score_weighted\", \"stepped\": false, \"type\": \"scatter\", \"data\": [0.811505376344086, 0.8179569892473119, 0.8410752688172043, 0.8181720430107526, 0.8312903225806452, 0.8246236559139785, 0.8246236559139787, 0.8376344086021505, 0.824516129032258, 0.8279569892473118, 0.8212903225806452, 0.8280645161290321, 0.7459139784946236, 0.837956989247312, 0.8411827956989246, 0.818279569892473, 0.7554838709677419, 0.8216129032258065, 0.8280645161290321, 0.857741935483871, 0.8347311827956991, 0.8279569892473118, 0.8347311827956988, 0.8345161290322581, 0.8312903225806452, 0.8346236559139785, 0.8180645161290322, 0.801505376344086, 0.8116129032258066, 0.8347311827956988, 0.8247311827956988, 0.8084946236559141, 0.867741935483871]}, {\"categories\": [\"0\", \"1\", \"2\", \"3\", \"4\", \"6\", \"10\", \"13\", \"15\", \"17\", \"22\", \"23\", \"25\", \"26\", \"27\", \"29\", \"30\", \"31\", \"32\", \"33\", \"34\", \"36\", \"37\", \"38\", \"39\", \"40\", \"41\", \"42\", \"43\", \"44\", \"46\", \"47\", \"52\"], \"mode\": \"lines\", \"name\": \"recall_score_weighted_max\", \"stepped\": true, \"type\": \"scatter\", \"data\": [0.811505376344086, 0.8179569892473119, 0.8410752688172043, 0.8410752688172043, 0.8410752688172043, 0.8410752688172043, 0.8410752688172043, 0.8410752688172043, 0.8410752688172043, 0.8410752688172043, 0.8410752688172043, 0.8410752688172043, 0.8410752688172043, 0.8410752688172043, 0.8411827956989246, 0.8411827956989246, 0.8411827956989246, 0.8411827956989246, 0.8411827956989246, 0.857741935483871, 0.857741935483871, 0.857741935483871, 0.857741935483871, 0.857741935483871, 0.857741935483871, 0.857741935483871, 0.857741935483871, 0.857741935483871, 0.857741935483871, 0.857741935483871, 0.857741935483871, 0.857741935483871, 0.867741935483871]}], \"AUC_micro\": [{\"categories\": [\"0\", \"1\", \"2\", \"3\", \"4\", \"6\", \"10\", \"13\", \"15\", \"17\", \"22\", \"23\", \"25\", \"26\", \"27\", \"29\", \"30\", \"31\", \"32\", \"33\", \"34\", \"36\", \"37\", \"38\", \"39\", \"40\", \"41\", \"42\", \"43\", \"44\", \"46\", \"47\", \"52\"], \"mode\": \"markers\", \"name\": \"AUC_micro\", \"stepped\": false, \"type\": \"scatter\", \"data\": [0.8751829113192275, 0.8874298762862759, 0.9049873973869811, 0.8890736501329632, 0.9020119088912013, 0.8814724245577524, 0.8959290091340039, 0.9124124176205342, 0.9048692334373918, 0.9109203376112844, 0.8756344086021505, 0.8892976066597293, 0.8654755463059314, 0.8971759741010521, 0.9032906694415539, 0.8930736501329634, 0.8425426060816278, 0.8998585963695225, 0.8976680541103017, 0.9123788877326857, 0.913191929702856, 0.9000208116545265, 0.9025957914209736, 0.9069556018036767, 0.9072959879754885, 0.9064758931668402, 0.8984281419817319, 0.8899220719158283, 0.8831177014683778, 0.9019432304312638, 0.9048162793386518, 0.9050578101514626, 0.9137810151462595]}, {\"categories\": [\"0\", \"1\", \"2\", \"3\", \"4\", \"6\", \"10\", \"13\", \"15\", \"17\", \"22\", \"23\", \"25\", \"26\", \"27\", \"29\", \"30\", \"31\", \"32\", \"33\", \"34\", \"36\", \"37\", \"38\", \"39\", \"40\", \"41\", \"42\", \"43\", \"44\", \"46\", \"47\", \"52\"], \"mode\": \"lines\", \"name\": \"AUC_micro_max\", \"stepped\": true, \"type\": \"scatter\", \"data\": [0.8751829113192275, 0.8874298762862759, 0.9049873973869811, 0.9049873973869811, 0.9049873973869811, 0.9049873973869811, 0.9049873973869811, 0.9124124176205342, 0.9124124176205342, 0.9124124176205342, 0.9124124176205342, 0.9124124176205342, 0.9124124176205342, 0.9124124176205342, 0.9124124176205342, 0.9124124176205342, 0.9124124176205342, 0.9124124176205342, 0.9124124176205342, 0.9124124176205342, 0.913191929702856, 0.913191929702856, 0.913191929702856, 0.913191929702856, 0.913191929702856, 0.913191929702856, 0.913191929702856, 0.913191929702856, 0.913191929702856, 0.913191929702856, 0.913191929702856, 0.913191929702856, 0.9137810151462595]}], \"precision_score_weighted\": [{\"categories\": [\"0\", \"1\", \"2\", \"3\", \"4\", \"6\", \"10\", \"13\", \"15\", \"17\", \"22\", \"23\", \"25\", \"26\", \"27\", \"29\", \"30\", \"31\", \"32\", \"33\", \"34\", \"36\", \"37\", \"38\", \"39\", \"40\", \"41\", \"42\", \"43\", \"44\", \"46\", \"47\", \"52\"], \"mode\": \"markers\", \"name\": \"precision_score_weighted\", \"stepped\": false, \"type\": \"scatter\", \"data\": [0.8262799266252276, 0.8259051766115084, 0.8477685706397755, 0.8241594180654651, 0.8376786560047694, 0.8284844349989037, 0.8311055718475073, 0.8443367570127531, 0.8296964190756885, 0.8339666611061297, 0.8264008351400365, 0.837026750643655, 0.7510508169355418, 0.8424060278922706, 0.8504106405519757, 0.8226363620950033, 0.7584680125640751, 0.829350511148826, 0.8369156215766436, 0.8635716418745355, 0.8406334676199476, 0.8390890350280458, 0.8451596691956912, 0.8400684376183977, 0.8426217299900886, 0.8432449504649394, 0.8258231207965553, 0.8107140584953368, 0.819870889490072, 0.8451596691956912, 0.8291672786712235, 0.8210902856201467, 0.8727659456644276]}, {\"categories\": [\"0\", \"1\", \"2\", \"3\", \"4\", \"6\", \"10\", \"13\", \"15\", \"17\", \"22\", \"23\", \"25\", \"26\", \"27\", \"29\", \"30\", \"31\", \"32\", \"33\", \"34\", \"36\", \"37\", \"38\", \"39\", \"40\", \"41\", \"42\", \"43\", \"44\", \"46\", \"47\", \"52\"], \"mode\": \"lines\", \"name\": \"precision_score_weighted_max\", \"stepped\": true, \"type\": \"scatter\", \"data\": [0.8262799266252276, 0.8262799266252276, 0.8477685706397755, 0.8477685706397755, 0.8477685706397755, 0.8477685706397755, 0.8477685706397755, 0.8477685706397755, 0.8477685706397755, 0.8477685706397755, 0.8477685706397755, 0.8477685706397755, 0.8477685706397755, 0.8477685706397755, 0.8504106405519757, 0.8504106405519757, 0.8504106405519757, 0.8504106405519757, 0.8504106405519757, 0.8635716418745355, 0.8635716418745355, 0.8635716418745355, 0.8635716418745355, 0.8635716418745355, 0.8635716418745355, 0.8635716418745355, 0.8635716418745355, 0.8635716418745355, 0.8635716418745355, 0.8635716418745355, 0.8635716418745355, 0.8635716418745355, 0.8727659456644276]}], \"matthews_correlation\": [{\"categories\": [\"0\", \"1\", \"2\", \"3\", \"4\", \"6\", \"10\", \"13\", \"15\", \"17\", \"22\", \"23\", \"25\", \"26\", \"27\", \"29\", \"30\", \"31\", \"32\", \"33\", \"34\", \"36\", \"37\", \"38\", \"39\", \"40\", \"41\", \"42\", \"43\", \"44\", \"46\", \"47\", \"52\"], \"mode\": \"markers\", \"name\": \"matthews_correlation\", \"stepped\": false, \"type\": \"scatter\", \"data\": [0.6281999109043686, 0.6331746195926933, 0.6817852752993999, 0.6335112822043067, 0.6568405230052071, 0.642360360546197, 0.6455893407065532, 0.6739249104613111, 0.6447990530494215, 0.6535335125069514, 0.6400267136206763, 0.6563212879653518, 0.4782292346369002, 0.6715334718774817, 0.6828170522071744, 0.6315842986410221, 0.5016664965089792, 0.6428603110507819, 0.6559758185804049, 0.7131401660445882, 0.6661380192599362, 0.6584512424003264, 0.6712570647179581, 0.6678917122007781, 0.666499759128384, 0.6721162636768605, 0.6327536462263474, 0.6004985839669621, 0.6202428374320329, 0.6712570647179581, 0.6464000111489102, 0.6157847420111543, 0.7326414601145232]}, {\"categories\": [\"0\", \"1\", \"2\", \"3\", \"4\", \"6\", \"10\", \"13\", \"15\", \"17\", \"22\", \"23\", \"25\", \"26\", \"27\", \"29\", \"30\", \"31\", \"32\", \"33\", \"34\", \"36\", \"37\", \"38\", \"39\", \"40\", \"41\", \"42\", \"43\", \"44\", \"46\", \"47\", \"52\"], \"mode\": \"lines\", \"name\": \"matthews_correlation_max\", \"stepped\": true, \"type\": \"scatter\", \"data\": [0.6281999109043686, 0.6331746195926933, 0.6817852752993999, 0.6817852752993999, 0.6817852752993999, 0.6817852752993999, 0.6817852752993999, 0.6817852752993999, 0.6817852752993999, 0.6817852752993999, 0.6817852752993999, 0.6817852752993999, 0.6817852752993999, 0.6817852752993999, 0.6828170522071744, 0.6828170522071744, 0.6828170522071744, 0.6828170522071744, 0.6828170522071744, 0.7131401660445882, 0.7131401660445882, 0.7131401660445882, 0.7131401660445882, 0.7131401660445882, 0.7131401660445882, 0.7131401660445882, 0.7131401660445882, 0.7131401660445882, 0.7131401660445882, 0.7131401660445882, 0.7131401660445882, 0.7131401660445882, 0.7326414601145232]}], \"average_precision_score_weighted\": [{\"categories\": [\"0\", \"1\", \"2\", \"3\", \"4\", \"6\", \"10\", \"13\", \"15\", \"17\", \"22\", \"23\", \"25\", \"26\", \"27\", \"29\", \"30\", \"31\", \"32\", \"33\", \"34\", \"36\", \"37\", \"38\", \"39\", \"40\", \"41\", \"42\", \"43\", \"44\", \"46\", \"47\", \"52\"], \"mode\": \"markers\", \"name\": \"average_precision_score_weighted\", \"stepped\": false, \"type\": \"scatter\", \"data\": [0.8919494524740141, 0.9010638342497428, 0.913440249074578, 0.8964318421302082, 0.909550491461881, 0.8909066003218575, 0.9017669523239654, 0.9161825920221469, 0.9153452439932874, 0.9240942502271616, 0.881668568036603, 0.8982936697801677, 0.881367565675969, 0.9088402981969151, 0.9113786704281244, 0.9016944347107415, 0.8404598884242859, 0.9097239663893983, 0.90835729775313, 0.9229448206548632, 0.924777472794902, 0.9098366580127776, 0.9115143073124778, 0.9169384420104357, 0.9161070856192526, 0.9160055157299547, 0.9067190033296436, 0.9061223394206428, 0.884119492094037, 0.9115143073124778, 0.9126158065106367, 0.9224309448884409, 0.9191587575983101]}, {\"categories\": [\"0\", \"1\", \"2\", \"3\", \"4\", \"6\", \"10\", \"13\", \"15\", \"17\", \"22\", \"23\", \"25\", \"26\", \"27\", \"29\", \"30\", \"31\", \"32\", \"33\", \"34\", \"36\", \"37\", \"38\", \"39\", \"40\", \"41\", \"42\", \"43\", \"44\", \"46\", \"47\", \"52\"], \"mode\": \"lines\", \"name\": \"average_precision_score_weighted_max\", \"stepped\": true, \"type\": \"scatter\", \"data\": [0.8919494524740141, 0.9010638342497428, 0.913440249074578, 0.913440249074578, 0.913440249074578, 0.913440249074578, 0.913440249074578, 0.9161825920221469, 0.9161825920221469, 0.9240942502271616, 0.9240942502271616, 0.9240942502271616, 0.9240942502271616, 0.9240942502271616, 0.9240942502271616, 0.9240942502271616, 0.9240942502271616, 0.9240942502271616, 0.9240942502271616, 0.9240942502271616, 0.924777472794902, 0.924777472794902, 0.924777472794902, 0.924777472794902, 0.924777472794902, 0.924777472794902, 0.924777472794902, 0.924777472794902, 0.924777472794902, 0.924777472794902, 0.924777472794902, 0.924777472794902, 0.924777472794902]}], \"recall_score_micro\": [{\"categories\": [\"0\", \"1\", \"2\", \"3\", \"4\", \"6\", \"10\", \"13\", \"15\", \"17\", \"22\", \"23\", \"25\", \"26\", \"27\", \"29\", \"30\", \"31\", \"32\", \"33\", \"34\", \"36\", \"37\", \"38\", \"39\", \"40\", \"41\", \"42\", \"43\", \"44\", \"46\", \"47\", \"52\"], \"mode\": \"markers\", \"name\": \"recall_score_micro\", \"stepped\": false, \"type\": \"scatter\", \"data\": [0.811505376344086, 0.8179569892473119, 0.8410752688172043, 0.8181720430107526, 0.8312903225806452, 0.8246236559139785, 0.8246236559139787, 0.8376344086021505, 0.824516129032258, 0.8279569892473118, 0.8212903225806452, 0.8280645161290321, 0.7459139784946236, 0.837956989247312, 0.8411827956989246, 0.818279569892473, 0.7554838709677419, 0.8216129032258065, 0.8280645161290321, 0.857741935483871, 0.8347311827956991, 0.8279569892473118, 0.8347311827956988, 0.8345161290322581, 0.8312903225806452, 0.8346236559139785, 0.8180645161290322, 0.801505376344086, 0.8116129032258066, 0.8347311827956988, 0.8247311827956988, 0.8084946236559141, 0.867741935483871]}, {\"categories\": [\"0\", \"1\", \"2\", \"3\", \"4\", \"6\", \"10\", \"13\", \"15\", \"17\", \"22\", \"23\", \"25\", \"26\", \"27\", \"29\", \"30\", \"31\", \"32\", \"33\", \"34\", \"36\", \"37\", \"38\", \"39\", \"40\", \"41\", \"42\", \"43\", \"44\", \"46\", \"47\", \"52\"], \"mode\": \"lines\", \"name\": \"recall_score_micro_max\", \"stepped\": true, \"type\": \"scatter\", \"data\": [0.811505376344086, 0.8179569892473119, 0.8410752688172043, 0.8410752688172043, 0.8410752688172043, 0.8410752688172043, 0.8410752688172043, 0.8410752688172043, 0.8410752688172043, 0.8410752688172043, 0.8410752688172043, 0.8410752688172043, 0.8410752688172043, 0.8410752688172043, 0.8411827956989246, 0.8411827956989246, 0.8411827956989246, 0.8411827956989246, 0.8411827956989246, 0.857741935483871, 0.857741935483871, 0.857741935483871, 0.857741935483871, 0.857741935483871, 0.857741935483871, 0.857741935483871, 0.857741935483871, 0.857741935483871, 0.857741935483871, 0.857741935483871, 0.857741935483871, 0.857741935483871, 0.867741935483871]}], \"f1_score_micro\": [{\"categories\": [\"0\", \"1\", \"2\", \"3\", \"4\", \"6\", \"10\", \"13\", \"15\", \"17\", \"22\", \"23\", \"25\", \"26\", \"27\", \"29\", \"30\", \"31\", \"32\", \"33\", \"34\", \"36\", \"37\", \"38\", \"39\", \"40\", \"41\", \"42\", \"43\", \"44\", \"46\", \"47\", \"52\"], \"mode\": \"markers\", \"name\": \"f1_score_micro\", \"stepped\": false, \"type\": \"scatter\", \"data\": [0.811505376344086, 0.8179569892473119, 0.8410752688172043, 0.8181720430107526, 0.8312903225806452, 0.8246236559139785, 0.8246236559139787, 0.8376344086021505, 0.8245161290322581, 0.8279569892473118, 0.8212903225806452, 0.8280645161290321, 0.7459139784946237, 0.837956989247312, 0.8411827956989246, 0.818279569892473, 0.7554838709677419, 0.8216129032258067, 0.8280645161290321, 0.857741935483871, 0.8347311827956991, 0.8279569892473118, 0.8347311827956988, 0.8345161290322581, 0.8312903225806452, 0.8346236559139786, 0.8180645161290322, 0.801505376344086, 0.8116129032258066, 0.8347311827956988, 0.824731182795699, 0.8084946236559141, 0.867741935483871]}, {\"categories\": [\"0\", \"1\", \"2\", \"3\", \"4\", \"6\", \"10\", \"13\", \"15\", \"17\", \"22\", \"23\", \"25\", \"26\", \"27\", \"29\", \"30\", \"31\", \"32\", \"33\", \"34\", \"36\", \"37\", \"38\", \"39\", \"40\", \"41\", \"42\", \"43\", \"44\", \"46\", \"47\", \"52\"], \"mode\": \"lines\", \"name\": \"f1_score_micro_max\", \"stepped\": true, \"type\": \"scatter\", \"data\": [0.811505376344086, 0.8179569892473119, 0.8410752688172043, 0.8410752688172043, 0.8410752688172043, 0.8410752688172043, 0.8410752688172043, 0.8410752688172043, 0.8410752688172043, 0.8410752688172043, 0.8410752688172043, 0.8410752688172043, 0.8410752688172043, 0.8410752688172043, 0.8411827956989246, 0.8411827956989246, 0.8411827956989246, 0.8411827956989246, 0.8411827956989246, 0.857741935483871, 0.857741935483871, 0.857741935483871, 0.857741935483871, 0.857741935483871, 0.857741935483871, 0.857741935483871, 0.857741935483871, 0.857741935483871, 0.857741935483871, 0.857741935483871, 0.857741935483871, 0.857741935483871, 0.867741935483871]}], \"accuracy\": [{\"categories\": [\"0\", \"1\", \"2\", \"3\", \"4\", \"6\", \"10\", \"13\", \"15\", \"17\", \"22\", \"23\", \"25\", \"26\", \"27\", \"29\", \"30\", \"31\", \"32\", \"33\", \"34\", \"36\", \"37\", \"38\", \"39\", \"40\", \"41\", \"42\", \"43\", \"44\", \"46\", \"47\", \"52\"], \"mode\": \"markers\", \"name\": \"accuracy\", \"stepped\": false, \"type\": \"scatter\", \"data\": [0.811505376344086, 0.8179569892473119, 0.8410752688172043, 0.8181720430107526, 0.8312903225806452, 0.8246236559139785, 0.8246236559139787, 0.8376344086021505, 0.824516129032258, 0.8279569892473118, 0.8212903225806452, 0.8280645161290321, 0.7459139784946236, 0.837956989247312, 0.8411827956989246, 0.818279569892473, 0.7554838709677419, 0.8216129032258065, 0.8280645161290321, 0.857741935483871, 0.8347311827956991, 0.8279569892473118, 0.8347311827956988, 0.8345161290322581, 0.8312903225806452, 0.8346236559139785, 0.8180645161290322, 0.801505376344086, 0.8116129032258066, 0.8347311827956988, 0.8247311827956988, 0.8084946236559141, 0.867741935483871]}, {\"categories\": [\"0\", \"1\", \"2\", \"3\", \"4\", \"6\", \"10\", \"13\", \"15\", \"17\", \"22\", \"23\", \"25\", \"26\", \"27\", \"29\", \"30\", \"31\", \"32\", \"33\", \"34\", \"36\", \"37\", \"38\", \"39\", \"40\", \"41\", \"42\", \"43\", \"44\", \"46\", \"47\", \"52\"], \"mode\": \"lines\", \"name\": \"accuracy_max\", \"stepped\": true, \"type\": \"scatter\", \"data\": [0.811505376344086, 0.8179569892473119, 0.8410752688172043, 0.8410752688172043, 0.8410752688172043, 0.8410752688172043, 0.8410752688172043, 0.8410752688172043, 0.8410752688172043, 0.8410752688172043, 0.8410752688172043, 0.8410752688172043, 0.8410752688172043, 0.8410752688172043, 0.8411827956989246, 0.8411827956989246, 0.8411827956989246, 0.8411827956989246, 0.8411827956989246, 0.857741935483871, 0.857741935483871, 0.857741935483871, 0.857741935483871, 0.857741935483871, 0.857741935483871, 0.857741935483871, 0.857741935483871, 0.857741935483871, 0.857741935483871, 0.857741935483871, 0.857741935483871, 0.857741935483871, 0.867741935483871]}], \"average_precision_score_micro\": [{\"categories\": [\"0\", \"1\", \"2\", \"3\", \"4\", \"6\", \"10\", \"13\", \"15\", \"17\", \"22\", \"23\", \"25\", \"26\", \"27\", \"29\", \"30\", \"31\", \"32\", \"33\", \"34\", \"36\", \"37\", \"38\", \"39\", \"40\", \"41\", \"42\", \"43\", \"44\", \"46\", \"47\", \"52\"], \"mode\": \"markers\", \"name\": \"average_precision_score_micro\", \"stepped\": false, \"type\": \"scatter\", \"data\": [0.8785300785590453, 0.895605229754536, 0.9031383689148, 0.8886681880510645, 0.9033450280058067, 0.8830988926219391, 0.8952576640772998, 0.9090312414166174, 0.9080528729737989, 0.9141416857257731, 0.8745863504867666, 0.8896251308654046, 0.8719636464189428, 0.896576181036276, 0.9044324129488495, 0.8941777782214265, 0.8324881346528505, 0.9015850696142064, 0.8997365489928262, 0.9122964393882882, 0.9149900323251654, 0.9025051663054164, 0.9038736183843288, 0.9072247477674791, 0.9079819277303358, 0.9063578354498226, 0.9016043260528432, 0.8910093533211529, 0.8809736088643978, 0.9033043584885961, 0.9018486868514449, 0.9093013275241832, 0.9108483614373009]}, {\"categories\": [\"0\", \"1\", \"2\", \"3\", \"4\", \"6\", \"10\", \"13\", \"15\", \"17\", \"22\", \"23\", \"25\", \"26\", \"27\", \"29\", \"30\", \"31\", \"32\", \"33\", \"34\", \"36\", \"37\", \"38\", \"39\", \"40\", \"41\", \"42\", \"43\", \"44\", \"46\", \"47\", \"52\"], \"mode\": \"lines\", \"name\": \"average_precision_score_micro_max\", \"stepped\": true, \"type\": \"scatter\", \"data\": [0.8785300785590453, 0.895605229754536, 0.9031383689148, 0.9031383689148, 0.9033450280058067, 0.9033450280058067, 0.9033450280058067, 0.9090312414166174, 0.9090312414166174, 0.9141416857257731, 0.9141416857257731, 0.9141416857257731, 0.9141416857257731, 0.9141416857257731, 0.9141416857257731, 0.9141416857257731, 0.9141416857257731, 0.9141416857257731, 0.9141416857257731, 0.9141416857257731, 0.9149900323251654, 0.9149900323251654, 0.9149900323251654, 0.9149900323251654, 0.9149900323251654, 0.9149900323251654, 0.9149900323251654, 0.9149900323251654, 0.9149900323251654, 0.9149900323251654, 0.9149900323251654, 0.9149900323251654, 0.9149900323251654]}], \"precision_score_macro\": [{\"categories\": [\"0\", \"1\", \"2\", \"3\", \"4\", \"6\", \"10\", \"13\", \"15\", \"17\", \"22\", \"23\", \"25\", \"26\", \"27\", \"29\", \"30\", \"31\", \"32\", \"33\", \"34\", \"36\", \"37\", \"38\", \"39\", \"40\", \"41\", \"42\", \"43\", \"44\", \"46\", \"47\", \"52\"], \"mode\": \"markers\", \"name\": \"precision_score_macro\", \"stepped\": false, \"type\": \"scatter\", \"data\": [0.8214211740701678, 0.8219988224709587, 0.8427817648038236, 0.8186408201791329, 0.8338508788682937, 0.8241817251376075, 0.827123676117484, 0.8398742556463145, 0.8255668881771824, 0.8286145676219204, 0.822512982588447, 0.8325586725011277, 0.7493682815006344, 0.8383618832148244, 0.8460265404175251, 0.8165007910905743, 0.7529968275188862, 0.8251420097024317, 0.8329435572242477, 0.8609866889646302, 0.836286695330813, 0.8341970586248081, 0.8405328429385335, 0.8356535337727289, 0.8367061165958226, 0.8383020443179113, 0.8202774676304088, 0.8085465689132064, 0.8154057657598679, 0.8405328429385335, 0.8257597429230558, 0.8179690175665408, 0.8710516444339975]}, {\"categories\": [\"0\", \"1\", \"2\", \"3\", \"4\", \"6\", \"10\", \"13\", \"15\", \"17\", \"22\", \"23\", \"25\", \"26\", \"27\", \"29\", \"30\", \"31\", \"32\", \"33\", \"34\", \"36\", \"37\", \"38\", \"39\", \"40\", \"41\", \"42\", \"43\", \"44\", \"46\", \"47\", \"52\"], \"mode\": \"lines\", \"name\": \"precision_score_macro_max\", \"stepped\": true, \"type\": \"scatter\", \"data\": [0.8214211740701678, 0.8219988224709587, 0.8427817648038236, 0.8427817648038236, 0.8427817648038236, 0.8427817648038236, 0.8427817648038236, 0.8427817648038236, 0.8427817648038236, 0.8427817648038236, 0.8427817648038236, 0.8427817648038236, 0.8427817648038236, 0.8427817648038236, 0.8460265404175251, 0.8460265404175251, 0.8460265404175251, 0.8460265404175251, 0.8460265404175251, 0.8609866889646302, 0.8609866889646302, 0.8609866889646302, 0.8609866889646302, 0.8609866889646302, 0.8609866889646302, 0.8609866889646302, 0.8609866889646302, 0.8609866889646302, 0.8609866889646302, 0.8609866889646302, 0.8609866889646302, 0.8609866889646302, 0.8710516444339975]}], \"f1_score_weighted\": [{\"categories\": [\"0\", \"1\", \"2\", \"3\", \"4\", \"6\", \"10\", \"13\", \"15\", \"17\", \"22\", \"23\", \"25\", \"26\", \"27\", \"29\", \"30\", \"31\", \"32\", \"33\", \"34\", \"36\", \"37\", \"38\", \"39\", \"40\", \"41\", \"42\", \"43\", \"44\", \"46\", \"47\", \"52\"], \"mode\": \"markers\", \"name\": \"f1_score_weighted\", \"stepped\": false, \"type\": \"scatter\", \"data\": [0.8098393982665282, 0.8159674257271587, 0.8406733039744037, 0.8177319412479356, 0.8288309951038538, 0.8234527577963373, 0.8233630844798073, 0.837280642778756, 0.8231427435295826, 0.8273998265964563, 0.8207739042635707, 0.8259992948364003, 0.7404448800774601, 0.8372611116221463, 0.8390940783821208, 0.8182861501989322, 0.7548198970326869, 0.8209252051287725, 0.825931340822368, 0.8562809189208712, 0.8334268460511364, 0.8258944632603807, 0.8325752611778195, 0.8344505330279922, 0.8303307323351173, 0.8345478794602732, 0.8161632949972593, 0.7992679372551177, 0.8101253046073307, 0.8325752611778195, 0.824439619600661, 0.8053774375550382, 0.8661555432157855]}, {\"categories\": [\"0\", \"1\", \"2\", \"3\", \"4\", \"6\", \"10\", \"13\", \"15\", \"17\", \"22\", \"23\", \"25\", \"26\", \"27\", \"29\", \"30\", \"31\", \"32\", \"33\", \"34\", \"36\", \"37\", \"38\", \"39\", \"40\", \"41\", \"42\", \"43\", \"44\", \"46\", \"47\", \"52\"], \"mode\": \"lines\", \"name\": \"f1_score_weighted_max\", \"stepped\": true, \"type\": \"scatter\", \"data\": [0.8098393982665282, 0.8159674257271587, 0.8406733039744037, 0.8406733039744037, 0.8406733039744037, 0.8406733039744037, 0.8406733039744037, 0.8406733039744037, 0.8406733039744037, 0.8406733039744037, 0.8406733039744037, 0.8406733039744037, 0.8406733039744037, 0.8406733039744037, 0.8406733039744037, 0.8406733039744037, 0.8406733039744037, 0.8406733039744037, 0.8406733039744037, 0.8562809189208712, 0.8562809189208712, 0.8562809189208712, 0.8562809189208712, 0.8562809189208712, 0.8562809189208712, 0.8562809189208712, 0.8562809189208712, 0.8562809189208712, 0.8562809189208712, 0.8562809189208712, 0.8562809189208712, 0.8562809189208712, 0.8661555432157855]}], \"precision_score_micro\": [{\"categories\": [\"0\", \"1\", \"2\", \"3\", \"4\", \"6\", \"10\", \"13\", \"15\", \"17\", \"22\", \"23\", \"25\", \"26\", \"27\", \"29\", \"30\", \"31\", \"32\", \"33\", \"34\", \"36\", \"37\", \"38\", \"39\", \"40\", \"41\", \"42\", \"43\", \"44\", \"46\", \"47\", \"52\"], \"mode\": \"markers\", \"name\": \"precision_score_micro\", \"stepped\": false, \"type\": \"scatter\", \"data\": [0.811505376344086, 0.8179569892473119, 0.8410752688172043, 0.8181720430107526, 0.8312903225806452, 0.8246236559139785, 0.8246236559139787, 0.8376344086021505, 0.824516129032258, 0.8279569892473118, 0.8212903225806452, 0.8280645161290321, 0.7459139784946236, 0.837956989247312, 0.8411827956989246, 0.818279569892473, 0.7554838709677419, 0.8216129032258065, 0.8280645161290321, 0.857741935483871, 0.8347311827956991, 0.8279569892473118, 0.8347311827956988, 0.8345161290322581, 0.8312903225806452, 0.8346236559139785, 0.8180645161290322, 0.801505376344086, 0.8116129032258066, 0.8347311827956988, 0.8247311827956988, 0.8084946236559141, 0.867741935483871]}, {\"categories\": [\"0\", \"1\", \"2\", \"3\", \"4\", \"6\", \"10\", \"13\", \"15\", \"17\", \"22\", \"23\", \"25\", \"26\", \"27\", \"29\", \"30\", \"31\", \"32\", \"33\", \"34\", \"36\", \"37\", \"38\", \"39\", \"40\", \"41\", \"42\", \"43\", \"44\", \"46\", \"47\", \"52\"], \"mode\": \"lines\", \"name\": \"precision_score_micro_max\", \"stepped\": true, \"type\": \"scatter\", \"data\": [0.811505376344086, 0.8179569892473119, 0.8410752688172043, 0.8410752688172043, 0.8410752688172043, 0.8410752688172043, 0.8410752688172043, 0.8410752688172043, 0.8410752688172043, 0.8410752688172043, 0.8410752688172043, 0.8410752688172043, 0.8410752688172043, 0.8410752688172043, 0.8411827956989246, 0.8411827956989246, 0.8411827956989246, 0.8411827956989246, 0.8411827956989246, 0.857741935483871, 0.857741935483871, 0.857741935483871, 0.857741935483871, 0.857741935483871, 0.857741935483871, 0.857741935483871, 0.857741935483871, 0.857741935483871, 0.857741935483871, 0.857741935483871, 0.857741935483871, 0.857741935483871, 0.867741935483871]}], \"balanced_accuracy\": [{\"categories\": [\"0\", \"1\", \"2\", \"3\", \"4\", \"6\", \"10\", \"13\", \"15\", \"17\", \"22\", \"23\", \"25\", \"26\", \"27\", \"29\", \"30\", \"31\", \"32\", \"33\", \"34\", \"36\", \"37\", \"38\", \"39\", \"40\", \"41\", \"42\", \"43\", \"44\", \"46\", \"47\", \"52\"], \"mode\": \"markers\", \"name\": \"balanced_accuracy\", \"stepped\": false, \"type\": \"scatter\", \"data\": [0.8071990726421842, 0.8115750673045564, 0.8392062065901076, 0.8149827013371904, 0.8232870715455857, 0.8184515415784765, 0.8186964211828762, 0.8342543060654517, 0.819503016548295, 0.8250925914470806, 0.8176277910256239, 0.8243226435157549, 0.7310440387356022, 0.8333490286373412, 0.8373599738324969, 0.815148553716665, 0.748813120359173, 0.8181981919868917, 0.8236014896696012, 0.8525514876850016, 0.8301416110549237, 0.8248160645683864, 0.8312937973619089, 0.8324136241725251, 0.8300511073034293, 0.8339936465323463, 0.8127693591238481, 0.7928356000724422, 0.8053949361611898, 0.8312937973619089, 0.8207957515910301, 0.8000115635138855, 0.8619703969491121]}, {\"categories\": [\"0\", \"1\", \"2\", \"3\", \"4\", \"6\", \"10\", \"13\", \"15\", \"17\", \"22\", \"23\", \"25\", \"26\", \"27\", \"29\", \"30\", \"31\", \"32\", \"33\", \"34\", \"36\", \"37\", \"38\", \"39\", \"40\", \"41\", \"42\", \"43\", \"44\", \"46\", \"47\", \"52\"], \"mode\": \"lines\", \"name\": \"balanced_accuracy_max\", \"stepped\": true, \"type\": \"scatter\", \"data\": [0.8071990726421842, 0.8115750673045564, 0.8392062065901076, 0.8392062065901076, 0.8392062065901076, 0.8392062065901076, 0.8392062065901076, 0.8392062065901076, 0.8392062065901076, 0.8392062065901076, 0.8392062065901076, 0.8392062065901076, 0.8392062065901076, 0.8392062065901076, 0.8392062065901076, 0.8392062065901076, 0.8392062065901076, 0.8392062065901076, 0.8392062065901076, 0.8525514876850016, 0.8525514876850016, 0.8525514876850016, 0.8525514876850016, 0.8525514876850016, 0.8525514876850016, 0.8525514876850016, 0.8525514876850016, 0.8525514876850016, 0.8525514876850016, 0.8525514876850016, 0.8525514876850016, 0.8525514876850016, 0.8619703969491121]}], \"AUC_weighted\": [{\"categories\": [\"0\", \"1\", \"2\", \"3\", \"4\", \"6\", \"10\", \"13\", \"15\", \"17\", \"22\", \"23\", \"25\", \"26\", \"27\", \"29\", \"30\", \"31\", \"32\", \"33\", \"34\", \"36\", \"37\", \"38\", \"39\", \"40\", \"41\", \"42\", \"43\", \"44\", \"46\", \"47\", \"52\"], \"mode\": \"markers\", \"name\": \"AUC_weighted\", \"stepped\": false, \"type\": \"scatter\", \"data\": [0.8828390759710418, 0.889146318736876, 0.9112177247273998, 0.8903471930546234, 0.9027958154390043, 0.8815164847908654, 0.895501467300616, 0.916237159204458, 0.9065104560472207, 0.9162348253598254, 0.8760746424699597, 0.8931365421071303, 0.8717078023169353, 0.9046709002784855, 0.9062648767927406, 0.8968440772477149, 0.8474311683328711, 0.9034703930400527, 0.9022885188713363, 0.9190957888717177, 0.9181599809575817, 0.9039586442252852, 0.9060484205337147, 0.9112365780933892, 0.9115423542888713, 0.9113120039575147, 0.8985423431487671, 0.899236096863806, 0.882121950575511, 0.9060484205337147, 0.9083167454177516, 0.9183171079866126, 0.9183532952542242]}, {\"categories\": [\"0\", \"1\", \"2\", \"3\", \"4\", \"6\", \"10\", \"13\", \"15\", \"17\", \"22\", \"23\", \"25\", \"26\", \"27\", \"29\", \"30\", \"31\", \"32\", \"33\", \"34\", \"36\", \"37\", \"38\", \"39\", \"40\", \"41\", \"42\", \"43\", \"44\", \"46\", \"47\", \"52\"], \"mode\": \"lines\", \"name\": \"AUC_weighted_max\", \"stepped\": true, \"type\": \"scatter\", \"data\": [0.8828390759710418, 0.889146318736876, 0.9112177247273998, 0.9112177247273998, 0.9112177247273998, 0.9112177247273998, 0.9112177247273998, 0.916237159204458, 0.916237159204458, 0.916237159204458, 0.916237159204458, 0.916237159204458, 0.916237159204458, 0.916237159204458, 0.916237159204458, 0.916237159204458, 0.916237159204458, 0.916237159204458, 0.916237159204458, 0.9190957888717177, 0.9190957888717177, 0.9190957888717177, 0.9190957888717177, 0.9190957888717177, 0.9190957888717177, 0.9190957888717177, 0.9190957888717177, 0.9190957888717177, 0.9190957888717177, 0.9190957888717177, 0.9190957888717177, 0.9190957888717177, 0.9190957888717177]}]}, \"metricName\": null, \"primaryMetricName\": \"accuracy\", \"showLegend\": false}, \"run_metrics\": [], \"run_logs\": \"\\nRun is completed.\", \"graph\": {}, \"widget_settings\": {\"childWidgetDisplay\": \"popup\", \"send_telemetry\": false, \"log_level\": \"INFO\", \"sdk_version\": \"1.38.0\"}, \"loading\": false}"
          },
          "metadata": {},
          "output_type": "display_data"
        },
        {
          "name": "stdout",
          "output_type": "stream",
          "text": [
            "Current provisioning state of AmlCompute is \"Deleting\"\n",
            "\n",
            "Current provisioning state of AmlCompute is \"Deleting\"\n",
            "\n",
            "Current provisioning state of AmlCompute is \"Deleting\"\n",
            "\n",
            "Current provisioning state of AmlCompute is \"Deleting\"\n",
            "\n",
            "Current provisioning state of AmlCompute is \"Deleting\"\n",
            "\n",
            "Current provisioning state of AmlCompute is \"Deleting\"\n",
            "\n",
            "Current provisioning state of AmlCompute is \"Deleting\"\n",
            "\n"
          ]
        }
      ],
      "source": [
        "\n",
        "RunDetails(remote_run).show()"
      ]
    },
    {
      "cell_type": "code",
      "execution_count": 10,
      "metadata": {
        "gather": {
          "logged": 1646047382803
        }
      },
      "outputs": [
        {
          "data": {
            "text/plain": [
              "{'runId': 'AutoML_e5ea044e-9331-43d9-a18a-e984edae10f1',\n",
              " 'target': 'automl-cluster',\n",
              " 'status': 'Completed',\n",
              " 'startTimeUtc': '2022-02-28T11:08:07.474147Z',\n",
              " 'endTimeUtc': '2022-02-28T11:22:59.042347Z',\n",
              " 'services': {},\n",
              " 'properties': {'num_iterations': '1000',\n",
              "  'training_type': 'TrainFull',\n",
              "  'acquisition_function': 'EI',\n",
              "  'primary_metric': 'accuracy',\n",
              "  'train_split': '0',\n",
              "  'acquisition_parameter': '0',\n",
              "  'num_cross_validation': None,\n",
              "  'target': 'automl-cluster',\n",
              "  'AMLSettingsJsonString': '{\"path\":null,\"name\":\"automl-exp\",\"subscription_id\":\"9a7511b8-150f-4a58-8528-3e7d50216c31\",\"resource_group\":\"aml-quickstarts-187667\",\"workspace_name\":\"quick-starts-ws-187667\",\"region\":\"southcentralus\",\"compute_target\":\"automl-cluster\",\"spark_service\":null,\"azure_service\":\"remote\",\"many_models\":false,\"pipeline_fetch_max_batch_size\":1,\"enable_batch_run\":true,\"enable_run_restructure\":false,\"start_auxiliary_runs_before_parent_complete\":false,\"enable_code_generation\":false,\"iterations\":1000,\"primary_metric\":\"accuracy\",\"task_type\":\"classification\",\"positive_label\":null,\"data_script\":null,\"test_size\":0.0,\"test_include_predictions_only\":false,\"validation_size\":0.0,\"n_cross_validations\":null,\"y_min\":null,\"y_max\":null,\"num_classes\":null,\"featurization\":\"auto\",\"_ignore_package_version_incompatibilities\":false,\"is_timeseries\":false,\"max_cores_per_iteration\":1,\"max_concurrent_iterations\":5,\"iteration_timeout_minutes\":null,\"mem_in_mb\":null,\"enforce_time_on_windows\":false,\"experiment_timeout_minutes\":60,\"experiment_exit_score\":null,\"whitelist_models\":null,\"blacklist_algos\":[\"TensorFlowLinearClassifier\",\"TensorFlowDNN\"],\"supported_models\":[\"MultinomialNaiveBayes\",\"LogisticRegression\",\"KNN\",\"LightGBM\",\"SGD\",\"TensorFlowLinearClassifier\",\"SVM\",\"ExtremeRandomTrees\",\"AveragedPerceptronClassifier\",\"TensorFlowDNN\",\"GradientBoosting\",\"XGBoostClassifier\",\"RandomForest\",\"LinearSVM\",\"TabnetClassifier\",\"DecisionTree\",\"BernoulliNaiveBayes\"],\"private_models\":[],\"auto_blacklist\":true,\"blacklist_samples_reached\":false,\"exclude_nan_labels\":true,\"verbosity\":20,\"_debug_log\":\"azureml_automl.log\",\"show_warnings\":false,\"model_explainability\":true,\"service_url\":null,\"sdk_url\":null,\"sdk_packages\":null,\"enable_onnx_compatible_models\":false,\"enable_split_onnx_featurizer_estimator_models\":false,\"vm_type\":\"STANDARD_DS12_V2\",\"telemetry_verbosity\":20,\"send_telemetry\":true,\"enable_dnn\":false,\"scenario\":\"SDK-1.13.0\",\"environment_label\":null,\"save_mlflow\":false,\"enable_categorical_indicators\":false,\"force_text_dnn\":false,\"enable_feature_sweeping\":true,\"enable_early_stopping\":true,\"early_stopping_n_iters\":10,\"arguments\":null,\"dataset_id\":null,\"hyperdrive_config\":null,\"validation_dataset_id\":null,\"run_source\":null,\"metrics\":null,\"enable_metric_confidence\":false,\"enable_ensembling\":true,\"enable_stack_ensembling\":true,\"ensemble_iterations\":15,\"enable_tf\":false,\"enable_subsampling\":null,\"subsample_seed\":null,\"enable_nimbusml\":false,\"enable_streaming\":false,\"force_streaming\":false,\"track_child_runs\":true,\"allowed_private_models\":[],\"label_column_name\":\"target\",\"weight_column_name\":null,\"cv_split_column_names\":null,\"enable_local_managed\":false,\"_local_managed_run_id\":null,\"cost_mode\":1,\"lag_length\":0,\"metric_operation\":\"maximize\",\"preprocess\":true}',\n",
              "  'DataPrepJsonString': '{\\\\\"training_data\\\\\": {\\\\\"datasetId\\\\\": \\\\\"6f359f17-6ce1-43b9-a8ae-acf87158a4c6\\\\\"}, \\\\\"datasets\\\\\": 0}',\n",
              "  'EnableSubsampling': None,\n",
              "  'runTemplate': 'AutoML',\n",
              "  'azureml.runsource': 'automl',\n",
              "  'display_task_type': 'classification',\n",
              "  'dependencies_versions': '{\"azureml-widgets\": \"1.38.0\", \"azureml-train\": \"1.38.0\", \"azureml-train-restclients-hyperdrive\": \"1.38.0\", \"azureml-train-core\": \"1.38.0\", \"azureml-train-automl\": \"1.38.0\", \"azureml-train-automl-runtime\": \"1.38.0\", \"azureml-train-automl-client\": \"1.38.0\", \"azureml-tensorboard\": \"1.38.0\", \"azureml-telemetry\": \"1.38.0\", \"azureml-sdk\": \"1.38.0\", \"azureml-responsibleai\": \"1.38.0\", \"azureml-pipeline\": \"1.38.0\", \"azureml-pipeline-steps\": \"1.38.0\", \"azureml-pipeline-core\": \"1.38.0\", \"azureml-opendatasets\": \"1.38.0\", \"azureml-mlflow\": \"1.38.0\", \"azureml-interpret\": \"1.38.0\", \"azureml-inference-server-http\": \"0.4.2\", \"azureml-explain-model\": \"1.38.0\", \"azureml-defaults\": \"1.38.0\", \"azureml-dataset-runtime\": \"1.38.0\", \"azureml-dataprep\": \"2.26.0\", \"azureml-dataprep-rslex\": \"2.2.0\", \"azureml-dataprep-native\": \"38.0.0\", \"azureml-datadrift\": \"1.38.0\", \"azureml-core\": \"1.38.0\", \"azureml-contrib-services\": \"1.38.0\", \"azureml-contrib-server\": \"1.38.0\", \"azureml-contrib-reinforcementlearning\": \"1.38.0\", \"azureml-contrib-pipeline-steps\": \"1.38.0\", \"azureml-contrib-notebook\": \"1.38.0\", \"azureml-contrib-fairness\": \"1.38.0\", \"azureml-contrib-dataset\": \"1.38.0\", \"azureml-contrib-automl-pipeline-steps\": \"1.38.0\", \"azureml-cli-common\": \"1.38.0\", \"azureml-automl-runtime\": \"1.38.0\", \"azureml-automl-dnn-nlp\": \"1.38.0\", \"azureml-automl-core\": \"1.38.0\", \"azureml-accel-models\": \"1.38.0\"}',\n",
              "  '_aml_system_scenario_identification': 'Remote.Parent',\n",
              "  'ClientType': 'SDK',\n",
              "  'environment_cpu_name': 'AzureML-AutoML',\n",
              "  'environment_cpu_label': 'py36',\n",
              "  'environment_gpu_name': 'AzureML-AutoML-GPU',\n",
              "  'environment_gpu_label': 'py36',\n",
              "  'root_attribution': 'automl',\n",
              "  'attribution': 'AutoML',\n",
              "  'Orchestrator': 'AutoML',\n",
              "  'CancelUri': 'https://southcentralus.api.azureml.ms/jasmine/v1.0/subscriptions/9a7511b8-150f-4a58-8528-3e7d50216c31/resourceGroups/aml-quickstarts-187667/providers/Microsoft.MachineLearningServices/workspaces/quick-starts-ws-187667/experimentids/fa43e4fe-371c-474f-aae6-9550e1d60c7b/cancel/AutoML_e5ea044e-9331-43d9-a18a-e984edae10f1',\n",
              "  'ClientSdkVersion': '1.38.0',\n",
              "  'snapshotId': '00000000-0000-0000-0000-000000000000',\n",
              "  'SetupRunId': 'AutoML_e5ea044e-9331-43d9-a18a-e984edae10f1_setup',\n",
              "  'SetupRunContainerId': 'dcid.AutoML_e5ea044e-9331-43d9-a18a-e984edae10f1_setup',\n",
              "  'FeaturizationRunJsonPath': 'featurizer_container.json',\n",
              "  'FeaturizationRunId': 'AutoML_e5ea044e-9331-43d9-a18a-e984edae10f1_featurize',\n",
              "  'ProblemInfoJsonString': '{\"dataset_num_categorical\": 0, \"is_sparse\": true, \"subsampling\": false, \"has_extra_col\": true, \"dataset_classes\": 2, \"dataset_features\": 27, \"dataset_samples\": 303, \"single_frequency_class_detected\": false}',\n",
              "  'ModelExplainRunId': 'AutoML_e5ea044e-9331-43d9-a18a-e984edae10f1_ModelExplain'},\n",
              " 'inputDatasets': [{'dataset': {'id': '6f359f17-6ce1-43b9-a8ae-acf87158a4c6'}, 'consumptionDetails': {'type': 'RunInput', 'inputName': 'training_data', 'mechanism': 'Direct'}}],\n",
              " 'outputDatasets': [],\n",
              " 'logFiles': {},\n",
              " 'submittedBy': 'ODL_User 187667'}"
            ]
          },
          "execution_count": 10,
          "metadata": {},
          "output_type": "execute_result"
        }
      ],
      "source": [
        "remote_run.wait_for_completion()"
      ]
    },
    {
      "cell_type": "markdown",
      "metadata": {},
      "source": [
        "## Best Model\n"
      ]
    },
    {
      "cell_type": "code",
      "execution_count": 13,
      "metadata": {
        "gather": {
          "logged": 1646176201796
        },
        "jupyter": {
          "outputs_hidden": false,
          "source_hidden": false
        },
        "nteract": {
          "transient": {
            "deleting": false
          }
        }
      },
      "outputs": [
        {
          "name": "stdout",
          "output_type": "stream",
          "text": [
            "Best Model Accuracy: 0.867741935483871\n",
            "Best Model Type:  VotingEnsemble\n"
          ]
        }
      ],
      "source": [
        "\n",
        "# Get your best run and save the model from that run.\n",
        "\n",
        "best_automl = remote_run.get_best_child()\n",
        "\n",
        "run, model = remote_run.get_output()\n",
        "\n",
        "print(\"Best Model Accuracy:\", best_automl.get_metrics()['accuracy'])\n",
        "print(\"Best Model Type: \", best_automl.get_details()['properties']['run_algorithm'])"
      ]
    },
    {
      "cell_type": "code",
      "execution_count": 14,
      "metadata": {
        "gather": {
          "logged": 1646176209600
        },
        "jupyter": {
          "outputs_hidden": false,
          "source_hidden": false
        },
        "nteract": {
          "transient": {
            "deleting": false
          }
        }
      },
      "outputs": [
        {
          "data": {
            "text/plain": [
              "Pipeline(memory=None,\n",
              "         steps=[('datatransformer',\n",
              "                 DataTransformer(enable_dnn=False, enable_feature_sweeping=True, feature_sweeping_config={}, feature_sweeping_timeout=86400, featurization_config=None, force_text_dnn=False, is_cross_validation=True, is_onnx_compatible=False, observer=None, task='classification', working_dir='/mnt/batch/tasks/shared/LS_root/mount...\n",
              ")), ('randomforestclassifier', RandomForestClassifier(bootstrap=False, ccp_alpha=0.0, class_weight=None, criterion='entropy', max_depth=None, max_features='log2', max_leaf_nodes=None, max_samples=None, min_impurity_decrease=0.0, min_impurity_split=None, min_samples_leaf=0.035789473684210524, min_samples_split=0.056842105263157895, min_weight_fraction_leaf=0.0, n_estimators=10, n_jobs=1, oob_score=False, random_state=None, verbose=0, warm_start=False))], verbose=False))], flatten_transform=None, weights=[0.18181818181818182, 0.18181818181818182, 0.18181818181818182, 0.09090909090909091, 0.09090909090909091, 0.18181818181818182, 0.09090909090909091]))],\n",
              "         verbose=False)"
            ]
          },
          "execution_count": 14,
          "metadata": {},
          "output_type": "execute_result"
        }
      ],
      "source": [
        "#TODO: Save the best model\n",
        "joblib.dump(model, 'aml_model.joblib')\n",
        "joblib.load('aml_model.joblib')"
      ]
    },
    {
      "cell_type": "markdown",
      "metadata": {},
      "source": [
        "## Model Deployment\n",
        "\n",
        "The deployment section was filled in and tested for this model but the logistic regression from the hyperdrive model resulted in greater accuracy, so this model was not deplooyed. "
      ]
    },
    {
      "cell_type": "code",
      "execution_count": 77,
      "metadata": {
        "gather": {
          "logged": 1646060706305
        },
        "jupyter": {
          "outputs_hidden": false,
          "source_hidden": false
        },
        "nteract": {
          "transient": {
            "deleting": false
          }
        }
      },
      "outputs": [
        {
          "name": "stdout",
          "output_type": "stream",
          "text": [
            "Tips: You can try get_logs(): https://aka.ms/debugimage#dockerlog or local deployment: https://aka.ms/debugimage#debug-locally to debug if deployment takes longer than 10 minutes.\n",
            "Running\n",
            "2022-02-28 14:58:45+00:00 Creating Container Registry if not exists.\n",
            "2022-02-28 14:58:45+00:00 Registering the environment.\n",
            "2022-02-28 14:58:45+00:00 Use the existing image.\n",
            "2022-02-28 14:58:45+00:00 Generating deployment configuration.\n",
            "2022-02-28 14:58:46+00:00 Submitting deployment to compute.\n",
            "2022-02-28 14:58:48+00:00 Checking the status of deployment automl-deploy..\n",
            "2022-02-28 15:05:02+00:00 Checking the status of inference endpoint automl-deploy.\n",
            "Succeeded\n",
            "ACI service creation operation finished, operation \"Succeeded\"\n",
            "http://488eef2d-3d34-4ddb-a3be-7d5780fe98b9.southcentralus.azurecontainer.io/score\n"
          ]
        }
      ],
      "source": [
        "environment = Environment.get(ws,\"AzureML-AutoML\")\n",
        "\n",
        "model = run.register_model(model_name='automl-best-model',model_path='outputs/model.pkl')\n",
        "inference_config = InferenceConfig(entry_script='score.py',\n",
        "                                   environment=environment)\n",
        "service_name = 'automl-deploy'\n",
        "deployment_config = AciWebservice.deploy_configuration(cpu_cores=1.8, memory_gb=4)\n",
        "\n",
        "service = Model.deploy(workspace=ws,\n",
        "                       name=service_name,\n",
        "                       models=[model],\n",
        "                       inference_config=inference_config,\n",
        "                       deployment_config=deployment_config,\n",
        "                       overwrite=True\n",
        "                      )\n",
        "service.wait_for_deployment(show_output=True)\n",
        "\n",
        "scoring_uri = service.scoring_uri\n",
        "print(scoring_uri)\n",
        "service.update(enable_app_insights=True)\n",
        "service.wait_for_deployment(show_output=True)\n",
        "\n"
      ]
    },
    {
      "cell_type": "code",
      "execution_count": null,
      "metadata": {
        "gather": {
          "logged": 1646061055984
        },
        "jupyter": {
          "outputs_hidden": false,
          "source_hidden": false
        },
        "nteract": {
          "transient": {
            "deleting": false
          }
        }
      },
      "outputs": [],
      "source": [
        "data = {\"data\": [{\"age\": 63,\n",
        "        \"sex\": 1,\n",
        "        \"cp\": 3,\n",
        "        \"trestbps\": 145,\n",
        "        \"chol\": 233,\n",
        "        \"fbs\": 1,\n",
        "        \"restecg\": 0,\n",
        "        \"thalach\": 150,\n",
        "        \"exang\": 0,\n",
        "        \"oldpeak\": 2.3,\n",
        "        \"slope\": 0,\n",
        "        \"ca\": 0,\n",
        "        \"thal\": 1},\n",
        "\n",
        "    {\"age\": 56,\n",
        "        \"sex\": 1,\n",
        "        \"cp\": 0,\n",
        "        \"trestbps\": 125,\n",
        "        \"chol\": 249,\n",
        "        \"fbs\": 1,\n",
        "        \"restecg\": 0,\n",
        "        \"thalach\": 144,\n",
        "        \"exang\": 1,\n",
        "        \"oldpeak\": 1.2,\n",
        "        \"slope\": 1,\n",
        "        \"ca\": 1,\n",
        "        \"thal\": 2},\n",
        "      ]}\n",
        "    \n",
        "# Convert to JSON string\n",
        "input_data = json.dumps(data)\n",
        "with open(\"data.json\", \"w\") as _f:\n",
        "    _f.write(input_data)\n",
        "\n",
        "# Set the content type\n",
        "headers = {'Content-Type': 'application/json'}\n",
        "# If authentication is enabled, set the authorization header\n",
        "# headers['Authorization'] = f'Bearer {key}'\n",
        "\n",
        "# Make the request and display the response\n",
        "resp = requests.post(scoring_uri, input_data, headers=headers)\n",
        "print(resp.json())\n",
        "print(\"Case 0: No Heart Disease, Case 1: Heart Disease.\")\n",
        "\n",
        "# test using service instance\n",
        "output = service.run(input_data)\n",
        "output"
      ]
    },
    {
      "cell_type": "code",
      "execution_count": 82,
      "metadata": {
        "jupyter": {
          "outputs_hidden": false,
          "source_hidden": false
        },
        "nteract": {
          "transient": {
            "deleting": false
          }
        }
      },
      "outputs": [],
      "source": [
        "service.get_logs()"
      ]
    },
    {
      "cell_type": "code",
      "execution_count": 16,
      "metadata": {
        "gather": {
          "logged": 1646179965335
        },
        "jupyter": {
          "outputs_hidden": false,
          "source_hidden": false
        },
        "nteract": {
          "transient": {
            "deleting": false
          }
        }
      },
      "outputs": [
        {
          "name": "stdout",
          "output_type": "stream",
          "text": [
            "Current provisioning state of AmlCompute is \"Deleting\"\n",
            "\n"
          ]
        }
      ],
      "source": [
        "service.delete()\n",
        "compute_target.delete()"
      ]
    },
    {
      "cell_type": "markdown",
      "metadata": {},
      "source": [
        "**Submission Checklist**\n",
        "- I have registered the model.\n",
        "- I have deployed the model with the best accuracy as a webservice.\n",
        "- I have tested the webservice by sending a request to the model endpoint.\n",
        "- I have deleted the webservice and shutdown all the computes that I have used.\n",
        "- I have taken a screenshot showing the model endpoint as active.\n",
        "- The project includes a file containing the environment details.\n"
      ]
    },
    {
      "cell_type": "code",
      "execution_count": null,
      "metadata": {},
      "outputs": [],
      "source": []
    },
    {
      "cell_type": "markdown",
      "metadata": {},
      "source": []
    }
  ],
  "metadata": {
    "kernel_info": {
      "name": "python3-azureml"
    },
    "kernelspec": {
      "display_name": "Python 3.6 - AzureML",
      "language": "python",
      "name": "python3-azureml"
    },
    "language_info": {
      "codemirror_mode": {
        "name": "ipython",
        "version": 3
      },
      "file_extension": ".py",
      "mimetype": "text/x-python",
      "name": "python",
      "nbconvert_exporter": "python",
      "pygments_lexer": "ipython3",
      "version": "3.6.9"
    },
    "microsoft": {
      "host": {
        "AzureML": {
          "notebookHasBeenCompleted": true
        }
      }
    },
    "nteract": {
      "version": "nteract-front-end@1.0.0"
    }
  },
  "nbformat": 4,
  "nbformat_minor": 2
}
