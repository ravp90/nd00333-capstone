{
  "cells": [
    {
      "cell_type": "markdown",
      "metadata": {},
      "source": [
        "# Automated ML\n",
        "\n",
        "TODO: Import Dependencies. In the cell below, import all the dependencies that you will need to complete the project."
      ]
    },
    {
      "cell_type": "code",
      "execution_count": 13,
      "metadata": {
        "gather": {
          "logged": 1646047450946
        },
        "jupyter": {
          "outputs_hidden": false,
          "source_hidden": false
        },
        "nteract": {
          "transient": {
            "deleting": false
          }
        }
      },
      "outputs": [
        {
          "name": "stdout",
          "output_type": "stream",
          "text": [
            "SDK version: 1.38.0\n"
          ]
        }
      ],
      "source": [
        "import logging\n",
        "import os\n",
        "import csv\n",
        "import joblib\n",
        "import requests\n",
        "import json\n",
        "\n",
        "from matplotlib import pyplot as plt\n",
        "import numpy as np\n",
        "import pandas as pd\n",
        "from sklearn import datasets\n",
        "import pkg_resources\n",
        "\n",
        "import azureml.core\n",
        "from azureml.core.model import InferenceConfig\n",
        "from azureml.core.experiment import Experiment\n",
        "from azureml.core.workspace import Workspace\n",
        "from azureml.train.automl import AutoMLConfig\n",
        "from azureml.core.dataset import Dataset\n",
        "from azureml.core.compute import AmlCompute\n",
        "from azureml.core.compute import ComputeTarget\n",
        "from azureml.core.compute_target import ComputeTargetException\n",
        "from azureml.widgets import RunDetails\n",
        "from azureml.core import Model, Environment\n",
        "from azureml.core.webservice import AciWebservice\n",
        "\n",
        "from azureml.pipeline.steps import AutoMLStep\n",
        "\n",
        "# Check core SDK version number\n",
        "print(\"SDK version:\", azureml.core.VERSION)"
      ]
    },
    {
      "cell_type": "markdown",
      "metadata": {},
      "source": [
        "## Dataset\n",
        "\n",
        "### Overview\n",
        "The dataset chosen is the mushroom classification dataset which has a selection of mushroom properties and a classification of whether the mushroom is edible or poisonous. The data will be used to create a model for classifying is mushrooms are edible or inedible based on a selection of physical properties. \n",
        "\n",
        "TODO: Get data. In the cell below, write code to access the data you will be using in this project. Remember that the dataset needs to be external."
      ]
    },
    {
      "cell_type": "code",
      "execution_count": 3,
      "metadata": {
        "gather": {
          "logged": 1646045631934
        },
        "jupyter": {
          "outputs_hidden": false,
          "source_hidden": false
        },
        "nteract": {
          "transient": {
            "deleting": false
          }
        }
      },
      "outputs": [
        {
          "name": "stdout",
          "output_type": "stream",
          "text": [
            "quick-starts-ws-187667\n",
            "aml-quickstarts-187667\n",
            "southcentralus\n",
            "9a7511b8-150f-4a58-8528-3e7d50216c31\n"
          ]
        }
      ],
      "source": [
        "ws = Workspace.from_config()\n",
        "print(ws.name, ws.resource_group, ws.location, ws.subscription_id, sep = '\\n')\n",
        "\n",
        "experiment_name = 'automl-exp'\n",
        "\n",
        "experiment=Experiment(ws, experiment_name)"
      ]
    },
    {
      "cell_type": "code",
      "execution_count": 5,
      "metadata": {
        "gather": {
          "logged": 1646045657027
        }
      },
      "outputs": [
        {
          "data": {
            "text/html": [
              "<div>\n",
              "<style scoped>\n",
              "    .dataframe tbody tr th:only-of-type {\n",
              "        vertical-align: middle;\n",
              "    }\n",
              "\n",
              "    .dataframe tbody tr th {\n",
              "        vertical-align: top;\n",
              "    }\n",
              "\n",
              "    .dataframe thead th {\n",
              "        text-align: right;\n",
              "    }\n",
              "</style>\n",
              "<table border=\"1\" class=\"dataframe\">\n",
              "  <thead>\n",
              "    <tr style=\"text-align: right;\">\n",
              "      <th></th>\n",
              "      <th>age</th>\n",
              "      <th>sex</th>\n",
              "      <th>cp</th>\n",
              "      <th>trestbps</th>\n",
              "      <th>chol</th>\n",
              "      <th>fbs</th>\n",
              "      <th>restecg</th>\n",
              "      <th>thalach</th>\n",
              "      <th>exang</th>\n",
              "      <th>oldpeak</th>\n",
              "      <th>slope</th>\n",
              "      <th>ca</th>\n",
              "      <th>thal</th>\n",
              "      <th>target</th>\n",
              "    </tr>\n",
              "  </thead>\n",
              "  <tbody>\n",
              "    <tr>\n",
              "      <th>count</th>\n",
              "      <td>303.000000</td>\n",
              "      <td>303.000000</td>\n",
              "      <td>303.000000</td>\n",
              "      <td>303.000000</td>\n",
              "      <td>303.000000</td>\n",
              "      <td>303.000000</td>\n",
              "      <td>303.000000</td>\n",
              "      <td>303.000000</td>\n",
              "      <td>303.000000</td>\n",
              "      <td>303.000000</td>\n",
              "      <td>303.000000</td>\n",
              "      <td>303.000000</td>\n",
              "      <td>303.000000</td>\n",
              "      <td>303.000000</td>\n",
              "    </tr>\n",
              "    <tr>\n",
              "      <th>mean</th>\n",
              "      <td>54.366337</td>\n",
              "      <td>0.683168</td>\n",
              "      <td>0.966997</td>\n",
              "      <td>131.623762</td>\n",
              "      <td>246.264026</td>\n",
              "      <td>0.148515</td>\n",
              "      <td>0.528053</td>\n",
              "      <td>149.646865</td>\n",
              "      <td>0.326733</td>\n",
              "      <td>1.039604</td>\n",
              "      <td>1.399340</td>\n",
              "      <td>0.729373</td>\n",
              "      <td>2.313531</td>\n",
              "      <td>0.544554</td>\n",
              "    </tr>\n",
              "    <tr>\n",
              "      <th>std</th>\n",
              "      <td>9.082101</td>\n",
              "      <td>0.466011</td>\n",
              "      <td>1.032052</td>\n",
              "      <td>17.538143</td>\n",
              "      <td>51.830751</td>\n",
              "      <td>0.356198</td>\n",
              "      <td>0.525860</td>\n",
              "      <td>22.905161</td>\n",
              "      <td>0.469794</td>\n",
              "      <td>1.161075</td>\n",
              "      <td>0.616226</td>\n",
              "      <td>1.022606</td>\n",
              "      <td>0.612277</td>\n",
              "      <td>0.498835</td>\n",
              "    </tr>\n",
              "    <tr>\n",
              "      <th>min</th>\n",
              "      <td>29.000000</td>\n",
              "      <td>0.000000</td>\n",
              "      <td>0.000000</td>\n",
              "      <td>94.000000</td>\n",
              "      <td>126.000000</td>\n",
              "      <td>0.000000</td>\n",
              "      <td>0.000000</td>\n",
              "      <td>71.000000</td>\n",
              "      <td>0.000000</td>\n",
              "      <td>0.000000</td>\n",
              "      <td>0.000000</td>\n",
              "      <td>0.000000</td>\n",
              "      <td>0.000000</td>\n",
              "      <td>0.000000</td>\n",
              "    </tr>\n",
              "    <tr>\n",
              "      <th>25%</th>\n",
              "      <td>47.500000</td>\n",
              "      <td>0.000000</td>\n",
              "      <td>0.000000</td>\n",
              "      <td>120.000000</td>\n",
              "      <td>211.000000</td>\n",
              "      <td>0.000000</td>\n",
              "      <td>0.000000</td>\n",
              "      <td>133.500000</td>\n",
              "      <td>0.000000</td>\n",
              "      <td>0.000000</td>\n",
              "      <td>1.000000</td>\n",
              "      <td>0.000000</td>\n",
              "      <td>2.000000</td>\n",
              "      <td>0.000000</td>\n",
              "    </tr>\n",
              "    <tr>\n",
              "      <th>50%</th>\n",
              "      <td>55.000000</td>\n",
              "      <td>1.000000</td>\n",
              "      <td>1.000000</td>\n",
              "      <td>130.000000</td>\n",
              "      <td>240.000000</td>\n",
              "      <td>0.000000</td>\n",
              "      <td>1.000000</td>\n",
              "      <td>153.000000</td>\n",
              "      <td>0.000000</td>\n",
              "      <td>0.800000</td>\n",
              "      <td>1.000000</td>\n",
              "      <td>0.000000</td>\n",
              "      <td>2.000000</td>\n",
              "      <td>1.000000</td>\n",
              "    </tr>\n",
              "    <tr>\n",
              "      <th>75%</th>\n",
              "      <td>61.000000</td>\n",
              "      <td>1.000000</td>\n",
              "      <td>2.000000</td>\n",
              "      <td>140.000000</td>\n",
              "      <td>274.500000</td>\n",
              "      <td>0.000000</td>\n",
              "      <td>1.000000</td>\n",
              "      <td>166.000000</td>\n",
              "      <td>1.000000</td>\n",
              "      <td>1.600000</td>\n",
              "      <td>2.000000</td>\n",
              "      <td>1.000000</td>\n",
              "      <td>3.000000</td>\n",
              "      <td>1.000000</td>\n",
              "    </tr>\n",
              "    <tr>\n",
              "      <th>max</th>\n",
              "      <td>77.000000</td>\n",
              "      <td>1.000000</td>\n",
              "      <td>3.000000</td>\n",
              "      <td>200.000000</td>\n",
              "      <td>564.000000</td>\n",
              "      <td>1.000000</td>\n",
              "      <td>2.000000</td>\n",
              "      <td>202.000000</td>\n",
              "      <td>1.000000</td>\n",
              "      <td>6.200000</td>\n",
              "      <td>2.000000</td>\n",
              "      <td>4.000000</td>\n",
              "      <td>3.000000</td>\n",
              "      <td>1.000000</td>\n",
              "    </tr>\n",
              "  </tbody>\n",
              "</table>\n",
              "</div>"
            ],
            "text/plain": [
              "              age         sex          cp    trestbps        chol         fbs  \\\n",
              "count  303.000000  303.000000  303.000000  303.000000  303.000000  303.000000   \n",
              "mean    54.366337    0.683168    0.966997  131.623762  246.264026    0.148515   \n",
              "std      9.082101    0.466011    1.032052   17.538143   51.830751    0.356198   \n",
              "min     29.000000    0.000000    0.000000   94.000000  126.000000    0.000000   \n",
              "25%     47.500000    0.000000    0.000000  120.000000  211.000000    0.000000   \n",
              "50%     55.000000    1.000000    1.000000  130.000000  240.000000    0.000000   \n",
              "75%     61.000000    1.000000    2.000000  140.000000  274.500000    0.000000   \n",
              "max     77.000000    1.000000    3.000000  200.000000  564.000000    1.000000   \n",
              "\n",
              "          restecg     thalach       exang     oldpeak       slope          ca  \\\n",
              "count  303.000000  303.000000  303.000000  303.000000  303.000000  303.000000   \n",
              "mean     0.528053  149.646865    0.326733    1.039604    1.399340    0.729373   \n",
              "std      0.525860   22.905161    0.469794    1.161075    0.616226    1.022606   \n",
              "min      0.000000   71.000000    0.000000    0.000000    0.000000    0.000000   \n",
              "25%      0.000000  133.500000    0.000000    0.000000    1.000000    0.000000   \n",
              "50%      1.000000  153.000000    0.000000    0.800000    1.000000    0.000000   \n",
              "75%      1.000000  166.000000    1.000000    1.600000    2.000000    1.000000   \n",
              "max      2.000000  202.000000    1.000000    6.200000    2.000000    4.000000   \n",
              "\n",
              "             thal      target  \n",
              "count  303.000000  303.000000  \n",
              "mean     2.313531    0.544554  \n",
              "std      0.612277    0.498835  \n",
              "min      0.000000    0.000000  \n",
              "25%      2.000000    0.000000  \n",
              "50%      2.000000    1.000000  \n",
              "75%      3.000000    1.000000  \n",
              "max      3.000000    1.000000  "
            ]
          },
          "execution_count": 5,
          "metadata": {},
          "output_type": "execute_result"
        }
      ],
      "source": [
        "found = False\n",
        "key = \"heartdisease\"\n",
        "description_text = \"\"\n",
        "\n",
        "if key in ws.datasets.keys(): \n",
        "        found = True\n",
        "        dataset = ws.datasets[key] \n",
        "\n",
        "df = dataset.to_pandas_dataframe()        \n",
        "df.describe()"
      ]
    },
    {
      "cell_type": "markdown",
      "metadata": {},
      "source": [
        "## AutoML Configuration\n",
        "\n",
        "TODO: Explain why you chose the automl settings and cofiguration you used below."
      ]
    },
    {
      "cell_type": "code",
      "execution_count": 6,
      "metadata": {
        "gather": {
          "logged": 1646046306799
        }
      },
      "outputs": [
        {
          "name": "stdout",
          "output_type": "stream",
          "text": [
            "New cluster created.\n",
            "InProgress.\n",
            "SucceededProvisioning operation finished, operation \"Succeeded\"\n",
            "Succeeded......................................................................................................................\n",
            "AmlCompute wait for completion finished\n",
            "\n",
            "Wait timeout has been reached\n",
            "Current provisioning state of AmlCompute is \"Succeeded\" and current node count is \"0\"\n"
          ]
        }
      ],
      "source": [
        "amlcompute_cluster_name = \"automl-cluster\"\n",
        "try:\n",
        "    compute_target = ComputeTarget(workspace=ws, name=amlcompute_cluster_name)\n",
        "    print('Existing cluster found, this cluster will be used.')\n",
        "except ComputeTargetException:\n",
        "    compute_config = AmlCompute.provisioning_configuration(vm_size='STANDARD_DS12_V2',\n",
        "                                                           vm_priority = 'lowpriority',\n",
        "                                                           max_nodes=5)\n",
        "    compute_target = ComputeTarget.create(ws, amlcompute_cluster_name, compute_config)\n",
        "    print('Cluster created successfully.')\n",
        "\n",
        "compute_target.wait_for_completion()\n"
      ]
    },
    {
      "cell_type": "code",
      "execution_count": 7,
      "metadata": {
        "gather": {
          "logged": 1646046457875
        },
        "jupyter": {
          "outputs_hidden": false,
          "source_hidden": false
        },
        "nteract": {
          "transient": {
            "deleting": false
          }
        }
      },
      "outputs": [],
      "source": [
        "# TODO: Put your automl settings here\n",
        "automl_settings = {\n",
        "    \"experiment_timeout_minutes\": 60,\n",
        "    \"max_concurrent_iterations\": 5,\n",
        "    \"primary_metric\" : 'accuracy'\n",
        "    }\n",
        "\n",
        "# TODO: Put your automl config here\n",
        "automl_config = AutoMLConfig(compute_target=compute_target,\n",
        "                             task = \"classification\",\n",
        "                             training_data=dataset,\n",
        "                             label_column_name=\"target\",   \n",
        "                             enable_early_stopping= True,\n",
        "                             featurization= 'auto',\n",
        "                             debug_log = \"automl_errors.log\",\n",
        "                             **automl_settings\n",
        "                             )"
      ]
    },
    {
      "cell_type": "code",
      "execution_count": 8,
      "metadata": {
        "gather": {
          "logged": 1646046467981
        },
        "jupyter": {
          "outputs_hidden": false,
          "source_hidden": false
        },
        "nteract": {
          "transient": {
            "deleting": false
          }
        }
      },
      "outputs": [
        {
          "name": "stdout",
          "output_type": "stream",
          "text": [
            "Submitting remote run.\n"
          ]
        },
        {
          "data": {
            "text/html": [
              "<table style=\"width:100%\"><tr><th>Experiment</th><th>Id</th><th>Type</th><th>Status</th><th>Details Page</th><th>Docs Page</th></tr><tr><td>automl-exp</td><td>AutoML_e5ea044e-9331-43d9-a18a-e984edae10f1</td><td>automl</td><td>NotStarted</td><td><a href=\"https://ml.azure.com/runs/AutoML_e5ea044e-9331-43d9-a18a-e984edae10f1?wsid=/subscriptions/9a7511b8-150f-4a58-8528-3e7d50216c31/resourcegroups/aml-quickstarts-187667/workspaces/quick-starts-ws-187667&amp;tid=660b3398-b80e-49d2-bc5b-ac1dc93b5254\" target=\"_blank\" rel=\"noopener\">Link to Azure Machine Learning studio</a></td><td><a href=\"https://docs.microsoft.com/en-us/python/api/overview/azure/ml/intro?view=azure-ml-py\" target=\"_blank\" rel=\"noopener\">Link to Documentation</a></td></tr></table>"
            ],
            "text/plain": [
              "<IPython.core.display.HTML object>"
            ]
          },
          "metadata": {},
          "output_type": "display_data"
        }
      ],
      "source": [
        "# TODO: Submit your experiment\n",
        "remote_run = experiment.submit(automl_config)"
      ]
    },
    {
      "cell_type": "markdown",
      "metadata": {},
      "source": [
        "## Run Details\n",
        "\n",
        "OPTIONAL: Write about the different models trained and their performance. Why do you think some models did better than others?\n",
        "\n",
        "TODO: In the cell below, use the `RunDetails` widget to show the different experiments."
      ]
    },
    {
      "cell_type": "code",
      "execution_count": 9,
      "metadata": {
        "gather": {
          "logged": 1646046475660
        }
      },
      "outputs": [
        {
          "data": {
            "application/vnd.jupyter.widget-view+json": {
              "model_id": "4fcb2c6e054b42b4b4760eb398a912fc",
              "version_major": 2,
              "version_minor": 0
            },
            "text/plain": [
              "_AutoMLWidget(widget_settings={'childWidgetDisplay': 'popup', 'send_telemetry': False, 'log_level': 'INFO', 's…"
            ]
          },
          "metadata": {},
          "output_type": "display_data"
        },
        {
          "data": {
            "application/aml.mini.widget.v1": "{\"status\": \"Completed\", \"workbench_run_details_uri\": \"https://ml.azure.com/runs/AutoML_e5ea044e-9331-43d9-a18a-e984edae10f1?wsid=/subscriptions/9a7511b8-150f-4a58-8528-3e7d50216c31/resourcegroups/aml-quickstarts-187667/workspaces/quick-starts-ws-187667&tid=660b3398-b80e-49d2-bc5b-ac1dc93b5254\", \"run_id\": \"AutoML_e5ea044e-9331-43d9-a18a-e984edae10f1\", \"run_properties\": {\"run_id\": \"AutoML_e5ea044e-9331-43d9-a18a-e984edae10f1\", \"created_utc\": \"2022-02-28T11:07:46.166341Z\", \"properties\": {\"num_iterations\": \"1000\", \"training_type\": \"TrainFull\", \"acquisition_function\": \"EI\", \"primary_metric\": \"accuracy\", \"train_split\": \"0\", \"acquisition_parameter\": \"0\", \"num_cross_validation\": null, \"target\": \"automl-cluster\", \"AMLSettingsJsonString\": \"{\\\"path\\\":null,\\\"name\\\":\\\"automl-exp\\\",\\\"subscription_id\\\":\\\"9a7511b8-150f-4a58-8528-3e7d50216c31\\\",\\\"resource_group\\\":\\\"aml-quickstarts-187667\\\",\\\"workspace_name\\\":\\\"quick-starts-ws-187667\\\",\\\"region\\\":\\\"southcentralus\\\",\\\"compute_target\\\":\\\"automl-cluster\\\",\\\"spark_service\\\":null,\\\"azure_service\\\":\\\"remote\\\",\\\"many_models\\\":false,\\\"pipeline_fetch_max_batch_size\\\":1,\\\"enable_batch_run\\\":true,\\\"enable_run_restructure\\\":false,\\\"start_auxiliary_runs_before_parent_complete\\\":false,\\\"enable_code_generation\\\":false,\\\"iterations\\\":1000,\\\"primary_metric\\\":\\\"accuracy\\\",\\\"task_type\\\":\\\"classification\\\",\\\"positive_label\\\":null,\\\"data_script\\\":null,\\\"test_size\\\":0.0,\\\"test_include_predictions_only\\\":false,\\\"validation_size\\\":0.0,\\\"n_cross_validations\\\":null,\\\"y_min\\\":null,\\\"y_max\\\":null,\\\"num_classes\\\":null,\\\"featurization\\\":\\\"auto\\\",\\\"_ignore_package_version_incompatibilities\\\":false,\\\"is_timeseries\\\":false,\\\"max_cores_per_iteration\\\":1,\\\"max_concurrent_iterations\\\":5,\\\"iteration_timeout_minutes\\\":null,\\\"mem_in_mb\\\":null,\\\"enforce_time_on_windows\\\":false,\\\"experiment_timeout_minutes\\\":60,\\\"experiment_exit_score\\\":null,\\\"whitelist_models\\\":null,\\\"blacklist_algos\\\":[\\\"TensorFlowLinearClassifier\\\",\\\"TensorFlowDNN\\\"],\\\"supported_models\\\":[\\\"MultinomialNaiveBayes\\\",\\\"LogisticRegression\\\",\\\"KNN\\\",\\\"LightGBM\\\",\\\"SGD\\\",\\\"TensorFlowLinearClassifier\\\",\\\"SVM\\\",\\\"ExtremeRandomTrees\\\",\\\"AveragedPerceptronClassifier\\\",\\\"TensorFlowDNN\\\",\\\"GradientBoosting\\\",\\\"XGBoostClassifier\\\",\\\"RandomForest\\\",\\\"LinearSVM\\\",\\\"TabnetClassifier\\\",\\\"DecisionTree\\\",\\\"BernoulliNaiveBayes\\\"],\\\"private_models\\\":[],\\\"auto_blacklist\\\":true,\\\"blacklist_samples_reached\\\":false,\\\"exclude_nan_labels\\\":true,\\\"verbosity\\\":20,\\\"_debug_log\\\":\\\"azureml_automl.log\\\",\\\"show_warnings\\\":false,\\\"model_explainability\\\":true,\\\"service_url\\\":null,\\\"sdk_url\\\":null,\\\"sdk_packages\\\":null,\\\"enable_onnx_compatible_models\\\":false,\\\"enable_split_onnx_featurizer_estimator_models\\\":false,\\\"vm_type\\\":\\\"STANDARD_DS12_V2\\\",\\\"telemetry_verbosity\\\":20,\\\"send_telemetry\\\":true,\\\"enable_dnn\\\":false,\\\"scenario\\\":\\\"SDK-1.13.0\\\",\\\"environment_label\\\":null,\\\"save_mlflow\\\":false,\\\"enable_categorical_indicators\\\":false,\\\"force_text_dnn\\\":false,\\\"enable_feature_sweeping\\\":true,\\\"enable_early_stopping\\\":true,\\\"early_stopping_n_iters\\\":10,\\\"arguments\\\":null,\\\"dataset_id\\\":null,\\\"hyperdrive_config\\\":null,\\\"validation_dataset_id\\\":null,\\\"run_source\\\":null,\\\"metrics\\\":null,\\\"enable_metric_confidence\\\":false,\\\"enable_ensembling\\\":true,\\\"enable_stack_ensembling\\\":true,\\\"ensemble_iterations\\\":15,\\\"enable_tf\\\":false,\\\"enable_subsampling\\\":null,\\\"subsample_seed\\\":null,\\\"enable_nimbusml\\\":false,\\\"enable_streaming\\\":false,\\\"force_streaming\\\":false,\\\"track_child_runs\\\":true,\\\"allowed_private_models\\\":[],\\\"label_column_name\\\":\\\"target\\\",\\\"weight_column_name\\\":null,\\\"cv_split_column_names\\\":null,\\\"enable_local_managed\\\":false,\\\"_local_managed_run_id\\\":null,\\\"cost_mode\\\":1,\\\"lag_length\\\":0,\\\"metric_operation\\\":\\\"maximize\\\",\\\"preprocess\\\":true}\", \"DataPrepJsonString\": \"{\\\\\\\"training_data\\\\\\\": {\\\\\\\"datasetId\\\\\\\": \\\\\\\"6f359f17-6ce1-43b9-a8ae-acf87158a4c6\\\\\\\"}, \\\\\\\"datasets\\\\\\\": 0}\", \"EnableSubsampling\": null, \"runTemplate\": \"AutoML\", \"azureml.runsource\": \"automl\", \"display_task_type\": \"classification\", \"dependencies_versions\": \"{\\\"azureml-widgets\\\": \\\"1.38.0\\\", \\\"azureml-train\\\": \\\"1.38.0\\\", \\\"azureml-train-restclients-hyperdrive\\\": \\\"1.38.0\\\", \\\"azureml-train-core\\\": \\\"1.38.0\\\", \\\"azureml-train-automl\\\": \\\"1.38.0\\\", \\\"azureml-train-automl-runtime\\\": \\\"1.38.0\\\", \\\"azureml-train-automl-client\\\": \\\"1.38.0\\\", \\\"azureml-tensorboard\\\": \\\"1.38.0\\\", \\\"azureml-telemetry\\\": \\\"1.38.0\\\", \\\"azureml-sdk\\\": \\\"1.38.0\\\", \\\"azureml-responsibleai\\\": \\\"1.38.0\\\", \\\"azureml-pipeline\\\": \\\"1.38.0\\\", \\\"azureml-pipeline-steps\\\": \\\"1.38.0\\\", \\\"azureml-pipeline-core\\\": \\\"1.38.0\\\", \\\"azureml-opendatasets\\\": \\\"1.38.0\\\", \\\"azureml-mlflow\\\": \\\"1.38.0\\\", \\\"azureml-interpret\\\": \\\"1.38.0\\\", \\\"azureml-inference-server-http\\\": \\\"0.4.2\\\", \\\"azureml-explain-model\\\": \\\"1.38.0\\\", \\\"azureml-defaults\\\": \\\"1.38.0\\\", \\\"azureml-dataset-runtime\\\": \\\"1.38.0\\\", \\\"azureml-dataprep\\\": \\\"2.26.0\\\", \\\"azureml-dataprep-rslex\\\": \\\"2.2.0\\\", \\\"azureml-dataprep-native\\\": \\\"38.0.0\\\", \\\"azureml-datadrift\\\": \\\"1.38.0\\\", \\\"azureml-core\\\": \\\"1.38.0\\\", \\\"azureml-contrib-services\\\": \\\"1.38.0\\\", \\\"azureml-contrib-server\\\": \\\"1.38.0\\\", \\\"azureml-contrib-reinforcementlearning\\\": \\\"1.38.0\\\", \\\"azureml-contrib-pipeline-steps\\\": \\\"1.38.0\\\", \\\"azureml-contrib-notebook\\\": \\\"1.38.0\\\", \\\"azureml-contrib-fairness\\\": \\\"1.38.0\\\", \\\"azureml-contrib-dataset\\\": \\\"1.38.0\\\", \\\"azureml-contrib-automl-pipeline-steps\\\": \\\"1.38.0\\\", \\\"azureml-cli-common\\\": \\\"1.38.0\\\", \\\"azureml-automl-runtime\\\": \\\"1.38.0\\\", \\\"azureml-automl-dnn-nlp\\\": \\\"1.38.0\\\", \\\"azureml-automl-core\\\": \\\"1.38.0\\\", \\\"azureml-accel-models\\\": \\\"1.38.0\\\"}\", \"_aml_system_scenario_identification\": \"Remote.Parent\", \"ClientType\": \"SDK\", \"environment_cpu_name\": \"AzureML-AutoML\", \"environment_cpu_label\": \"py36\", \"environment_gpu_name\": \"AzureML-AutoML-GPU\", \"environment_gpu_label\": \"py36\", \"root_attribution\": \"automl\", \"attribution\": \"AutoML\", \"Orchestrator\": \"AutoML\", \"CancelUri\": \"https://southcentralus.api.azureml.ms/jasmine/v1.0/subscriptions/9a7511b8-150f-4a58-8528-3e7d50216c31/resourceGroups/aml-quickstarts-187667/providers/Microsoft.MachineLearningServices/workspaces/quick-starts-ws-187667/experimentids/fa43e4fe-371c-474f-aae6-9550e1d60c7b/cancel/AutoML_e5ea044e-9331-43d9-a18a-e984edae10f1\", \"ClientSdkVersion\": \"1.38.0\", \"snapshotId\": \"00000000-0000-0000-0000-000000000000\", \"SetupRunId\": \"AutoML_e5ea044e-9331-43d9-a18a-e984edae10f1_setup\", \"SetupRunContainerId\": \"dcid.AutoML_e5ea044e-9331-43d9-a18a-e984edae10f1_setup\", \"FeaturizationRunJsonPath\": \"featurizer_container.json\", \"FeaturizationRunId\": \"AutoML_e5ea044e-9331-43d9-a18a-e984edae10f1_featurize\", \"ProblemInfoJsonString\": \"{\\\"dataset_num_categorical\\\": 0, \\\"is_sparse\\\": true, \\\"subsampling\\\": false, \\\"has_extra_col\\\": true, \\\"dataset_classes\\\": 2, \\\"dataset_features\\\": 27, \\\"dataset_samples\\\": 303, \\\"single_frequency_class_detected\\\": false}\", \"ModelExplainRunId\": \"AutoML_e5ea044e-9331-43d9-a18a-e984edae10f1_ModelExplain\"}, \"tags\": {\"model_explain_run\": \"best_run\", \"_aml_system_azureml.automlComponent\": \"AutoML\", \"pipeline_id\": \"\", \"score\": \"\", \"predicted_cost\": \"\", \"fit_time\": \"\", \"training_percent\": \"\", \"iteration\": \"\", \"run_preprocessor\": \"\", \"run_algorithm\": \"\", \"dynamic_whitelisting_iterations\": \"<23>;<30>;<35>;\", \"_aml_system_azureml.automl_early_exit_message\": \"No scores improved over last 20 iterations, so experiment stopped early. This early stopping behavior can be disabled by setting enable_early_stopping = False in AutoMLConfig for notebook/python SDK runs.\", \"automl_best_child_run_id\": \"AutoML_e5ea044e-9331-43d9-a18a-e984edae10f1_8\", \"model_explain_best_run_child_id\": \"AutoML_e5ea044e-9331-43d9-a18a-e984edae10f1_8\"}, \"end_time_utc\": \"2022-02-28T11:22:59.042347Z\", \"status\": \"Completed\", \"log_files\": {}, \"log_groups\": [], \"run_duration\": \"0:15:12\", \"run_number\": \"1646046466\", \"run_queued_details\": {\"status\": \"Completed\", \"details\": null}}, \"child_runs\": [{\"run_id\": \"AutoML_e5ea044e-9331-43d9-a18a-e984edae10f1_setup\", \"run_number\": 1646046485, \"metric\": null, \"status\": \"Completed\", \"run_type\": \"azureml.scriptrun\", \"training_percent\": null, \"start_time\": \"2022-02-28T11:11:40.974623Z\", \"end_time\": \"2022-02-28T11:11:44.625428Z\", \"created_time\": \"2022-02-28T11:08:05.952267Z\", \"created_time_dt\": \"2022-02-28T11:08:05.952267Z\", \"duration\": \"0:03:38\", \"iteration\": null, \"goal\": null, \"run_name\": \"Completed\", \"run_properties\": null}, {\"run_id\": \"AutoML_e5ea044e-9331-43d9-a18a-e984edae10f1_featurize\", \"run_number\": 1646046705, \"metric\": null, \"status\": \"Completed\", \"run_type\": \"automl.featurization\", \"training_percent\": null, \"start_time\": \"2022-02-28T11:11:45.477862Z\", \"end_time\": \"2022-02-28T11:12:23.887973Z\", \"created_time\": \"2022-02-28T11:11:45.07213Z\", \"created_time_dt\": \"2022-02-28T11:11:45.07213Z\", \"duration\": \"0:00:38\", \"iteration\": null, \"goal\": null, \"run_name\": \"Completed\", \"run_properties\": null}, {\"run_id\": \"AutoML_e5ea044e-9331-43d9-a18a-e984edae10f1_0\", \"run_number\": 1646046745, \"metric\": null, \"status\": \"Completed\", \"run_type\": null, \"training_percent\": \"100\", \"start_time\": \"2022-02-28T11:12:41.943815Z\", \"end_time\": \"2022-02-28T11:12:50.388672Z\", \"created_time\": \"2022-02-28T11:12:25.462214Z\", \"created_time_dt\": \"2022-02-28T11:12:25.462214Z\", \"duration\": \"0:00:24\", \"iteration\": \"0\", \"goal\": \"accuracy_max\", \"run_name\": \"MaxAbsScaler, LightGBM\", \"run_properties\": \"copy=True\", \"primary_metric\": 0.81150538, \"best_metric\": 0.81150538}, {\"run_id\": \"AutoML_e5ea044e-9331-43d9-a18a-e984edae10f1_2\", \"run_number\": 1646046746, \"metric\": null, \"status\": \"Completed\", \"run_type\": null, \"training_percent\": \"100\", \"start_time\": \"2022-02-28T11:12:59.352789Z\", \"end_time\": \"2022-02-28T11:13:09.64936Z\", \"created_time\": \"2022-02-28T11:12:26.376434Z\", \"created_time_dt\": \"2022-02-28T11:12:26.376434Z\", \"duration\": \"0:00:43\", \"iteration\": \"2\", \"goal\": \"accuracy_max\", \"run_name\": \"MaxAbsScaler, ExtremeRandomTrees\", \"run_properties\": \"copy=True\", \"primary_metric\": 0.82462366, \"best_metric\": 0.82462366}, {\"run_id\": \"AutoML_e5ea044e-9331-43d9-a18a-e984edae10f1_worker_0\", \"run_number\": 1646046747, \"metric\": null, \"status\": \"Completed\", \"run_type\": \"azureml.scriptrun\", \"training_percent\": null, \"start_time\": \"2022-02-28T11:13:19.400016Z\", \"end_time\": \"2022-02-28T11:13:23.040976Z\", \"created_time\": \"2022-02-28T11:12:27.172196Z\", \"created_time_dt\": \"2022-02-28T11:12:27.172196Z\", \"duration\": \"0:00:55\", \"iteration\": null, \"goal\": null, \"run_name\": \"Completed\", \"run_properties\": null}, {\"run_id\": \"AutoML_e5ea044e-9331-43d9-a18a-e984edae10f1_6\", \"run_number\": 1646046748, \"metric\": null, \"status\": \"Completed\", \"run_type\": null, \"training_percent\": \"100\", \"start_time\": \"2022-02-28T11:13:50.81218Z\", \"end_time\": \"2022-02-28T11:13:58.915177Z\", \"created_time\": \"2022-02-28T11:12:28.250124Z\", \"created_time_dt\": \"2022-02-28T11:12:28.250124Z\", \"duration\": \"0:01:30\", \"iteration\": \"6\", \"goal\": \"accuracy_max\", \"run_name\": \"StandardScalerWrapper, XGBoostClassifier\", \"run_properties\": \"\\n    copy=True,\\n    with_mean=False,\\n    with_std=False\\n\", \"primary_metric\": 0.82462366, \"best_metric\": 0.82462366}, {\"run_id\": \"AutoML_e5ea044e-9331-43d9-a18a-e984edae10f1_worker_1\", \"run_number\": 1646046749, \"metric\": null, \"status\": \"Completed\", \"run_type\": \"azureml.scriptrun\", \"training_percent\": null, \"start_time\": \"2022-02-28T11:14:09.458672Z\", \"end_time\": \"2022-02-28T11:14:13.097421Z\", \"created_time\": \"2022-02-28T11:12:29.144481Z\", \"created_time_dt\": \"2022-02-28T11:12:29.144481Z\", \"duration\": \"0:01:43\", \"iteration\": null, \"goal\": null, \"run_name\": \"Completed\", \"run_properties\": null}, {\"run_id\": \"AutoML_e5ea044e-9331-43d9-a18a-e984edae10f1_worker_2\", \"run_number\": 1646046750, \"metric\": null, \"status\": \"Completed\", \"run_type\": \"azureml.scriptrun\", \"training_percent\": null, \"start_time\": \"2022-02-28T11:14:34.101271Z\", \"end_time\": \"2022-02-28T11:15:06.169049Z\", \"created_time\": \"2022-02-28T11:12:30.885337Z\", \"created_time_dt\": \"2022-02-28T11:12:30.885337Z\", \"duration\": \"0:02:35\", \"iteration\": null, \"goal\": null, \"run_name\": \"Completed\", \"run_properties\": null}, {\"run_id\": \"AutoML_e5ea044e-9331-43d9-a18a-e984edae10f1_12\", \"run_number\": 1646046751, \"metric\": null, \"status\": \"Completed\", \"run_type\": null, \"training_percent\": \"100\", \"start_time\": \"2022-02-28T11:15:36.303607Z\", \"end_time\": \"2022-02-28T11:15:45.700944Z\", \"created_time\": \"2022-02-28T11:12:31.01232Z\", \"created_time_dt\": \"2022-02-28T11:12:31.01232Z\", \"duration\": \"0:03:14\", \"iteration\": \"12\", \"goal\": \"accuracy_max\", \"run_name\": \"MaxAbsScaler, LogisticRegression\", \"run_properties\": \"copy=True\", \"primary_metric\": 0.82806452, \"best_metric\": 0.82806452}, {\"run_id\": \"AutoML_e5ea044e-9331-43d9-a18a-e984edae10f1_worker_3\", \"run_number\": 1646046752, \"metric\": null, \"status\": \"Completed\", \"run_type\": \"azureml.scriptrun\", \"training_percent\": null, \"start_time\": \"2022-02-28T11:14:35.638654Z\", \"end_time\": \"2022-02-28T11:16:17.938575Z\", \"created_time\": \"2022-02-28T11:12:32.768535Z\", \"created_time_dt\": \"2022-02-28T11:12:32.768535Z\", \"duration\": \"0:03:45\", \"iteration\": null, \"goal\": null, \"run_name\": \"Completed\", \"run_properties\": null}, {\"run_id\": \"AutoML_e5ea044e-9331-43d9-a18a-e984edae10f1_17\", \"run_number\": 1646046753, \"metric\": null, \"status\": \"Completed\", \"run_type\": null, \"training_percent\": \"100\", \"start_time\": \"2022-02-28T11:15:48.136834Z\", \"end_time\": \"2022-02-28T11:15:57.280399Z\", \"created_time\": \"2022-02-28T11:12:33.306251Z\", \"created_time_dt\": \"2022-02-28T11:12:33.306251Z\", \"duration\": \"0:03:23\", \"iteration\": \"17\", \"goal\": \"accuracy_max\", \"run_name\": \"StandardScalerWrapper, RandomForest\", \"run_properties\": \"\\n    copy=True,\\n    with_mean=False,\\n    with_std=False\\n\", \"primary_metric\": 0.83129032, \"best_metric\": 0.83129032}, {\"run_id\": \"AutoML_e5ea044e-9331-43d9-a18a-e984edae10f1_worker_4\", \"run_number\": 1646046754, \"metric\": null, \"status\": \"Completed\", \"run_type\": \"azureml.scriptrun\", \"training_percent\": null, \"start_time\": \"2022-02-28T11:15:50.827994Z\", \"end_time\": \"2022-02-28T11:16:21.709938Z\", \"created_time\": \"2022-02-28T11:12:34.493736Z\", \"created_time_dt\": \"2022-02-28T11:12:34.493736Z\", \"duration\": \"0:03:47\", \"iteration\": null, \"goal\": null, \"run_name\": \"Completed\", \"run_properties\": null}, {\"run_id\": \"AutoML_e5ea044e-9331-43d9-a18a-e984edae10f1_22\", \"run_number\": 1646046960, \"metric\": null, \"status\": \"Completed\", \"run_type\": \"azureml.scriptrun\", \"training_percent\": \"100\", \"start_time\": \"2022-02-28T11:16:20.95754Z\", \"end_time\": \"2022-02-28T11:16:24.574561Z\", \"created_time\": \"2022-02-28T11:16:00.721662Z\", \"created_time_dt\": \"2022-02-28T11:16:00.721662Z\", \"duration\": \"0:00:23\", \"iteration\": \"22\", \"goal\": \"accuracy_max\", \"run_name\": \"SparseNormalizer, XGBoostClassifier\", \"run_properties\": \"copy=True, norm='l1'\", \"primary_metric\": 0.82129032, \"best_metric\": 0.83129032}, {\"run_id\": \"AutoML_e5ea044e-9331-43d9-a18a-e984edae10f1_25\", \"run_number\": 1646046988, \"metric\": null, \"status\": \"Completed\", \"run_type\": \"azureml.scriptrun\", \"training_percent\": \"100\", \"start_time\": \"2022-02-28T11:16:53.733032Z\", \"end_time\": \"2022-02-28T11:16:57.339103Z\", \"created_time\": \"2022-02-28T11:16:28.871309Z\", \"created_time_dt\": \"2022-02-28T11:16:28.871309Z\", \"duration\": \"0:00:28\", \"iteration\": \"25\", \"goal\": \"accuracy_max\", \"run_name\": \"StandardScalerWrapper, RandomForest\", \"run_properties\": \"\\n    copy=True,\\n    with_mean=False,\\n    with_std=False\\n\", \"primary_metric\": 0.82516129, \"best_metric\": 0.83129032}, {\"run_id\": \"AutoML_e5ea044e-9331-43d9-a18a-e984edae10f1_26\", \"run_number\": 1646047019, \"metric\": null, \"status\": \"Completed\", \"run_type\": \"azureml.scriptrun\", \"training_percent\": \"100\", \"start_time\": \"2022-02-28T11:18:26.646996Z\", \"end_time\": \"2022-02-28T11:18:30.237309Z\", \"created_time\": \"2022-02-28T11:16:59.312601Z\", \"created_time_dt\": \"2022-02-28T11:16:59.312601Z\", \"duration\": \"0:01:30\", \"iteration\": \"26\", \"goal\": \"accuracy_max\", \"run_name\": \"StandardScalerWrapper, LightGBM\", \"run_properties\": \"\\n    copy=True,\\n    with_mean=False,\\n    with_std=False\\n\", \"primary_metric\": 0.81204301, \"best_metric\": 0.83129032}, {\"run_id\": \"AutoML_e5ea044e-9331-43d9-a18a-e984edae10f1_27\", \"run_number\": 1646047022, \"metric\": null, \"status\": \"Completed\", \"run_type\": \"azureml.scriptrun\", \"training_percent\": \"100\", \"start_time\": \"2022-02-28T11:18:59.593227Z\", \"end_time\": \"2022-02-28T11:19:03.193414Z\", \"created_time\": \"2022-02-28T11:17:02.653603Z\", \"created_time_dt\": \"2022-02-28T11:17:02.653603Z\", \"duration\": \"0:02:00\", \"iteration\": \"27\", \"goal\": \"accuracy_max\", \"run_name\": \"SparseNormalizer, ExtremeRandomTrees\", \"run_properties\": \"copy=True, norm='l1'\", \"primary_metric\": 0.80817204, \"best_metric\": 0.83129032}, {\"run_id\": \"AutoML_e5ea044e-9331-43d9-a18a-e984edae10f1_28\", \"run_number\": 1646047049, \"metric\": null, \"status\": \"Completed\", \"run_type\": \"azureml.scriptrun\", \"training_percent\": \"100\", \"start_time\": \"2022-02-28T11:19:00.450973Z\", \"end_time\": \"2022-02-28T11:19:04.027199Z\", \"created_time\": \"2022-02-28T11:17:29.679587Z\", \"created_time_dt\": \"2022-02-28T11:17:29.679587Z\", \"duration\": \"0:01:34\", \"iteration\": \"28\", \"goal\": \"accuracy_max\", \"run_name\": \"MaxAbsScaler, ExtremeRandomTrees\", \"run_properties\": \"copy=True\", \"primary_metric\": 0.83483871, \"best_metric\": 0.83483871}, {\"run_id\": \"AutoML_e5ea044e-9331-43d9-a18a-e984edae10f1_29\", \"run_number\": 1646047104, \"metric\": null, \"status\": \"Completed\", \"run_type\": \"azureml.scriptrun\", \"training_percent\": \"100\", \"start_time\": \"2022-02-28T11:20:19.532423Z\", \"end_time\": \"2022-02-28T11:20:23.165562Z\", \"created_time\": \"2022-02-28T11:18:24.10005Z\", \"created_time_dt\": \"2022-02-28T11:18:24.10005Z\", \"duration\": \"0:01:59\", \"iteration\": \"29\", \"goal\": \"accuracy_max\", \"run_name\": \"SparseNormalizer, RandomForest\", \"run_properties\": \"copy=True, norm='l1'\", \"primary_metric\": 0.8216129, \"best_metric\": 0.83483871}, {\"run_id\": \"AutoML_e5ea044e-9331-43d9-a18a-e984edae10f1_30\", \"run_number\": 1646047113, \"metric\": null, \"status\": \"Completed\", \"run_type\": \"azureml.scriptrun\", \"training_percent\": \"100\", \"start_time\": \"2022-02-28T11:20:26.935322Z\", \"end_time\": \"2022-02-28T11:20:30.550367Z\", \"created_time\": \"2022-02-28T11:18:33.317776Z\", \"created_time_dt\": \"2022-02-28T11:18:33.317776Z\", \"duration\": \"0:01:57\", \"iteration\": \"30\", \"goal\": \"accuracy_max\", \"run_name\": \"MaxAbsScaler, ExtremeRandomTrees\", \"run_properties\": \"copy=True\", \"primary_metric\": 0.74580645, \"best_metric\": 0.83483871}, {\"run_id\": \"AutoML_e5ea044e-9331-43d9-a18a-e984edae10f1_31\", \"run_number\": 1646047116, \"metric\": null, \"status\": \"Completed\", \"run_type\": \"azureml.scriptrun\", \"training_percent\": \"100\", \"start_time\": \"2022-02-28T11:20:26.997956Z\", \"end_time\": \"2022-02-28T11:20:30.610335Z\", \"created_time\": \"2022-02-28T11:18:36.083221Z\", \"created_time_dt\": \"2022-02-28T11:18:36.083221Z\", \"duration\": \"0:01:54\", \"iteration\": \"31\", \"goal\": \"accuracy_max\", \"run_name\": \"StandardScalerWrapper, LightGBM\", \"run_properties\": \"\\n    copy=True,\\n    with_mean=False,\\n    with_std=True\\n\", \"primary_metric\": 0.82483871, \"best_metric\": 0.83483871}, {\"run_id\": \"AutoML_e5ea044e-9331-43d9-a18a-e984edae10f1_32\", \"run_number\": 1646047144, \"metric\": null, \"status\": \"Completed\", \"run_type\": \"azureml.scriptrun\", \"training_percent\": \"100\", \"start_time\": \"2022-02-28T11:20:59.378644Z\", \"end_time\": \"2022-02-28T11:21:02.97097Z\", \"created_time\": \"2022-02-28T11:19:04.840915Z\", \"created_time_dt\": \"2022-02-28T11:19:04.840915Z\", \"duration\": \"0:01:58\", \"iteration\": \"32\", \"goal\": \"accuracy_max\", \"run_name\": \"StandardScalerWrapper, LightGBM\", \"run_properties\": \"\\n    copy=True,\\n    with_mean=False,\\n    with_std=False\\n\", \"primary_metric\": 0.8216129, \"best_metric\": 0.83483871}, {\"run_id\": \"AutoML_e5ea044e-9331-43d9-a18a-e984edae10f1_33\", \"run_number\": 1646047147, \"metric\": null, \"status\": \"Completed\", \"run_type\": \"azureml.scriptrun\", \"training_percent\": \"100\", \"start_time\": \"2022-02-28T11:20:59.878894Z\", \"end_time\": \"2022-02-28T11:21:03.497059Z\", \"created_time\": \"2022-02-28T11:19:07.217031Z\", \"created_time_dt\": \"2022-02-28T11:19:07.217031Z\", \"duration\": \"0:01:56\", \"iteration\": \"33\", \"goal\": \"accuracy_max\", \"run_name\": \"MaxAbsScaler, LightGBM\", \"run_properties\": \"copy=True\", \"primary_metric\": 0.83150538, \"best_metric\": 0.83483871}, {\"run_id\": \"AutoML_e5ea044e-9331-43d9-a18a-e984edae10f1_34\", \"run_number\": 1646047224, \"metric\": null, \"status\": \"Canceled\", \"run_type\": \"azureml.scriptrun\", \"training_percent\": \"100\", \"start_time\": \"2022-02-28T11:21:06.211107Z\", \"end_time\": \"2022-02-28T11:21:06.576539Z\", \"created_time\": \"2022-02-28T11:20:24.905728Z\", \"created_time_dt\": \"2022-02-28T11:20:24.905728Z\", \"duration\": \"0:00:41\", \"iteration\": \"34\", \"goal\": null, \"run_name\": \"Canceled\", \"run_properties\": null}, {\"run_id\": \"AutoML_e5ea044e-9331-43d9-a18a-e984edae10f1_35\", \"run_number\": 1646047233, \"metric\": null, \"status\": \"Canceled\", \"run_type\": \"azureml.scriptrun\", \"training_percent\": \"100\", \"start_time\": \"2022-02-28T11:21:06.162277Z\", \"end_time\": \"2022-02-28T11:21:06.401345Z\", \"created_time\": \"2022-02-28T11:20:33.53008Z\", \"created_time_dt\": \"2022-02-28T11:20:33.53008Z\", \"duration\": \"0:00:32\", \"iteration\": \"35\", \"goal\": null, \"run_name\": \"Canceled\", \"run_properties\": null}, {\"run_id\": \"AutoML_e5ea044e-9331-43d9-a18a-e984edae10f1_37\", \"run_number\": 1646047264, \"metric\": null, \"status\": \"Canceled\", \"run_type\": \"azureml.scriptrun\", \"training_percent\": \"100\", \"start_time\": \"2022-02-28T11:21:06.158255Z\", \"end_time\": \"2022-02-28T11:21:07.942191Z\", \"created_time\": \"2022-02-28T11:21:04.835567Z\", \"created_time_dt\": \"2022-02-28T11:21:04.835567Z\", \"duration\": \"0:00:03\", \"iteration\": \"37\", \"goal\": null, \"run_name\": \"Canceled\", \"run_properties\": null}, {\"run_id\": \"AutoML_e5ea044e-9331-43d9-a18a-e984edae10f1_38\", \"run_number\": 1646047268, \"metric\": null, \"status\": \"Completed\", \"run_type\": \"azureml.scriptrun\", \"training_percent\": \"100\", \"start_time\": \"2022-02-28T11:22:36.703182Z\", \"end_time\": \"2022-02-28T11:22:40.355179Z\", \"created_time\": \"2022-02-28T11:21:08.628235Z\", \"created_time_dt\": \"2022-02-28T11:21:08.628235Z\", \"duration\": \"0:01:31\", \"iteration\": \"38\", \"goal\": \"accuracy_max\", \"run_name\": \"VotingEnsemble\", \"run_properties\": \"\\n    estimators=[('8', Pipeline(\\n        memory=None,\\n        steps=[('standardscalerwrapper', StandardScalerWrapper(\\n            copy=True,\\n            with_mean=False,\\n            with_std=False\\n        \", \"primary_metric\": 0.85774194, \"best_metric\": 0.85774194}], \"children_metrics\": {\"categories\": [0], \"series\": {\"precision_score_micro\": [{\"categories\": [\"0\", \"2\", \"6\", \"12\", \"17\", \"22\", \"25\", \"26\", \"27\", \"28\", \"29\", \"30\", \"31\", \"32\", \"33\", \"38\"], \"mode\": \"markers\", \"name\": \"precision_score_micro\", \"stepped\": false, \"type\": \"scatter\", \"data\": [0.811505376344086, 0.8246236559139785, 0.8246236559139785, 0.8280645161290321, 0.8312903225806453, 0.8212903225806452, 0.8251612903225805, 0.8120430107526883, 0.8081720430107527, 0.8348387096774195, 0.8216129032258064, 0.7458064516129033, 0.8248387096774193, 0.8216129032258065, 0.8315053763440862, 0.857741935483871]}, {\"categories\": [\"0\", \"2\", \"6\", \"12\", \"17\", \"22\", \"25\", \"26\", \"27\", \"28\", \"29\", \"30\", \"31\", \"32\", \"33\", \"38\"], \"mode\": \"lines\", \"name\": \"precision_score_micro_max\", \"stepped\": true, \"type\": \"scatter\", \"data\": [0.811505376344086, 0.8246236559139785, 0.8246236559139785, 0.8280645161290321, 0.8312903225806453, 0.8312903225806453, 0.8312903225806453, 0.8312903225806453, 0.8312903225806453, 0.8348387096774195, 0.8348387096774195, 0.8348387096774195, 0.8348387096774195, 0.8348387096774195, 0.8348387096774195, 0.857741935483871]}], \"f1_score_micro\": [{\"categories\": [\"0\", \"2\", \"6\", \"12\", \"17\", \"22\", \"25\", \"26\", \"27\", \"28\", \"29\", \"30\", \"31\", \"32\", \"33\", \"38\"], \"mode\": \"markers\", \"name\": \"f1_score_micro\", \"stepped\": false, \"type\": \"scatter\", \"data\": [0.811505376344086, 0.8246236559139785, 0.8246236559139785, 0.8280645161290321, 0.8312903225806453, 0.8212903225806452, 0.8251612903225805, 0.8120430107526883, 0.8081720430107527, 0.8348387096774195, 0.8216129032258065, 0.7458064516129033, 0.8248387096774193, 0.8216129032258067, 0.8315053763440862, 0.857741935483871]}, {\"categories\": [\"0\", \"2\", \"6\", \"12\", \"17\", \"22\", \"25\", \"26\", \"27\", \"28\", \"29\", \"30\", \"31\", \"32\", \"33\", \"38\"], \"mode\": \"lines\", \"name\": \"f1_score_micro_max\", \"stepped\": true, \"type\": \"scatter\", \"data\": [0.811505376344086, 0.8246236559139785, 0.8246236559139785, 0.8280645161290321, 0.8312903225806453, 0.8312903225806453, 0.8312903225806453, 0.8312903225806453, 0.8312903225806453, 0.8348387096774195, 0.8348387096774195, 0.8348387096774195, 0.8348387096774195, 0.8348387096774195, 0.8348387096774195, 0.857741935483871]}], \"accuracy\": [{\"categories\": [\"0\", \"2\", \"6\", \"12\", \"17\", \"22\", \"25\", \"26\", \"27\", \"28\", \"29\", \"30\", \"31\", \"32\", \"33\", \"38\"], \"mode\": \"markers\", \"name\": \"accuracy\", \"stepped\": false, \"type\": \"scatter\", \"data\": [0.811505376344086, 0.8246236559139785, 0.8246236559139785, 0.8280645161290321, 0.8312903225806453, 0.8212903225806452, 0.8251612903225805, 0.8120430107526883, 0.8081720430107527, 0.8348387096774195, 0.8216129032258064, 0.7458064516129033, 0.8248387096774193, 0.8216129032258065, 0.8315053763440862, 0.857741935483871]}, {\"categories\": [\"0\", \"2\", \"6\", \"12\", \"17\", \"22\", \"25\", \"26\", \"27\", \"28\", \"29\", \"30\", \"31\", \"32\", \"33\", \"38\"], \"mode\": \"lines\", \"name\": \"accuracy_max\", \"stepped\": true, \"type\": \"scatter\", \"data\": [0.811505376344086, 0.8246236559139785, 0.8246236559139785, 0.8280645161290321, 0.8312903225806453, 0.8312903225806453, 0.8312903225806453, 0.8312903225806453, 0.8312903225806453, 0.8348387096774195, 0.8348387096774195, 0.8348387096774195, 0.8348387096774195, 0.8348387096774195, 0.8348387096774195, 0.857741935483871]}], \"f1_score_weighted\": [{\"categories\": [\"0\", \"2\", \"6\", \"12\", \"17\", \"22\", \"25\", \"26\", \"27\", \"28\", \"29\", \"30\", \"31\", \"32\", \"33\", \"38\"], \"mode\": \"markers\", \"name\": \"f1_score_weighted\", \"stepped\": false, \"type\": \"scatter\", \"data\": [0.8098393982665282, 0.8240939834147809, 0.8234527577963373, 0.8259992948364003, 0.8292869243113454, 0.8207739042635707, 0.8233730595344152, 0.8067728754368636, 0.8068827078917227, 0.8338450836762747, 0.8204290608640188, 0.7417975419632052, 0.8228670078048907, 0.8209252051287725, 0.8300247845551615, 0.8568865338419771]}, {\"categories\": [\"0\", \"2\", \"6\", \"12\", \"17\", \"22\", \"25\", \"26\", \"27\", \"28\", \"29\", \"30\", \"31\", \"32\", \"33\", \"38\"], \"mode\": \"lines\", \"name\": \"f1_score_weighted_max\", \"stepped\": true, \"type\": \"scatter\", \"data\": [0.8098393982665282, 0.8240939834147809, 0.8240939834147809, 0.8259992948364003, 0.8292869243113454, 0.8292869243113454, 0.8292869243113454, 0.8292869243113454, 0.8292869243113454, 0.8338450836762747, 0.8338450836762747, 0.8338450836762747, 0.8338450836762747, 0.8338450836762747, 0.8338450836762747, 0.8568865338419771]}], \"average_precision_score_micro\": [{\"categories\": [\"0\", \"2\", \"6\", \"12\", \"17\", \"22\", \"25\", \"26\", \"27\", \"28\", \"29\", \"30\", \"31\", \"32\", \"33\", \"38\"], \"mode\": \"markers\", \"name\": \"average_precision_score_micro\", \"stepped\": false, \"type\": \"scatter\", \"data\": [0.8785300785590453, 0.9074651176086073, 0.8830988926219391, 0.8961694678944212, 0.9083363410331161, 0.8745863504867666, 0.9229023670803572, 0.8669357193743927, 0.8881902416923488, 0.9005363081758511, 0.8953613273855188, 0.8264509676259719, 0.8959750836243454, 0.9015850696142064, 0.9064532647241947, 0.9159985092215974]}, {\"categories\": [\"0\", \"2\", \"6\", \"12\", \"17\", \"22\", \"25\", \"26\", \"27\", \"28\", \"29\", \"30\", \"31\", \"32\", \"33\", \"38\"], \"mode\": \"lines\", \"name\": \"average_precision_score_micro_max\", \"stepped\": true, \"type\": \"scatter\", \"data\": [0.8785300785590453, 0.9074651176086073, 0.9074651176086073, 0.9074651176086073, 0.9083363410331161, 0.9083363410331161, 0.9229023670803572, 0.9229023670803572, 0.9229023670803572, 0.9229023670803572, 0.9229023670803572, 0.9229023670803572, 0.9229023670803572, 0.9229023670803572, 0.9229023670803572, 0.9229023670803572]}], \"f1_score_macro\": [{\"categories\": [\"0\", \"2\", \"6\", \"12\", \"17\", \"22\", \"25\", \"26\", \"27\", \"28\", \"29\", \"30\", \"31\", \"32\", \"33\", \"38\"], \"mode\": \"markers\", \"name\": \"f1_score_macro\", \"stepped\": false, \"type\": \"scatter\", \"data\": [0.8051086915482137, 0.8195136486884692, 0.817982937820618, 0.8214077648662913, 0.8241258848187988, 0.8168940512276247, 0.8189122966518301, 0.8009124783479005, 0.8011344331450877, 0.8294047975722977, 0.8150522224317811, 0.7374054986126237, 0.8169067658302451, 0.8166693325772438, 0.8248361439210751, 0.8526049855872662]}, {\"categories\": [\"0\", \"2\", \"6\", \"12\", \"17\", \"22\", \"25\", \"26\", \"27\", \"28\", \"29\", \"30\", \"31\", \"32\", \"33\", \"38\"], \"mode\": \"lines\", \"name\": \"f1_score_macro_max\", \"stepped\": true, \"type\": \"scatter\", \"data\": [0.8051086915482137, 0.8195136486884692, 0.8195136486884692, 0.8214077648662913, 0.8241258848187988, 0.8241258848187988, 0.8241258848187988, 0.8241258848187988, 0.8241258848187988, 0.8294047975722977, 0.8294047975722977, 0.8294047975722977, 0.8294047975722977, 0.8294047975722977, 0.8294047975722977, 0.8526049855872662]}], \"recall_score_macro\": [{\"categories\": [\"0\", \"2\", \"6\", \"12\", \"17\", \"22\", \"25\", \"26\", \"27\", \"28\", \"29\", \"30\", \"31\", \"32\", \"33\", \"38\"], \"mode\": \"markers\", \"name\": \"recall_score_macro\", \"stepped\": false, \"type\": \"scatter\", \"data\": [0.8071990726421842, 0.8208255134957921, 0.8184515415784765, 0.8243226435157549, 0.8274559021559795, 0.8176277910256239, 0.8199971322107544, 0.8027833095267306, 0.8015393859666305, 0.8316458277274841, 0.8153132969541638, 0.7467858695741822, 0.8176612931701943, 0.8181981919868917, 0.8260547053136061, 0.8531266967896226]}, {\"categories\": [\"0\", \"2\", \"6\", \"12\", \"17\", \"22\", \"25\", \"26\", \"27\", \"28\", \"29\", \"30\", \"31\", \"32\", \"33\", \"38\"], \"mode\": \"lines\", \"name\": \"recall_score_macro_max\", \"stepped\": true, \"type\": \"scatter\", \"data\": [0.8071990726421842, 0.8208255134957921, 0.8208255134957921, 0.8243226435157549, 0.8274559021559795, 0.8274559021559795, 0.8274559021559795, 0.8274559021559795, 0.8274559021559795, 0.8316458277274841, 0.8316458277274841, 0.8316458277274841, 0.8316458277274841, 0.8316458277274841, 0.8316458277274841, 0.8531266967896226]}], \"average_precision_score_macro\": [{\"categories\": [\"0\", \"2\", \"6\", \"12\", \"17\", \"22\", \"25\", \"26\", \"27\", \"28\", \"29\", \"30\", \"31\", \"32\", \"33\", \"38\"], \"mode\": \"markers\", \"name\": \"average_precision_score_macro\", \"stepped\": false, \"type\": \"scatter\", \"data\": [0.8867812599152358, 0.9116251377593596, 0.8870646920479672, 0.8994412144810667, 0.9140756152163313, 0.8777829406276016, 0.9259594887123977, 0.8914549611681861, 0.8985170722155689, 0.9061938103909417, 0.8972698799188408, 0.8352555561476978, 0.9029662193721892, 0.9064443663193492, 0.9139255820662979, 0.9197446867076211]}, {\"categories\": [\"0\", \"2\", \"6\", \"12\", \"17\", \"22\", \"25\", \"26\", \"27\", \"28\", \"29\", \"30\", \"31\", \"32\", \"33\", \"38\"], \"mode\": \"lines\", \"name\": \"average_precision_score_macro_max\", \"stepped\": true, \"type\": \"scatter\", \"data\": [0.8867812599152358, 0.9116251377593596, 0.9116251377593596, 0.9116251377593596, 0.9140756152163313, 0.9140756152163313, 0.9259594887123977, 0.9259594887123977, 0.9259594887123977, 0.9259594887123977, 0.9259594887123977, 0.9259594887123977, 0.9259594887123977, 0.9259594887123977, 0.9259594887123977, 0.9259594887123977]}], \"matthews_correlation\": [{\"categories\": [\"0\", \"2\", \"6\", \"12\", \"17\", \"22\", \"25\", \"26\", \"27\", \"28\", \"29\", \"30\", \"31\", \"32\", \"33\", \"38\"], \"mode\": \"markers\", \"name\": \"matthews_correlation\", \"stepped\": false, \"type\": \"scatter\", \"data\": [0.6281999109043686, 0.6442499007798512, 0.642360360546197, 0.6563212879653518, 0.6606073923675624, 0.6400267136206763, 0.648682920745778, 0.6351086809567368, 0.6094147671102597, 0.6689520794249164, 0.6386328952854442, 0.5073256480652828, 0.6486718691494991, 0.6428603110507819, 0.6590727153797495, 0.7113749804946785]}, {\"categories\": [\"0\", \"2\", \"6\", \"12\", \"17\", \"22\", \"25\", \"26\", \"27\", \"28\", \"29\", \"30\", \"31\", \"32\", \"33\", \"38\"], \"mode\": \"lines\", \"name\": \"matthews_correlation_max\", \"stepped\": true, \"type\": \"scatter\", \"data\": [0.6281999109043686, 0.6442499007798512, 0.6442499007798512, 0.6563212879653518, 0.6606073923675624, 0.6606073923675624, 0.6606073923675624, 0.6606073923675624, 0.6606073923675624, 0.6689520794249164, 0.6689520794249164, 0.6689520794249164, 0.6689520794249164, 0.6689520794249164, 0.6689520794249164, 0.7113749804946785]}], \"precision_score_weighted\": [{\"categories\": [\"0\", \"2\", \"6\", \"12\", \"17\", \"22\", \"25\", \"26\", \"27\", \"28\", \"29\", \"30\", \"31\", \"32\", \"33\", \"38\"], \"mode\": \"markers\", \"name\": \"precision_score_weighted\", \"stepped\": false, \"type\": \"scatter\", \"data\": [0.8262799266252276, 0.8286074282559103, 0.8284844349989037, 0.837026750643655, 0.8393909215068772, 0.8264008351400365, 0.8322449190594352, 0.8352719878059437, 0.8125210527516649, 0.8428018356009087, 0.8275632357952709, 0.7713537256226135, 0.8352629505316637, 0.829350511148826, 0.8376977141559683, 0.8620675243215565]}, {\"categories\": [\"0\", \"2\", \"6\", \"12\", \"17\", \"22\", \"25\", \"26\", \"27\", \"28\", \"29\", \"30\", \"31\", \"32\", \"33\", \"38\"], \"mode\": \"lines\", \"name\": \"precision_score_weighted_max\", \"stepped\": true, \"type\": \"scatter\", \"data\": [0.8262799266252276, 0.8286074282559103, 0.8286074282559103, 0.837026750643655, 0.8393909215068772, 0.8393909215068772, 0.8393909215068772, 0.8393909215068772, 0.8393909215068772, 0.8428018356009087, 0.8428018356009087, 0.8428018356009087, 0.8428018356009087, 0.8428018356009087, 0.8428018356009087, 0.8620675243215565]}], \"weighted_accuracy\": [{\"categories\": [\"0\", \"2\", \"6\", \"12\", \"17\", \"22\", \"25\", \"26\", \"27\", \"28\", \"29\", \"30\", \"31\", \"32\", \"33\", \"38\"], \"mode\": \"markers\", \"name\": \"weighted_accuracy\", \"stepped\": false, \"type\": \"scatter\", \"data\": [0.815316867788248, 0.827884403566487, 0.8301798478385244, 0.8313733495678031, 0.8346021000883779, 0.8242872077987917, 0.8295357850895195, 0.8199190456676249, 0.8138138232461793, 0.8373187181967763, 0.8269082065859548, 0.7445930955085927, 0.8309039130721049, 0.8245259145545477, 0.8362667222518217, 0.8618178943876658]}, {\"categories\": [\"0\", \"2\", \"6\", \"12\", \"17\", \"22\", \"25\", \"26\", \"27\", \"28\", \"29\", \"30\", \"31\", \"32\", \"33\", \"38\"], \"mode\": \"lines\", \"name\": \"weighted_accuracy_max\", \"stepped\": true, \"type\": \"scatter\", \"data\": [0.815316867788248, 0.827884403566487, 0.8301798478385244, 0.8313733495678031, 0.8346021000883779, 0.8346021000883779, 0.8346021000883779, 0.8346021000883779, 0.8346021000883779, 0.8373187181967763, 0.8373187181967763, 0.8373187181967763, 0.8373187181967763, 0.8373187181967763, 0.8373187181967763, 0.8618178943876658]}], \"AUC_weighted\": [{\"categories\": [\"0\", \"2\", \"6\", \"12\", \"17\", \"22\", \"25\", \"26\", \"27\", \"28\", \"29\", \"30\", \"31\", \"32\", \"33\", \"38\"], \"mode\": \"markers\", \"name\": \"AUC_weighted\", \"stepped\": false, \"type\": \"scatter\", \"data\": [0.8828390759710418, 0.9112899527373213, 0.8815164847908654, 0.8983664225208343, 0.909964680672498, 0.8760746424699597, 0.9227008048710836, 0.8947569230162109, 0.8983044819817266, 0.90410162542709, 0.8936530826987482, 0.8517209806089451, 0.9033865884287712, 0.9034703930400527, 0.9125774631285466, 0.9161148664000832]}, {\"categories\": [\"0\", \"2\", \"6\", \"12\", \"17\", \"22\", \"25\", \"26\", \"27\", \"28\", \"29\", \"30\", \"31\", \"32\", \"33\", \"38\"], \"mode\": \"lines\", \"name\": \"AUC_weighted_max\", \"stepped\": true, \"type\": \"scatter\", \"data\": [0.8828390759710418, 0.9112899527373213, 0.9112899527373213, 0.9112899527373213, 0.9112899527373213, 0.9112899527373213, 0.9227008048710836, 0.9227008048710836, 0.9227008048710836, 0.9227008048710836, 0.9227008048710836, 0.9227008048710836, 0.9227008048710836, 0.9227008048710836, 0.9227008048710836, 0.9227008048710836]}], \"AUC_macro\": [{\"categories\": [\"0\", \"2\", \"6\", \"12\", \"17\", \"22\", \"25\", \"26\", \"27\", \"28\", \"29\", \"30\", \"31\", \"32\", \"33\", \"38\"], \"mode\": \"markers\", \"name\": \"AUC_macro\", \"stepped\": false, \"type\": \"scatter\", \"data\": [0.8828390759710418, 0.9112899527373213, 0.8815164847908654, 0.8983664225208343, 0.909964680672498, 0.8760746424699597, 0.9227008048710836, 0.8947569230162111, 0.8983044819817266, 0.9041016254270898, 0.8936530826987482, 0.8517209806089451, 0.9033865884287711, 0.9034703930400525, 0.9125774631285466, 0.916114866400083]}, {\"categories\": [\"0\", \"2\", \"6\", \"12\", \"17\", \"22\", \"25\", \"26\", \"27\", \"28\", \"29\", \"30\", \"31\", \"32\", \"33\", \"38\"], \"mode\": \"lines\", \"name\": \"AUC_macro_max\", \"stepped\": true, \"type\": \"scatter\", \"data\": [0.8828390759710418, 0.9112899527373213, 0.9112899527373213, 0.9112899527373213, 0.9112899527373213, 0.9112899527373213, 0.9227008048710836, 0.9227008048710836, 0.9227008048710836, 0.9227008048710836, 0.9227008048710836, 0.9227008048710836, 0.9227008048710836, 0.9227008048710836, 0.9227008048710836, 0.9227008048710836]}], \"average_precision_score_weighted\": [{\"categories\": [\"0\", \"2\", \"6\", \"12\", \"17\", \"22\", \"25\", \"26\", \"27\", \"28\", \"29\", \"30\", \"31\", \"32\", \"33\", \"38\"], \"mode\": \"markers\", \"name\": \"average_precision_score_weighted\", \"stepped\": false, \"type\": \"scatter\", \"data\": [0.8919494524740141, 0.9156361099777894, 0.8909066003218575, 0.9036387843019351, 0.917636900654208, 0.881668568036603, 0.9293816491241838, 0.895401756127862, 0.9025632768424637, 0.9102804769919766, 0.9011752816571965, 0.8413471693178834, 0.9073540329796488, 0.9097239663893983, 0.9172327491150695, 0.9232305365761009]}, {\"categories\": [\"0\", \"2\", \"6\", \"12\", \"17\", \"22\", \"25\", \"26\", \"27\", \"28\", \"29\", \"30\", \"31\", \"32\", \"33\", \"38\"], \"mode\": \"lines\", \"name\": \"average_precision_score_weighted_max\", \"stepped\": true, \"type\": \"scatter\", \"data\": [0.8919494524740141, 0.9156361099777894, 0.9156361099777894, 0.9156361099777894, 0.917636900654208, 0.917636900654208, 0.9293816491241838, 0.9293816491241838, 0.9293816491241838, 0.9293816491241838, 0.9293816491241838, 0.9293816491241838, 0.9293816491241838, 0.9293816491241838, 0.9293816491241838, 0.9293816491241838]}], \"balanced_accuracy\": [{\"categories\": [\"0\", \"2\", \"6\", \"12\", \"17\", \"22\", \"25\", \"26\", \"27\", \"28\", \"29\", \"30\", \"31\", \"32\", \"33\", \"38\"], \"mode\": \"markers\", \"name\": \"balanced_accuracy\", \"stepped\": false, \"type\": \"scatter\", \"data\": [0.8071990726421842, 0.8208255134957921, 0.8184515415784765, 0.8243226435157549, 0.8274559021559795, 0.8176277910256239, 0.8199971322107544, 0.8027833095267306, 0.8015393859666305, 0.8316458277274841, 0.8153132969541638, 0.7467858695741822, 0.8176612931701943, 0.8181981919868917, 0.8260547053136061, 0.8531266967896226]}, {\"categories\": [\"0\", \"2\", \"6\", \"12\", \"17\", \"22\", \"25\", \"26\", \"27\", \"28\", \"29\", \"30\", \"31\", \"32\", \"33\", \"38\"], \"mode\": \"lines\", \"name\": \"balanced_accuracy_max\", \"stepped\": true, \"type\": \"scatter\", \"data\": [0.8071990726421842, 0.8208255134957921, 0.8208255134957921, 0.8243226435157549, 0.8274559021559795, 0.8274559021559795, 0.8274559021559795, 0.8274559021559795, 0.8274559021559795, 0.8316458277274841, 0.8316458277274841, 0.8316458277274841, 0.8316458277274841, 0.8316458277274841, 0.8316458277274841, 0.8531266967896226]}], \"precision_score_macro\": [{\"categories\": [\"0\", \"2\", \"6\", \"12\", \"17\", \"22\", \"25\", \"26\", \"27\", \"28\", \"29\", \"30\", \"31\", \"32\", \"33\", \"38\"], \"mode\": \"markers\", \"name\": \"precision_score_macro\", \"stepped\": false, \"type\": \"scatter\", \"data\": [0.8214211740701678, 0.8235931878578938, 0.8241817251376075, 0.8325586725011277, 0.8335929405206899, 0.822512982588447, 0.8290280400284269, 0.8334871269081795, 0.8081605534110079, 0.8375971198115832, 0.8236375815428346, 0.7613511817130239, 0.8323317167009119, 0.8251420097024317, 0.8333814633079338, 0.8584132819794584]}, {\"categories\": [\"0\", \"2\", \"6\", \"12\", \"17\", \"22\", \"25\", \"26\", \"27\", \"28\", \"29\", \"30\", \"31\", \"32\", \"33\", \"38\"], \"mode\": \"lines\", \"name\": \"precision_score_macro_max\", \"stepped\": true, \"type\": \"scatter\", \"data\": [0.8214211740701678, 0.8235931878578938, 0.8241817251376075, 0.8325586725011277, 0.8335929405206899, 0.8335929405206899, 0.8335929405206899, 0.8335929405206899, 0.8335929405206899, 0.8375971198115832, 0.8375971198115832, 0.8375971198115832, 0.8375971198115832, 0.8375971198115832, 0.8375971198115832, 0.8584132819794584]}], \"norm_macro_recall\": [{\"categories\": [\"0\", \"2\", \"6\", \"12\", \"17\", \"22\", \"25\", \"26\", \"27\", \"28\", \"29\", \"30\", \"31\", \"32\", \"33\", \"38\"], \"mode\": \"markers\", \"name\": \"norm_macro_recall\", \"stepped\": false, \"type\": \"scatter\", \"data\": [0.6143981452843683, 0.6416510269915843, 0.6369030831569532, 0.6486452870315099, 0.6549118043119591, 0.6352555820512478, 0.6399942644215091, 0.6055666190534611, 0.6030787719332611, 0.6632916554549682, 0.6306265939083275, 0.4935717391483645, 0.6353225863403882, 0.6363963839737835, 0.6521094106272124, 0.7062533935792449]}, {\"categories\": [\"0\", \"2\", \"6\", \"12\", \"17\", \"22\", \"25\", \"26\", \"27\", \"28\", \"29\", \"30\", \"31\", \"32\", \"33\", \"38\"], \"mode\": \"lines\", \"name\": \"norm_macro_recall_max\", \"stepped\": true, \"type\": \"scatter\", \"data\": [0.6143981452843683, 0.6416510269915843, 0.6416510269915843, 0.6486452870315099, 0.6549118043119591, 0.6549118043119591, 0.6549118043119591, 0.6549118043119591, 0.6549118043119591, 0.6632916554549682, 0.6632916554549682, 0.6632916554549682, 0.6632916554549682, 0.6632916554549682, 0.6632916554549682, 0.7062533935792449]}], \"AUC_micro\": [{\"categories\": [\"0\", \"2\", \"6\", \"12\", \"17\", \"22\", \"25\", \"26\", \"27\", \"28\", \"29\", \"30\", \"31\", \"32\", \"33\", \"38\"], \"mode\": \"markers\", \"name\": \"AUC_micro\", \"stepped\": false, \"type\": \"scatter\", \"data\": [0.8751829113192275, 0.9068728176667824, 0.8814724245577524, 0.8948920106370679, 0.9068797548849578, 0.8756344086021505, 0.9175851543531044, 0.8691227887617066, 0.8907721123829345, 0.8993011908891202, 0.893752688172043, 0.840978147762747, 0.8979238062203724, 0.8998585963695225, 0.9063011908891202, 0.913366516360273]}, {\"categories\": [\"0\", \"2\", \"6\", \"12\", \"17\", \"22\", \"25\", \"26\", \"27\", \"28\", \"29\", \"30\", \"31\", \"32\", \"33\", \"38\"], \"mode\": \"lines\", \"name\": \"AUC_micro_max\", \"stepped\": true, \"type\": \"scatter\", \"data\": [0.8751829113192275, 0.9068728176667824, 0.9068728176667824, 0.9068728176667824, 0.9068797548849578, 0.9068797548849578, 0.9175851543531044, 0.9175851543531044, 0.9175851543531044, 0.9175851543531044, 0.9175851543531044, 0.9175851543531044, 0.9175851543531044, 0.9175851543531044, 0.9175851543531044, 0.9175851543531044]}], \"recall_score_micro\": [{\"categories\": [\"0\", \"2\", \"6\", \"12\", \"17\", \"22\", \"25\", \"26\", \"27\", \"28\", \"29\", \"30\", \"31\", \"32\", \"33\", \"38\"], \"mode\": \"markers\", \"name\": \"recall_score_micro\", \"stepped\": false, \"type\": \"scatter\", \"data\": [0.811505376344086, 0.8246236559139785, 0.8246236559139785, 0.8280645161290321, 0.8312903225806453, 0.8212903225806452, 0.8251612903225805, 0.8120430107526883, 0.8081720430107527, 0.8348387096774195, 0.8216129032258064, 0.7458064516129033, 0.8248387096774193, 0.8216129032258065, 0.8315053763440862, 0.857741935483871]}, {\"categories\": [\"0\", \"2\", \"6\", \"12\", \"17\", \"22\", \"25\", \"26\", \"27\", \"28\", \"29\", \"30\", \"31\", \"32\", \"33\", \"38\"], \"mode\": \"lines\", \"name\": \"recall_score_micro_max\", \"stepped\": true, \"type\": \"scatter\", \"data\": [0.811505376344086, 0.8246236559139785, 0.8246236559139785, 0.8280645161290321, 0.8312903225806453, 0.8312903225806453, 0.8312903225806453, 0.8312903225806453, 0.8312903225806453, 0.8348387096774195, 0.8348387096774195, 0.8348387096774195, 0.8348387096774195, 0.8348387096774195, 0.8348387096774195, 0.857741935483871]}], \"log_loss\": [{\"categories\": [\"0\", \"2\", \"6\", \"12\", \"17\", \"22\", \"25\", \"26\", \"27\", \"28\", \"29\", \"30\", \"31\", \"32\", \"33\", \"38\"], \"mode\": \"markers\", \"name\": \"log_loss\", \"stepped\": false, \"type\": \"scatter\", \"data\": [0.5268000663868162, 0.43507609876018644, 0.4845682393986981, 0.43611614242167873, 0.4067845939058822, 0.4868997083932308, 0.391592036220553, 0.5740242410314209, 0.4437145282279908, 0.42186429382519774, 0.42998616876332163, 0.5189262746579286, 0.44883453540060503, 0.43878737896060593, 0.3842494883635822, 0.38526413972979107]}, {\"categories\": [\"0\", \"2\", \"6\", \"12\", \"17\", \"22\", \"25\", \"26\", \"27\", \"28\", \"29\", \"30\", \"31\", \"32\", \"33\", \"38\"], \"mode\": \"lines\", \"name\": \"log_loss_min\", \"stepped\": true, \"type\": \"scatter\", \"data\": [0.5268000663868162, 0.43507609876018644, 0.43507609876018644, 0.43507609876018644, 0.4067845939058822, 0.4067845939058822, 0.391592036220553, 0.391592036220553, 0.391592036220553, 0.391592036220553, 0.391592036220553, 0.391592036220553, 0.391592036220553, 0.391592036220553, 0.3842494883635822, 0.3842494883635822]}], \"recall_score_weighted\": [{\"categories\": [\"0\", \"2\", \"6\", \"12\", \"17\", \"22\", \"25\", \"26\", \"27\", \"28\", \"29\", \"30\", \"31\", \"32\", \"33\", \"38\"], \"mode\": \"markers\", \"name\": \"recall_score_weighted\", \"stepped\": false, \"type\": \"scatter\", \"data\": [0.811505376344086, 0.8246236559139785, 0.8246236559139785, 0.8280645161290321, 0.8312903225806453, 0.8212903225806452, 0.8251612903225805, 0.8120430107526883, 0.8081720430107527, 0.8348387096774195, 0.8216129032258064, 0.7458064516129033, 0.8248387096774193, 0.8216129032258065, 0.8315053763440862, 0.857741935483871]}, {\"categories\": [\"0\", \"2\", \"6\", \"12\", \"17\", \"22\", \"25\", \"26\", \"27\", \"28\", \"29\", \"30\", \"31\", \"32\", \"33\", \"38\"], \"mode\": \"lines\", \"name\": \"recall_score_weighted_max\", \"stepped\": true, \"type\": \"scatter\", \"data\": [0.811505376344086, 0.8246236559139785, 0.8246236559139785, 0.8280645161290321, 0.8312903225806453, 0.8312903225806453, 0.8312903225806453, 0.8312903225806453, 0.8312903225806453, 0.8348387096774195, 0.8348387096774195, 0.8348387096774195, 0.8348387096774195, 0.8348387096774195, 0.8348387096774195, 0.857741935483871]}]}, \"metricName\": null, \"primaryMetricName\": \"accuracy\", \"showLegend\": false}, \"run_metrics\": [{\"name\": \"experiment_status\", \"run_id\": \"AutoML_e5ea044e-9331-43d9-a18a-e984edae10f1\", \"categories\": [0, 1, 2, 3, 4, 5, 6, 7, 8, 9, 10, 11, 12, 13], \"series\": [{\"data\": [\"DatasetEvaluation\", \"FeaturesGeneration\", \"DatasetFeaturization\", \"DatasetFeaturizationCompleted\", \"DatasetCrossValidationSplit\", \"ModelSelection\", \"BestRunExplainModel\", \"ModelExplanationDataSetSetup\", \"PickSurrogateModel\", \"EngineeredFeatureExplanations\", \"EngineeredFeatureExplanations\", \"RawFeaturesExplanations\", \"RawFeaturesExplanations\", \"BestRunExplainModel\"]}]}, {\"name\": \"experiment_status_description\", \"run_id\": \"AutoML_e5ea044e-9331-43d9-a18a-e984edae10f1\", \"categories\": [0, 1, 2, 3, 4, 5, 6, 7, 8, 9, 10, 11, 12, 13], \"series\": [{\"data\": [\"Gathering dataset statistics.\", \"Generating features for the dataset.\", \"Beginning to fit featurizers and featurize the dataset.\", \"Completed fit featurizers and featurizing the dataset.\", \"Generating individually featurized CV splits.\", \"Beginning model selection.\", \"Best run model explanations started\", \"Model explanations data setup completed\", \"Choosing LightGBM as the surrogate model for explanations\", \"Computation of engineered features started\", \"Computation of engineered features completed\", \"Computation of raw features started\", \"Computation of raw features completed\", \"Best run model explanations completed\"]}]}], \"run_logs\": \"\\nRun is completed.\", \"graph\": {}, \"widget_settings\": {\"childWidgetDisplay\": \"popup\", \"send_telemetry\": false, \"log_level\": \"INFO\", \"sdk_version\": \"1.38.0\"}, \"loading\": false}"
          },
          "metadata": {},
          "output_type": "display_data"
        }
      ],
      "source": [
        "\n",
        "RunDetails(remote_run).show()"
      ]
    },
    {
      "cell_type": "code",
      "execution_count": 10,
      "metadata": {
        "gather": {
          "logged": 1646047382803
        }
      },
      "outputs": [
        {
          "data": {
            "text/plain": [
              "{'runId': 'AutoML_e5ea044e-9331-43d9-a18a-e984edae10f1',\n",
              " 'target': 'automl-cluster',\n",
              " 'status': 'Completed',\n",
              " 'startTimeUtc': '2022-02-28T11:08:07.474147Z',\n",
              " 'endTimeUtc': '2022-02-28T11:22:59.042347Z',\n",
              " 'services': {},\n",
              " 'properties': {'num_iterations': '1000',\n",
              "  'training_type': 'TrainFull',\n",
              "  'acquisition_function': 'EI',\n",
              "  'primary_metric': 'accuracy',\n",
              "  'train_split': '0',\n",
              "  'acquisition_parameter': '0',\n",
              "  'num_cross_validation': None,\n",
              "  'target': 'automl-cluster',\n",
              "  'AMLSettingsJsonString': '{\"path\":null,\"name\":\"automl-exp\",\"subscription_id\":\"9a7511b8-150f-4a58-8528-3e7d50216c31\",\"resource_group\":\"aml-quickstarts-187667\",\"workspace_name\":\"quick-starts-ws-187667\",\"region\":\"southcentralus\",\"compute_target\":\"automl-cluster\",\"spark_service\":null,\"azure_service\":\"remote\",\"many_models\":false,\"pipeline_fetch_max_batch_size\":1,\"enable_batch_run\":true,\"enable_run_restructure\":false,\"start_auxiliary_runs_before_parent_complete\":false,\"enable_code_generation\":false,\"iterations\":1000,\"primary_metric\":\"accuracy\",\"task_type\":\"classification\",\"positive_label\":null,\"data_script\":null,\"test_size\":0.0,\"test_include_predictions_only\":false,\"validation_size\":0.0,\"n_cross_validations\":null,\"y_min\":null,\"y_max\":null,\"num_classes\":null,\"featurization\":\"auto\",\"_ignore_package_version_incompatibilities\":false,\"is_timeseries\":false,\"max_cores_per_iteration\":1,\"max_concurrent_iterations\":5,\"iteration_timeout_minutes\":null,\"mem_in_mb\":null,\"enforce_time_on_windows\":false,\"experiment_timeout_minutes\":60,\"experiment_exit_score\":null,\"whitelist_models\":null,\"blacklist_algos\":[\"TensorFlowLinearClassifier\",\"TensorFlowDNN\"],\"supported_models\":[\"MultinomialNaiveBayes\",\"LogisticRegression\",\"KNN\",\"LightGBM\",\"SGD\",\"TensorFlowLinearClassifier\",\"SVM\",\"ExtremeRandomTrees\",\"AveragedPerceptronClassifier\",\"TensorFlowDNN\",\"GradientBoosting\",\"XGBoostClassifier\",\"RandomForest\",\"LinearSVM\",\"TabnetClassifier\",\"DecisionTree\",\"BernoulliNaiveBayes\"],\"private_models\":[],\"auto_blacklist\":true,\"blacklist_samples_reached\":false,\"exclude_nan_labels\":true,\"verbosity\":20,\"_debug_log\":\"azureml_automl.log\",\"show_warnings\":false,\"model_explainability\":true,\"service_url\":null,\"sdk_url\":null,\"sdk_packages\":null,\"enable_onnx_compatible_models\":false,\"enable_split_onnx_featurizer_estimator_models\":false,\"vm_type\":\"STANDARD_DS12_V2\",\"telemetry_verbosity\":20,\"send_telemetry\":true,\"enable_dnn\":false,\"scenario\":\"SDK-1.13.0\",\"environment_label\":null,\"save_mlflow\":false,\"enable_categorical_indicators\":false,\"force_text_dnn\":false,\"enable_feature_sweeping\":true,\"enable_early_stopping\":true,\"early_stopping_n_iters\":10,\"arguments\":null,\"dataset_id\":null,\"hyperdrive_config\":null,\"validation_dataset_id\":null,\"run_source\":null,\"metrics\":null,\"enable_metric_confidence\":false,\"enable_ensembling\":true,\"enable_stack_ensembling\":true,\"ensemble_iterations\":15,\"enable_tf\":false,\"enable_subsampling\":null,\"subsample_seed\":null,\"enable_nimbusml\":false,\"enable_streaming\":false,\"force_streaming\":false,\"track_child_runs\":true,\"allowed_private_models\":[],\"label_column_name\":\"target\",\"weight_column_name\":null,\"cv_split_column_names\":null,\"enable_local_managed\":false,\"_local_managed_run_id\":null,\"cost_mode\":1,\"lag_length\":0,\"metric_operation\":\"maximize\",\"preprocess\":true}',\n",
              "  'DataPrepJsonString': '{\\\\\"training_data\\\\\": {\\\\\"datasetId\\\\\": \\\\\"6f359f17-6ce1-43b9-a8ae-acf87158a4c6\\\\\"}, \\\\\"datasets\\\\\": 0}',\n",
              "  'EnableSubsampling': None,\n",
              "  'runTemplate': 'AutoML',\n",
              "  'azureml.runsource': 'automl',\n",
              "  'display_task_type': 'classification',\n",
              "  'dependencies_versions': '{\"azureml-widgets\": \"1.38.0\", \"azureml-train\": \"1.38.0\", \"azureml-train-restclients-hyperdrive\": \"1.38.0\", \"azureml-train-core\": \"1.38.0\", \"azureml-train-automl\": \"1.38.0\", \"azureml-train-automl-runtime\": \"1.38.0\", \"azureml-train-automl-client\": \"1.38.0\", \"azureml-tensorboard\": \"1.38.0\", \"azureml-telemetry\": \"1.38.0\", \"azureml-sdk\": \"1.38.0\", \"azureml-responsibleai\": \"1.38.0\", \"azureml-pipeline\": \"1.38.0\", \"azureml-pipeline-steps\": \"1.38.0\", \"azureml-pipeline-core\": \"1.38.0\", \"azureml-opendatasets\": \"1.38.0\", \"azureml-mlflow\": \"1.38.0\", \"azureml-interpret\": \"1.38.0\", \"azureml-inference-server-http\": \"0.4.2\", \"azureml-explain-model\": \"1.38.0\", \"azureml-defaults\": \"1.38.0\", \"azureml-dataset-runtime\": \"1.38.0\", \"azureml-dataprep\": \"2.26.0\", \"azureml-dataprep-rslex\": \"2.2.0\", \"azureml-dataprep-native\": \"38.0.0\", \"azureml-datadrift\": \"1.38.0\", \"azureml-core\": \"1.38.0\", \"azureml-contrib-services\": \"1.38.0\", \"azureml-contrib-server\": \"1.38.0\", \"azureml-contrib-reinforcementlearning\": \"1.38.0\", \"azureml-contrib-pipeline-steps\": \"1.38.0\", \"azureml-contrib-notebook\": \"1.38.0\", \"azureml-contrib-fairness\": \"1.38.0\", \"azureml-contrib-dataset\": \"1.38.0\", \"azureml-contrib-automl-pipeline-steps\": \"1.38.0\", \"azureml-cli-common\": \"1.38.0\", \"azureml-automl-runtime\": \"1.38.0\", \"azureml-automl-dnn-nlp\": \"1.38.0\", \"azureml-automl-core\": \"1.38.0\", \"azureml-accel-models\": \"1.38.0\"}',\n",
              "  '_aml_system_scenario_identification': 'Remote.Parent',\n",
              "  'ClientType': 'SDK',\n",
              "  'environment_cpu_name': 'AzureML-AutoML',\n",
              "  'environment_cpu_label': 'py36',\n",
              "  'environment_gpu_name': 'AzureML-AutoML-GPU',\n",
              "  'environment_gpu_label': 'py36',\n",
              "  'root_attribution': 'automl',\n",
              "  'attribution': 'AutoML',\n",
              "  'Orchestrator': 'AutoML',\n",
              "  'CancelUri': 'https://southcentralus.api.azureml.ms/jasmine/v1.0/subscriptions/9a7511b8-150f-4a58-8528-3e7d50216c31/resourceGroups/aml-quickstarts-187667/providers/Microsoft.MachineLearningServices/workspaces/quick-starts-ws-187667/experimentids/fa43e4fe-371c-474f-aae6-9550e1d60c7b/cancel/AutoML_e5ea044e-9331-43d9-a18a-e984edae10f1',\n",
              "  'ClientSdkVersion': '1.38.0',\n",
              "  'snapshotId': '00000000-0000-0000-0000-000000000000',\n",
              "  'SetupRunId': 'AutoML_e5ea044e-9331-43d9-a18a-e984edae10f1_setup',\n",
              "  'SetupRunContainerId': 'dcid.AutoML_e5ea044e-9331-43d9-a18a-e984edae10f1_setup',\n",
              "  'FeaturizationRunJsonPath': 'featurizer_container.json',\n",
              "  'FeaturizationRunId': 'AutoML_e5ea044e-9331-43d9-a18a-e984edae10f1_featurize',\n",
              "  'ProblemInfoJsonString': '{\"dataset_num_categorical\": 0, \"is_sparse\": true, \"subsampling\": false, \"has_extra_col\": true, \"dataset_classes\": 2, \"dataset_features\": 27, \"dataset_samples\": 303, \"single_frequency_class_detected\": false}',\n",
              "  'ModelExplainRunId': 'AutoML_e5ea044e-9331-43d9-a18a-e984edae10f1_ModelExplain'},\n",
              " 'inputDatasets': [{'dataset': {'id': '6f359f17-6ce1-43b9-a8ae-acf87158a4c6'}, 'consumptionDetails': {'type': 'RunInput', 'inputName': 'training_data', 'mechanism': 'Direct'}}],\n",
              " 'outputDatasets': [],\n",
              " 'logFiles': {},\n",
              " 'submittedBy': 'ODL_User 187667'}"
            ]
          },
          "execution_count": 10,
          "metadata": {},
          "output_type": "execute_result"
        }
      ],
      "source": [
        "remote_run.wait_for_completion()"
      ]
    },
    {
      "cell_type": "markdown",
      "metadata": {},
      "source": [
        "## Best Model\n",
        "\n",
        "TODO: In the cell below, get the best model from the automl experiments and display all the properties of the model.\n",
        "\n"
      ]
    },
    {
      "cell_type": "code",
      "execution_count": 31,
      "metadata": {
        "gather": {
          "logged": 1646057442217
        },
        "jupyter": {
          "outputs_hidden": false,
          "source_hidden": false
        },
        "nteract": {
          "transient": {
            "deleting": false
          }
        }
      },
      "outputs": [
        {
          "name": "stdout",
          "output_type": "stream",
          "text": [
            "Best Model Accuracy: 0.8610752688172043\n",
            "Best Model Type:  ExtremeRandomTrees\n"
          ]
        }
      ],
      "source": [
        "\n",
        "# Get your best run and save the model from that run.\n",
        "\n",
        "best_automl = remote_run.get_best_child()\n",
        "\n",
        "run, model = remote_run.get_output()\n",
        "\n",
        "print(\"Best Model Accuracy:\", best_automl.get_metrics()['accuracy'])\n",
        "print(\"Best Model Type: \", best_automl.get_details()['properties']['run_algorithm'])"
      ]
    },
    {
      "cell_type": "code",
      "execution_count": 32,
      "metadata": {
        "gather": {
          "logged": 1646057444539
        },
        "jupyter": {
          "outputs_hidden": false,
          "source_hidden": false
        },
        "nteract": {
          "transient": {
            "deleting": false
          }
        }
      },
      "outputs": [
        {
          "data": {
            "text/plain": [
              "Pipeline(memory=None,\n",
              "         steps=[('datatransformer',\n",
              "                 DataTransformer(enable_dnn=False, enable_feature_sweeping=True, feature_sweeping_config={}, feature_sweeping_timeout=86400, featurization_config=None, force_text_dnn=False, is_cross_validation=True, is_onnx_compatible=False, observer=None, task='classification', working_dir='/mnt/batch/tasks/shared/LS_root/mount...\n",
              "                 ExtraTreesClassifier(bootstrap=False, ccp_alpha=0.0,\n",
              "                                      class_weight=None, criterion='entropy',\n",
              "                                      max_depth=None, max_features=0.05,\n",
              "                                      max_leaf_nodes=None, max_samples=None,\n",
              "                                      min_impurity_decrease=0.0,\n",
              "                                      min_impurity_split=None,\n",
              "                                      min_samples_leaf=0.01,\n",
              "                                      min_samples_split=0.01,\n",
              "                                      min_weight_fraction_leaf=0.0,\n",
              "                                      n_estimators=25, n_jobs=1,\n",
              "                                      oob_score=False, random_state=None,\n",
              "                                      verbose=0, warm_start=False))],\n",
              "         verbose=False)"
            ]
          },
          "execution_count": 32,
          "metadata": {},
          "output_type": "execute_result"
        }
      ],
      "source": [
        "#TODO: Save the best model\n",
        "joblib.dump(model, 'aml_model.joblib')\n",
        "joblib.load('aml_model.joblib')"
      ]
    },
    {
      "cell_type": "markdown",
      "metadata": {},
      "source": [
        "## Model Deployment\n",
        "\n",
        "Remember you have to deploy only one of the two models you trained but you still need to register both the models. Perform the steps in the rest of this notebook only if you wish to deploy this model.\n",
        "\n",
        "TODO: In the cell below, register the model, create an inference config and deploy the model as a web service."
      ]
    },
    {
      "cell_type": "code",
      "execution_count": 77,
      "metadata": {
        "gather": {
          "logged": 1646060706305
        },
        "jupyter": {
          "outputs_hidden": false,
          "source_hidden": false
        },
        "nteract": {
          "transient": {
            "deleting": false
          }
        }
      },
      "outputs": [
        {
          "name": "stdout",
          "output_type": "stream",
          "text": [
            "Tips: You can try get_logs(): https://aka.ms/debugimage#dockerlog or local deployment: https://aka.ms/debugimage#debug-locally to debug if deployment takes longer than 10 minutes.\n",
            "Running\n",
            "2022-02-28 14:58:45+00:00 Creating Container Registry if not exists.\n",
            "2022-02-28 14:58:45+00:00 Registering the environment.\n",
            "2022-02-28 14:58:45+00:00 Use the existing image.\n",
            "2022-02-28 14:58:45+00:00 Generating deployment configuration.\n",
            "2022-02-28 14:58:46+00:00 Submitting deployment to compute.\n",
            "2022-02-28 14:58:48+00:00 Checking the status of deployment automl-deploy..\n",
            "2022-02-28 15:05:02+00:00 Checking the status of inference endpoint automl-deploy.\n",
            "Succeeded\n",
            "ACI service creation operation finished, operation \"Succeeded\"\n",
            "http://488eef2d-3d34-4ddb-a3be-7d5780fe98b9.southcentralus.azurecontainer.io/score\n"
          ]
        }
      ],
      "source": [
        "environment = Environment.get(ws,\"AzureML-AutoML\")\n",
        "\n",
        "model = run.register_model(model_name='automl-best-model',model_path='outputs/model.pkl')\n",
        "inference_config = InferenceConfig(entry_script='score.py',\n",
        "                                   environment=environment)\n",
        "service_name = 'automl-deploy'\n",
        "deployment_config = AciWebservice.deploy_configuration(cpu_cores=1.8, memory_gb=4)\n",
        "\n",
        "service = Model.deploy(workspace=ws,\n",
        "                       name=service_name,\n",
        "                       models=[model],\n",
        "                       inference_config=inference_config,\n",
        "                       deployment_config=deployment_config,\n",
        "                       overwrite=True\n",
        "                      )\n",
        "service.wait_for_deployment(show_output=True)\n",
        "\n",
        "scoring_uri = service.scoring_uri\n",
        "print(scoring_uri)\n",
        "service.update(enable_app_insights=True)\n",
        "service.wait_for_deployment(show_output=True)\n",
        "\n"
      ]
    },
    {
      "cell_type": "markdown",
      "metadata": {
        "collapsed": true,
        "gather": {
          "logged": 1598431657736
        },
        "jupyter": {
          "outputs_hidden": false,
          "source_hidden": false
        },
        "nteract": {
          "transient": {
            "deleting": false
          }
        }
      },
      "source": [
        "TODO: In the cell below, send a request to the web service you deployed to test it."
      ]
    },
    {
      "cell_type": "code",
      "execution_count": 81,
      "metadata": {
        "gather": {
          "logged": 1646061055984
        },
        "jupyter": {
          "outputs_hidden": false,
          "source_hidden": false
        },
        "nteract": {
          "transient": {
            "deleting": false
          }
        }
      },
      "outputs": [
        {
          "name": "stdout",
          "output_type": "stream",
          "text": [
            "[1, 1]\n"
          ]
        },
        {
          "data": {
            "text/plain": [
              "[1, 1]"
            ]
          },
          "execution_count": 81,
          "metadata": {},
          "output_type": "execute_result"
        }
      ],
      "source": [
        "data = {\"data\": [{\"age\": 63,\n",
        "        \"sex\": 1,\n",
        "        \"cp\": 3,\n",
        "        \"trestbps\": 145,\n",
        "        \"chol\": 233,\n",
        "        \"fbs\": 1,\n",
        "        \"restecg\": 0,\n",
        "        \"thalach\": 150,\n",
        "        \"exang\": 0,\n",
        "        \"oldpeak\": 2.3,\n",
        "        \"slope\": 0,\n",
        "        \"ca\": 0,\n",
        "        \"thal\": 1},\n",
        "\n",
        "    {\"age\": 56,\n",
        "        \"sex\": 1,\n",
        "        \"cp\": 0,\n",
        "        \"trestbps\": 125,\n",
        "        \"chol\": 249,\n",
        "        \"fbs\": 1,\n",
        "        \"restecg\": 0,\n",
        "        \"thalach\": 144,\n",
        "        \"exang\": 1,\n",
        "        \"oldpeak\": 1.2,\n",
        "        \"slope\": 1,\n",
        "        \"ca\": 1,\n",
        "        \"thal\": 2},\n",
        "      ]}\n",
        "    \n",
        "# Convert to JSON string\n",
        "input_data = json.dumps(data)\n",
        "with open(\"data.json\", \"w\") as _f:\n",
        "    _f.write(input_data)\n",
        "\n",
        "# Set the content type\n",
        "headers = {'Content-Type': 'application/json'}\n",
        "# If authentication is enabled, set the authorization header\n",
        "# headers['Authorization'] = f'Bearer {key}'\n",
        "\n",
        "# Make the request and display the response\n",
        "resp = requests.post(scoring_uri, input_data, headers=headers)\n",
        "print(resp.json())\n",
        "print(\"Case 0: No Heart Disease, Case 1: Heart Disease.\")\n",
        "\n",
        "# test using service instance\n",
        "output = service.run(input_data)\n",
        "output"
      ]
    },
    {
      "cell_type": "markdown",
      "metadata": {
        "collapsed": true,
        "gather": {
          "logged": 1598432765711
        },
        "jupyter": {
          "outputs_hidden": false,
          "source_hidden": false
        },
        "nteract": {
          "transient": {
            "deleting": false
          }
        }
      },
      "source": [
        "TODO: In the cell below, print the logs of the web service and delete the service"
      ]
    },
    {
      "cell_type": "code",
      "execution_count": 82,
      "metadata": {
        "jupyter": {
          "outputs_hidden": false,
          "source_hidden": false
        },
        "nteract": {
          "transient": {
            "deleting": false
          }
        }
      },
      "outputs": [],
      "source": [
        "logs = service.get_logs()\n",
        "logs\n"
      ]
    },
    {
      "cell_type": "code",
      "execution_count": null,
      "metadata": {},
      "outputs": [],
      "source": [
        "service.delete()"
      ]
    },
    {
      "cell_type": "markdown",
      "metadata": {},
      "source": [
        "**Submission Checklist**\n",
        "- I have registered the model.\n",
        "- I have deployed the model with the best accuracy as a webservice.\n",
        "- I have tested the webservice by sending a request to the model endpoint.\n",
        "- I have deleted the webservice and shutdown all the computes that I have used.\n",
        "- I have taken a screenshot showing the model endpoint as active.\n",
        "- The project includes a file containing the environment details.\n"
      ]
    },
    {
      "cell_type": "code",
      "execution_count": null,
      "metadata": {},
      "outputs": [],
      "source": []
    },
    {
      "cell_type": "markdown",
      "metadata": {},
      "source": []
    }
  ],
  "metadata": {
    "kernel_info": {
      "name": "python3-azureml"
    },
    "kernelspec": {
      "display_name": "Python 3.6 - AzureML",
      "language": "python",
      "name": "python3-azureml"
    },
    "language_info": {
      "codemirror_mode": {
        "name": "ipython",
        "version": 3
      },
      "file_extension": ".py",
      "mimetype": "text/x-python",
      "name": "python",
      "nbconvert_exporter": "python",
      "pygments_lexer": "ipython3",
      "version": "3.6.9"
    },
    "microsoft": {
      "host": {
        "AzureML": {
          "notebookHasBeenCompleted": true
        }
      }
    },
    "nteract": {
      "version": "nteract-front-end@1.0.0"
    }
  },
  "nbformat": 4,
  "nbformat_minor": 2
}
